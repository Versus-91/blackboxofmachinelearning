{
 "cells": [
  {
   "cell_type": "code",
   "execution_count": 2,
   "metadata": {},
   "outputs": [
    {
     "name": "stdout",
     "output_type": "stream",
     "text": [
      "Index(['buying', 'maint', 'doors', 'persons', 'lug_boot', 'safety'], dtype='object')\n"
     ]
    },
    {
     "name": "stderr",
     "output_type": "stream",
     "text": [
      "100%|██████████| 7/7 [00:00<00:00,  9.42it/s]\n"
     ]
    },
    {
     "data": {
      "text/html": [
       "<div>\n",
       "<style scoped>\n",
       "    .dataframe tbody tr th:only-of-type {\n",
       "        vertical-align: middle;\n",
       "    }\n",
       "\n",
       "    .dataframe tbody tr th {\n",
       "        vertical-align: top;\n",
       "    }\n",
       "\n",
       "    .dataframe thead th {\n",
       "        text-align: right;\n",
       "    }\n",
       "</style>\n",
       "<table border=\"1\" class=\"dataframe\">\n",
       "  <thead>\n",
       "    <tr style=\"text-align: right;\">\n",
       "      <th></th>\n",
       "      <th>Accuracy</th>\n",
       "      <th>Balanced Accuracy</th>\n",
       "      <th>ROC AUC</th>\n",
       "      <th>F1 Score</th>\n",
       "      <th>Time Taken</th>\n",
       "    </tr>\n",
       "    <tr>\n",
       "      <th>Model</th>\n",
       "      <th></th>\n",
       "      <th></th>\n",
       "      <th></th>\n",
       "      <th></th>\n",
       "      <th></th>\n",
       "    </tr>\n",
       "  </thead>\n",
       "  <tbody>\n",
       "    <tr>\n",
       "      <th>MLPClassifier</th>\n",
       "      <td>0.99</td>\n",
       "      <td>0.99</td>\n",
       "      <td>0.99</td>\n",
       "      <td>0.99</td>\n",
       "      <td>0.35</td>\n",
       "    </tr>\n",
       "    <tr>\n",
       "      <th>LogisticRegression</th>\n",
       "      <td>0.99</td>\n",
       "      <td>0.98</td>\n",
       "      <td>0.98</td>\n",
       "      <td>0.99</td>\n",
       "      <td>0.02</td>\n",
       "    </tr>\n",
       "    <tr>\n",
       "      <th>XGBClassifier</th>\n",
       "      <td>0.98</td>\n",
       "      <td>0.98</td>\n",
       "      <td>0.98</td>\n",
       "      <td>0.98</td>\n",
       "      <td>0.10</td>\n",
       "    </tr>\n",
       "    <tr>\n",
       "      <th>SVC</th>\n",
       "      <td>0.98</td>\n",
       "      <td>0.98</td>\n",
       "      <td>0.98</td>\n",
       "      <td>0.98</td>\n",
       "      <td>0.02</td>\n",
       "    </tr>\n",
       "    <tr>\n",
       "      <th>RandomForestClassifier</th>\n",
       "      <td>0.97</td>\n",
       "      <td>0.97</td>\n",
       "      <td>0.97</td>\n",
       "      <td>0.97</td>\n",
       "      <td>0.21</td>\n",
       "    </tr>\n",
       "    <tr>\n",
       "      <th>KNeighborsClassifier</th>\n",
       "      <td>0.96</td>\n",
       "      <td>0.96</td>\n",
       "      <td>0.96</td>\n",
       "      <td>0.96</td>\n",
       "      <td>0.03</td>\n",
       "    </tr>\n",
       "    <tr>\n",
       "      <th>DecisionTreeClassifier</th>\n",
       "      <td>0.93</td>\n",
       "      <td>0.93</td>\n",
       "      <td>0.93</td>\n",
       "      <td>0.93</td>\n",
       "      <td>0.01</td>\n",
       "    </tr>\n",
       "  </tbody>\n",
       "</table>\n",
       "</div>"
      ],
      "text/plain": [
       "                        Accuracy  Balanced Accuracy  ROC AUC  F1 Score  \\\n",
       "Model                                                                    \n",
       "MLPClassifier               0.99               0.99     0.99      0.99   \n",
       "LogisticRegression          0.99               0.98     0.98      0.99   \n",
       "XGBClassifier               0.98               0.98     0.98      0.98   \n",
       "SVC                         0.98               0.98     0.98      0.98   \n",
       "RandomForestClassifier      0.97               0.97     0.97      0.97   \n",
       "KNeighborsClassifier        0.96               0.96     0.96      0.96   \n",
       "DecisionTreeClassifier      0.93               0.93     0.93      0.93   \n",
       "\n",
       "                        Time Taken  \n",
       "Model                               \n",
       "MLPClassifier                 0.35  \n",
       "LogisticRegression            0.02  \n",
       "XGBClassifier                 0.10  \n",
       "SVC                           0.02  \n",
       "RandomForestClassifier        0.21  \n",
       "KNeighborsClassifier          0.03  \n",
       "DecisionTreeClassifier        0.01  "
      ]
     },
     "execution_count": 2,
     "metadata": {},
     "output_type": "execute_result"
    }
   ],
   "source": [
    "from sklearn.inspection import permutation_importance\n",
    "from sklearn.preprocessing import OrdinalEncoder\n",
    "from sklearn.ensemble import RandomForestClassifier\n",
    "import category_encoders as ce\n",
    "from sklearn.preprocessing import OrdinalEncoder\n",
    "from sklearn.preprocessing import MinMaxScaler\n",
    "from ucimlrepo import fetch_ucirepo\n",
    "import os\n",
    "import pdpbox as pdp\n",
    "from interpret import show\n",
    "from sklearn.metrics import accuracy_score\n",
    "from sklearn.metrics import roc_auc_score\n",
    "from sklearn.model_selection import train_test_split\n",
    "from sklearn.datasets import load_breast_cancer\n",
    "import numpy as np\n",
    "from interpret import set_visualize_provider\n",
    "from interpret.provider import InlineProvider\n",
    "from sklearn.linear_model import LogisticRegression\n",
    "import matplotlib.pyplot as plt\n",
    "import numpy as np\n",
    "import statsmodels\n",
    "import seaborn as sns\n",
    "import pandas as pd\n",
    "import pandas as pd\n",
    "import plotly.express as px\n",
    "import matplotlib.pyplot as plt\n",
    "import numpy as np\n",
    "import warnings\n",
    "from lazypredict.Supervised import LazyClassifier\n",
    "from lazypredict.Supervised import LazyClassifier\n",
    "from sklearn.datasets import load_breast_cancer\n",
    "import lazypredict\n",
    "from sklearn.ensemble._forest import RandomForestClassifier\n",
    "from sklearn.linear_model._logistic import LogisticRegression\n",
    "from sklearn.model_selection import train_test_split\n",
    "from sklearn.neighbors._classification import KNeighborsClassifier\n",
    "from sklearn.ensemble import RandomForestClassifier\n",
    "from sklearn.linear_model import LogisticRegression\n",
    "from sklearn.svm import SVC\n",
    "from sklearn.tree import DecisionTreeClassifier\n",
    "import xgboost as xgb\n",
    "from sklearn.neural_network import MLPClassifier\n",
    "from sklearn.model_selection import train_test_split\n",
    "from sklearn.metrics import accuracy_score, precision_score, recall_score, f1_score, confusion_matrix, classification_report\n",
    "from sklearn.preprocessing import LabelEncoder\n",
    "import pandas as pd\n",
    "import numpy as np\n",
    "from pdpbox import pdp, get_dataset, info_plots\n",
    "import matplotlib.pyplot as plt\n",
    "warnings.filterwarnings(\"ignore\")\n",
    "set_visualize_provider(InlineProvider())\n",
    "# fetch dataset\n",
    "car_evaluation = fetch_ucirepo(id=19)\n",
    "# data (as pandas dataframes)\n",
    "X = car_evaluation.data.features\n",
    "y = car_evaluation.data.targets\n",
    "feature_names = car_evaluation.feature_names\n",
    "print(X.columns)\n",
    "\n",
    "# variable information\n",
    "X_train, X_test, y_train, y_test = train_test_split(\n",
    "    X, y, test_size=0.33, random_state=42)\n",
    "\n",
    "encoder = ce.OrdinalEncoder(\n",
    "    cols=['buying', 'maint', 'doors', 'persons', 'lug_boot', 'safety'])\n",
    "\n",
    "X_train = encoder.fit_transform(X_train)\n",
    "X_test = encoder.transform(X_test)\n",
    "# import Random Forest classifier\n",
    "models_to_include = [\n",
    "    'svc', 'random_forest', 'kneighbors', 'gradient_boosting', 'decision_tree'\n",
    "]\n",
    "\n",
    "data = load_breast_cancer()\n",
    "X = data.data\n",
    "y = data.target\n",
    "X_train, X_test, y_train, y_test = train_test_split(\n",
    "    X, y, test_size=.5, random_state=123)\n",
    "clf = LazyClassifier(verbose=0,\n",
    "                     ignore_warnings=True,\n",
    "                     custom_metric=None,\n",
    "                     predictions=True,\n",
    "                     classifiers=[RandomForestClassifier, LogisticRegression, KNeighborsClassifier, MLPClassifier, DecisionTreeClassifier, SVC, xgb.XGBClassifier])\n",
    "models, predictions = clf.fit(X_train, X_test, y_train, y_test)\n",
    "models"
   ]
  },
  {
   "cell_type": "code",
   "execution_count": 7,
   "metadata": {},
   "outputs": [
    {
     "name": "stdout",
     "output_type": "stream",
     "text": [
      "<class 'pandas.core.frame.DataFrame'>\n"
     ]
    }
   ],
   "source": [
    "from tabulate import tabulate\n",
    "\n",
    "print(type(models))\n",
    "with open(\"summary.latext\", \"w\") as f:\n",
    "    f.write(models.to_latex())"
   ]
  },
  {
   "cell_type": "code",
   "execution_count": 23,
   "metadata": {},
   "outputs": [
    {
     "name": "stdout",
     "output_type": "stream",
     "text": [
      "obtain pred_func from the provided model.\n"
     ]
    },
    {
     "data": {
      "application/vnd.jupyter.widget-view+json": {
       "model_id": "9eeb08e7515441c382a2e346f230617f",
       "version_major": 2,
       "version_minor": 0
      },
      "text/plain": [
       "  0%|          | 0/4 [00:00<?, ?it/s]"
      ]
     },
     "metadata": {},
     "output_type": "display_data"
    },
    {
     "data": {
      "application/vnd.plotly.v1+json": {
       "config": {
        "plotlyServerURL": "https://plot.ly"
       },
       "data": [
        {
         "hoverinfo": "none",
         "line": {
          "color": "rgba(193,217,237,0.5)",
          "width": 0.5
         },
         "mode": "lines",
         "type": "scatter",
         "x": [
          0,
          1,
          2,
          3
         ],
         "xaxis": "x",
         "y": [
          0,
          0,
          0.1,
          1
         ],
         "yaxis": "y"
        },
        {
         "hoverinfo": "none",
         "line": {
          "color": "rgba(177,210,231,0.5)",
          "width": 0.5
         },
         "mode": "lines",
         "type": "scatter",
         "x": [
          0,
          1,
          2,
          3
         ],
         "xaxis": "x",
         "y": [
          0,
          0,
          0,
          0.1
         ],
         "yaxis": "y"
        },
        {
         "hoverinfo": "none",
         "line": {
          "color": "rgba(160,202,225,0.5)",
          "width": 0.5
         },
         "mode": "lines",
         "type": "scatter",
         "x": [
          0,
          1,
          2,
          3
         ],
         "xaxis": "x",
         "y": [
          0,
          0,
          0.9,
          0.7000000000000001
         ],
         "yaxis": "y"
        },
        {
         "hoverinfo": "none",
         "line": {
          "color": "rgba(139,192,221,0.5)",
          "width": 0.5
         },
         "mode": "lines",
         "type": "scatter",
         "x": [
          0,
          1,
          2,
          3
         ],
         "xaxis": "x",
         "y": [
          0,
          0,
          0.8,
          0.3
         ],
         "yaxis": "y"
        },
        {
         "hoverinfo": "none",
         "line": {
          "color": "rgba(117,179,216,0.5)",
          "width": 0.5
         },
         "mode": "lines",
         "type": "scatter",
         "x": [
          0,
          1,
          2,
          3
         ],
         "xaxis": "x",
         "y": [
          0,
          0,
          0.1,
          1
         ],
         "yaxis": "y"
        },
        {
         "hoverinfo": "none",
         "line": {
          "color": "rgba(98,168,210,0.5)",
          "width": 0.5
         },
         "mode": "lines",
         "type": "scatter",
         "x": [
          0,
          1,
          2,
          3
         ],
         "xaxis": "x",
         "y": [
          0,
          0,
          1,
          0.8
         ],
         "yaxis": "y"
        },
        {
         "hoverinfo": "none",
         "line": {
          "color": "rgba(80,155,203,0.5)",
          "width": 0.5
         },
         "mode": "lines",
         "type": "scatter",
         "x": [
          0,
          1,
          2,
          3
         ],
         "xaxis": "x",
         "y": [
          0,
          0,
          0.9,
          0.8
         ],
         "yaxis": "y"
        },
        {
         "hoverinfo": "none",
         "line": {
          "color": "rgba(64,144,197,0.5)",
          "width": 0.5
         },
         "mode": "lines",
         "type": "scatter",
         "x": [
          0,
          1,
          2,
          3
         ],
         "xaxis": "x",
         "y": [
          0,
          0,
          0,
          0
         ],
         "yaxis": "y"
        },
        {
         "hoverinfo": "none",
         "line": {
          "color": "rgba(49,129,189,0.5)",
          "width": 0.5
         },
         "mode": "lines",
         "type": "scatter",
         "x": [
          0,
          1,
          2,
          3
         ],
         "xaxis": "x",
         "y": [
          0,
          0,
          0,
          0
         ],
         "yaxis": "y"
        },
        {
         "hoverinfo": "none",
         "line": {
          "color": "rgba(36,116,182,0.5)",
          "width": 0.5
         },
         "mode": "lines",
         "type": "scatter",
         "x": [
          0,
          1,
          2,
          3
         ],
         "xaxis": "x",
         "y": [
          0,
          0,
          0.1,
          0.3
         ],
         "yaxis": "y"
        },
        {
         "hoverinfo": "none",
         "line": {
          "color": "rgba(193,217,237,0.5)",
          "width": 0.5
         },
         "mode": "lines",
         "type": "scatter",
         "x": [
          0,
          1,
          2,
          3
         ],
         "xaxis": "x",
         "y": [
          0,
          0,
          0,
          0
         ],
         "yaxis": "y"
        },
        {
         "hoverinfo": "none",
         "line": {
          "color": "rgba(177,210,231,0.5)",
          "width": 0.5
         },
         "mode": "lines",
         "type": "scatter",
         "x": [
          0,
          1,
          2,
          3
         ],
         "xaxis": "x",
         "y": [
          0,
          0,
          0,
          0
         ],
         "yaxis": "y"
        },
        {
         "hoverinfo": "none",
         "line": {
          "color": "rgba(160,202,225,0.5)",
          "width": 0.5
         },
         "mode": "lines",
         "type": "scatter",
         "x": [
          0,
          1,
          2,
          3
         ],
         "xaxis": "x",
         "y": [
          0,
          0,
          0,
          0
         ],
         "yaxis": "y"
        },
        {
         "hoverinfo": "none",
         "line": {
          "color": "rgba(139,192,221,0.5)",
          "width": 0.5
         },
         "mode": "lines",
         "type": "scatter",
         "x": [
          0,
          1,
          2,
          3
         ],
         "xaxis": "x",
         "y": [
          0,
          0,
          0,
          0
         ],
         "yaxis": "y"
        },
        {
         "hoverinfo": "none",
         "line": {
          "color": "rgba(117,179,216,0.5)",
          "width": 0.5
         },
         "mode": "lines",
         "type": "scatter",
         "x": [
          0,
          1,
          2,
          3
         ],
         "xaxis": "x",
         "y": [
          0,
          0,
          1,
          0.8
         ],
         "yaxis": "y"
        },
        {
         "hoverinfo": "none",
         "line": {
          "color": "rgba(98,168,210,0.5)",
          "width": 0.5
         },
         "mode": "lines",
         "type": "scatter",
         "x": [
          0,
          1,
          2,
          3
         ],
         "xaxis": "x",
         "y": [
          0,
          0,
          1,
          1
         ],
         "yaxis": "y"
        },
        {
         "hoverinfo": "none",
         "line": {
          "color": "rgba(80,155,203,0.5)",
          "width": 0.5
         },
         "mode": "lines",
         "type": "scatter",
         "x": [
          0,
          1,
          2,
          3
         ],
         "xaxis": "x",
         "y": [
          0,
          0,
          0.7,
          0.9
         ],
         "yaxis": "y"
        },
        {
         "hoverinfo": "none",
         "line": {
          "color": "rgba(64,144,197,0.5)",
          "width": 0.5
         },
         "mode": "lines",
         "type": "scatter",
         "x": [
          0,
          1,
          2,
          3
         ],
         "xaxis": "x",
         "y": [
          0,
          0,
          0,
          0
         ],
         "yaxis": "y"
        },
        {
         "hoverinfo": "none",
         "line": {
          "color": "rgba(49,129,189,0.5)",
          "width": 0.5
         },
         "mode": "lines",
         "type": "scatter",
         "x": [
          0,
          1,
          2,
          3
         ],
         "xaxis": "x",
         "y": [
          0,
          0,
          0.9,
          0.2
         ],
         "yaxis": "y"
        },
        {
         "hoverinfo": "none",
         "line": {
          "color": "rgba(36,116,182,0.5)",
          "width": 0.5
         },
         "mode": "lines",
         "type": "scatter",
         "x": [
          0,
          1,
          2,
          3
         ],
         "xaxis": "x",
         "y": [
          0,
          0,
          1,
          1
         ],
         "yaxis": "y"
        },
        {
         "hoverinfo": "none",
         "line": {
          "color": "rgba(193,217,237,0.5)",
          "width": 0.5
         },
         "mode": "lines",
         "type": "scatter",
         "x": [
          0,
          1,
          2,
          3
         ],
         "xaxis": "x",
         "y": [
          0,
          0,
          0.8,
          0.4
         ],
         "yaxis": "y"
        },
        {
         "hoverinfo": "none",
         "line": {
          "color": "rgba(177,210,231,0.5)",
          "width": 0.5
         },
         "mode": "lines",
         "type": "scatter",
         "x": [
          0,
          1,
          2,
          3
         ],
         "xaxis": "x",
         "y": [
          0,
          0,
          0.1,
          0.9
         ],
         "yaxis": "y"
        },
        {
         "hoverinfo": "none",
         "line": {
          "color": "rgba(160,202,225,0.5)",
          "width": 0.5
         },
         "mode": "lines",
         "type": "scatter",
         "x": [
          0,
          1,
          2,
          3
         ],
         "xaxis": "x",
         "y": [
          0,
          0,
          0.9,
          0.2
         ],
         "yaxis": "y"
        },
        {
         "hoverinfo": "none",
         "line": {
          "color": "rgba(139,192,221,0.5)",
          "width": 0.5
         },
         "mode": "lines",
         "type": "scatter",
         "x": [
          0,
          1,
          2,
          3
         ],
         "xaxis": "x",
         "y": [
          0,
          0,
          0.9,
          0.2
         ],
         "yaxis": "y"
        },
        {
         "hoverinfo": "none",
         "line": {
          "color": "rgba(117,179,216,0.5)",
          "width": 0.5
         },
         "mode": "lines",
         "type": "scatter",
         "x": [
          0,
          1,
          2,
          3
         ],
         "xaxis": "x",
         "y": [
          0,
          0,
          0,
          0
         ],
         "yaxis": "y"
        },
        {
         "hoverinfo": "none",
         "line": {
          "color": "rgba(98,168,210,0.5)",
          "width": 0.5
         },
         "mode": "lines",
         "type": "scatter",
         "x": [
          0,
          1,
          2,
          3
         ],
         "xaxis": "x",
         "y": [
          0,
          0,
          0,
          0
         ],
         "yaxis": "y"
        },
        {
         "hoverinfo": "none",
         "line": {
          "color": "rgba(80,155,203,0.5)",
          "width": 0.5
         },
         "mode": "lines",
         "type": "scatter",
         "x": [
          0,
          1,
          2,
          3
         ],
         "xaxis": "x",
         "y": [
          0,
          0,
          0,
          1
         ],
         "yaxis": "y"
        },
        {
         "hoverinfo": "none",
         "line": {
          "color": "rgba(64,144,197,0.5)",
          "width": 0.5
         },
         "mode": "lines",
         "type": "scatter",
         "x": [
          0,
          1,
          2,
          3
         ],
         "xaxis": "x",
         "y": [
          0,
          0,
          0,
          0
         ],
         "yaxis": "y"
        },
        {
         "hoverinfo": "none",
         "line": {
          "color": "rgba(49,129,189,0.5)",
          "width": 0.5
         },
         "mode": "lines",
         "type": "scatter",
         "x": [
          0,
          1,
          2,
          3
         ],
         "xaxis": "x",
         "y": [
          0,
          0,
          0.9,
          1
         ],
         "yaxis": "y"
        },
        {
         "hoverinfo": "none",
         "line": {
          "color": "rgba(36,116,182,0.5)",
          "width": 0.5
         },
         "mode": "lines",
         "type": "scatter",
         "x": [
          0,
          1,
          2,
          3
         ],
         "xaxis": "x",
         "y": [
          0,
          0,
          0.1,
          0.5
         ],
         "yaxis": "y"
        },
        {
         "hoverinfo": "none",
         "line": {
          "color": "rgba(193,217,237,0.5)",
          "width": 0.5
         },
         "mode": "lines",
         "type": "scatter",
         "x": [
          0,
          1,
          2,
          3
         ],
         "xaxis": "x",
         "y": [
          0,
          0,
          0,
          0
         ],
         "yaxis": "y"
        },
        {
         "hoverinfo": "none",
         "line": {
          "color": "rgba(177,210,231,0.5)",
          "width": 0.5
         },
         "mode": "lines",
         "type": "scatter",
         "x": [
          0,
          1,
          2,
          3
         ],
         "xaxis": "x",
         "y": [
          0,
          0,
          0,
          0
         ],
         "yaxis": "y"
        },
        {
         "hoverinfo": "none",
         "line": {
          "color": "rgba(160,202,225,0.5)",
          "width": 0.5
         },
         "mode": "lines",
         "type": "scatter",
         "x": [
          0,
          1,
          2,
          3
         ],
         "xaxis": "x",
         "y": [
          0,
          0,
          0,
          0
         ],
         "yaxis": "y"
        },
        {
         "hoverinfo": "none",
         "line": {
          "color": "rgba(139,192,221,0.5)",
          "width": 0.5
         },
         "mode": "lines",
         "type": "scatter",
         "x": [
          0,
          1,
          2,
          3
         ],
         "xaxis": "x",
         "y": [
          0,
          0,
          0,
          0
         ],
         "yaxis": "y"
        },
        {
         "hoverinfo": "none",
         "line": {
          "color": "rgba(117,179,216,0.5)",
          "width": 0.5
         },
         "mode": "lines",
         "type": "scatter",
         "x": [
          0,
          1,
          2,
          3
         ],
         "xaxis": "x",
         "y": [
          0,
          0,
          1,
          0.9
         ],
         "yaxis": "y"
        },
        {
         "hoverinfo": "none",
         "line": {
          "color": "rgba(98,168,210,0.5)",
          "width": 0.5
         },
         "mode": "lines",
         "type": "scatter",
         "x": [
          0,
          1,
          2,
          3
         ],
         "xaxis": "x",
         "y": [
          0,
          0,
          0,
          0
         ],
         "yaxis": "y"
        },
        {
         "hoverinfo": "none",
         "line": {
          "color": "rgba(80,155,203,0.5)",
          "width": 0.5
         },
         "mode": "lines",
         "type": "scatter",
         "x": [
          0,
          1,
          2,
          3
         ],
         "xaxis": "x",
         "y": [
          0,
          0,
          0.9,
          0.8
         ],
         "yaxis": "y"
        },
        {
         "hoverinfo": "none",
         "line": {
          "color": "rgba(64,144,197,0.5)",
          "width": 0.5
         },
         "mode": "lines",
         "type": "scatter",
         "x": [
          0,
          1,
          2,
          3
         ],
         "xaxis": "x",
         "y": [
          0,
          0,
          0.8,
          0.7
         ],
         "yaxis": "y"
        },
        {
         "hoverinfo": "none",
         "line": {
          "color": "rgba(49,129,189,0.5)",
          "width": 0.5
         },
         "mode": "lines",
         "type": "scatter",
         "x": [
          0,
          1,
          2,
          3
         ],
         "xaxis": "x",
         "y": [
          0,
          0,
          0,
          0
         ],
         "yaxis": "y"
        },
        {
         "hoverinfo": "none",
         "line": {
          "color": "rgba(36,116,182,0.5)",
          "width": 0.5
         },
         "mode": "lines",
         "type": "scatter",
         "x": [
          0,
          1,
          2,
          3
         ],
         "xaxis": "x",
         "y": [
          0,
          0,
          1,
          1
         ],
         "yaxis": "y"
        },
        {
         "hoverinfo": "none",
         "line": {
          "color": "rgba(193,217,237,0.5)",
          "width": 0.5
         },
         "mode": "lines",
         "type": "scatter",
         "x": [
          0,
          1,
          2,
          3
         ],
         "xaxis": "x",
         "y": [
          0,
          0,
          1,
          0.4
         ],
         "yaxis": "y"
        },
        {
         "hoverinfo": "none",
         "line": {
          "color": "rgba(177,210,231,0.5)",
          "width": 0.5
         },
         "mode": "lines",
         "type": "scatter",
         "x": [
          0,
          1,
          2,
          3
         ],
         "xaxis": "x",
         "y": [
          0,
          0,
          0.1,
          0
         ],
         "yaxis": "y"
        },
        {
         "hoverinfo": "none",
         "line": {
          "color": "rgba(160,202,225,0.5)",
          "width": 0.5
         },
         "mode": "lines",
         "type": "scatter",
         "x": [
          0,
          1,
          2,
          3
         ],
         "xaxis": "x",
         "y": [
          0,
          0,
          1,
          0.5
         ],
         "yaxis": "y"
        },
        {
         "hoverinfo": "none",
         "line": {
          "color": "rgba(139,192,221,0.5)",
          "width": 0.5
         },
         "mode": "lines",
         "type": "scatter",
         "x": [
          0,
          1,
          2,
          3
         ],
         "xaxis": "x",
         "y": [
          0,
          0,
          0,
          0.3
         ],
         "yaxis": "y"
        },
        {
         "hoverinfo": "none",
         "line": {
          "color": "rgba(117,179,216,0.5)",
          "width": 0.5
         },
         "mode": "lines",
         "type": "scatter",
         "x": [
          0,
          1,
          2,
          3
         ],
         "xaxis": "x",
         "y": [
          0,
          0,
          0.1,
          0
         ],
         "yaxis": "y"
        },
        {
         "hoverinfo": "none",
         "line": {
          "color": "rgba(98,168,210,0.5)",
          "width": 0.5
         },
         "mode": "lines",
         "type": "scatter",
         "x": [
          0,
          1,
          2,
          3
         ],
         "xaxis": "x",
         "y": [
          0,
          0,
          0.1,
          1
         ],
         "yaxis": "y"
        },
        {
         "hoverinfo": "none",
         "line": {
          "color": "rgba(80,155,203,0.5)",
          "width": 0.5
         },
         "mode": "lines",
         "type": "scatter",
         "x": [
          0,
          1,
          2,
          3
         ],
         "xaxis": "x",
         "y": [
          0,
          0,
          0,
          0
         ],
         "yaxis": "y"
        },
        {
         "hoverinfo": "none",
         "line": {
          "color": "rgba(64,144,197,0.5)",
          "width": 0.5
         },
         "mode": "lines",
         "type": "scatter",
         "x": [
          0,
          1,
          2,
          3
         ],
         "xaxis": "x",
         "y": [
          0,
          0,
          1,
          0
         ],
         "yaxis": "y"
        },
        {
         "hoverinfo": "none",
         "line": {
          "color": "rgba(49,129,189,0.5)",
          "width": 0.5
         },
         "mode": "lines",
         "type": "scatter",
         "x": [
          0,
          1,
          2,
          3
         ],
         "xaxis": "x",
         "y": [
          0,
          0,
          1,
          1
         ],
         "yaxis": "y"
        },
        {
         "hoverinfo": "none",
         "line": {
          "color": "rgba(36,116,182,0.5)",
          "width": 0.5
         },
         "mode": "lines",
         "type": "scatter",
         "x": [
          0,
          1,
          2,
          3
         ],
         "xaxis": "x",
         "y": [
          0,
          0,
          0.7,
          0.4
         ],
         "yaxis": "y"
        },
        {
         "hoverinfo": "none",
         "line": {
          "color": "rgba(193,217,237,0.5)",
          "width": 0.5
         },
         "mode": "lines",
         "type": "scatter",
         "x": [
          0,
          1,
          2,
          3
         ],
         "xaxis": "x",
         "y": [
          0,
          0,
          1,
          0
         ],
         "yaxis": "y"
        },
        {
         "hoverinfo": "none",
         "line": {
          "color": "rgba(177,210,231,0.5)",
          "width": 0.5
         },
         "mode": "lines",
         "type": "scatter",
         "x": [
          0,
          1,
          2,
          3
         ],
         "xaxis": "x",
         "y": [
          0,
          0,
          0.9,
          1
         ],
         "yaxis": "y"
        },
        {
         "hoverinfo": "none",
         "line": {
          "color": "rgba(160,202,225,0.5)",
          "width": 0.5
         },
         "mode": "lines",
         "type": "scatter",
         "x": [
          0,
          1,
          2,
          3
         ],
         "xaxis": "x",
         "y": [
          0,
          0,
          0,
          0
         ],
         "yaxis": "y"
        },
        {
         "hoverinfo": "none",
         "line": {
          "color": "rgba(139,192,221,0.5)",
          "width": 0.5
         },
         "mode": "lines",
         "type": "scatter",
         "x": [
          0,
          1,
          2,
          3
         ],
         "xaxis": "x",
         "y": [
          0,
          0,
          0,
          0
         ],
         "yaxis": "y"
        },
        {
         "hoverinfo": "none",
         "line": {
          "color": "rgba(117,179,216,0.5)",
          "width": 0.5
         },
         "mode": "lines",
         "type": "scatter",
         "x": [
          0,
          1,
          2,
          3
         ],
         "xaxis": "x",
         "y": [
          0,
          0,
          0.9,
          0.1
         ],
         "yaxis": "y"
        },
        {
         "hoverinfo": "none",
         "line": {
          "color": "rgba(98,168,210,0.5)",
          "width": 0.5
         },
         "mode": "lines",
         "type": "scatter",
         "x": [
          0,
          1,
          2,
          3
         ],
         "xaxis": "x",
         "y": [
          0,
          0,
          0,
          0
         ],
         "yaxis": "y"
        },
        {
         "hoverinfo": "none",
         "line": {
          "color": "rgba(80,155,203,0.5)",
          "width": 0.5
         },
         "mode": "lines",
         "type": "scatter",
         "x": [
          0,
          1,
          2,
          3
         ],
         "xaxis": "x",
         "y": [
          0,
          0,
          0,
          0
         ],
         "yaxis": "y"
        },
        {
         "hoverinfo": "none",
         "line": {
          "color": "rgba(64,144,197,0.5)",
          "width": 0.5
         },
         "mode": "lines",
         "type": "scatter",
         "x": [
          0,
          1,
          2,
          3
         ],
         "xaxis": "x",
         "y": [
          0,
          0,
          1,
          1
         ],
         "yaxis": "y"
        },
        {
         "hoverinfo": "none",
         "line": {
          "color": "rgba(49,129,189,0.5)",
          "width": 0.5
         },
         "mode": "lines",
         "type": "scatter",
         "x": [
          0,
          1,
          2,
          3
         ],
         "xaxis": "x",
         "y": [
          0,
          0,
          0,
          0
         ],
         "yaxis": "y"
        },
        {
         "hoverinfo": "none",
         "line": {
          "color": "rgba(36,116,182,0.5)",
          "width": 0.5
         },
         "mode": "lines",
         "type": "scatter",
         "x": [
          0,
          1,
          2,
          3
         ],
         "xaxis": "x",
         "y": [
          0,
          0,
          1,
          0.8
         ],
         "yaxis": "y"
        },
        {
         "hoverinfo": "none",
         "line": {
          "color": "rgba(193,217,237,0.5)",
          "width": 0.5
         },
         "mode": "lines",
         "type": "scatter",
         "x": [
          0,
          1,
          2,
          3
         ],
         "xaxis": "x",
         "y": [
          0,
          0,
          0.1,
          0.1
         ],
         "yaxis": "y"
        },
        {
         "hoverinfo": "none",
         "line": {
          "color": "rgba(177,210,231,0.5)",
          "width": 0.5
         },
         "mode": "lines",
         "type": "scatter",
         "x": [
          0,
          1,
          2,
          3
         ],
         "xaxis": "x",
         "y": [
          0,
          0,
          0.9,
          0.8
         ],
         "yaxis": "y"
        },
        {
         "hoverinfo": "none",
         "line": {
          "color": "rgba(160,202,225,0.5)",
          "width": 0.5
         },
         "mode": "lines",
         "type": "scatter",
         "x": [
          0,
          1,
          2,
          3
         ],
         "xaxis": "x",
         "y": [
          0,
          0,
          0,
          0
         ],
         "yaxis": "y"
        },
        {
         "hoverinfo": "none",
         "line": {
          "color": "rgba(139,192,221,0.5)",
          "width": 0.5
         },
         "mode": "lines",
         "type": "scatter",
         "x": [
          0,
          1,
          2,
          3
         ],
         "xaxis": "x",
         "y": [
          0,
          0,
          0,
          0
         ],
         "yaxis": "y"
        },
        {
         "hoverinfo": "none",
         "line": {
          "color": "rgba(117,179,216,0.5)",
          "width": 0.5
         },
         "mode": "lines",
         "type": "scatter",
         "x": [
          0,
          1,
          2,
          3
         ],
         "xaxis": "x",
         "y": [
          0,
          0,
          0,
          0
         ],
         "yaxis": "y"
        },
        {
         "hoverinfo": "none",
         "line": {
          "color": "rgba(98,168,210,0.5)",
          "width": 0.5
         },
         "mode": "lines",
         "type": "scatter",
         "x": [
          0,
          1,
          2,
          3
         ],
         "xaxis": "x",
         "y": [
          0,
          0,
          0,
          0
         ],
         "yaxis": "y"
        },
        {
         "hoverinfo": "none",
         "line": {
          "color": "rgba(80,155,203,0.5)",
          "width": 0.5
         },
         "mode": "lines",
         "type": "scatter",
         "x": [
          0,
          1,
          2,
          3
         ],
         "xaxis": "x",
         "y": [
          0,
          0,
          0.1,
          0.1
         ],
         "yaxis": "y"
        },
        {
         "hoverinfo": "none",
         "line": {
          "color": "rgba(64,144,197,0.5)",
          "width": 0.5
         },
         "mode": "lines",
         "type": "scatter",
         "x": [
          0,
          1,
          2,
          3
         ],
         "xaxis": "x",
         "y": [
          0,
          0,
          0.6,
          0.2
         ],
         "yaxis": "y"
        },
        {
         "hoverinfo": "none",
         "line": {
          "color": "rgba(49,129,189,0.5)",
          "width": 0.5
         },
         "mode": "lines",
         "type": "scatter",
         "x": [
          0,
          1,
          2,
          3
         ],
         "xaxis": "x",
         "y": [
          0,
          0,
          0,
          0
         ],
         "yaxis": "y"
        },
        {
         "hoverinfo": "none",
         "line": {
          "color": "rgba(36,116,182,0.5)",
          "width": 0.5
         },
         "mode": "lines",
         "type": "scatter",
         "x": [
          0,
          1,
          2,
          3
         ],
         "xaxis": "x",
         "y": [
          0,
          0,
          0,
          0.1
         ],
         "yaxis": "y"
        },
        {
         "hoverinfo": "none",
         "line": {
          "color": "rgba(193,217,237,0.5)",
          "width": 0.5
         },
         "mode": "lines",
         "type": "scatter",
         "x": [
          0,
          1,
          2,
          3
         ],
         "xaxis": "x",
         "y": [
          0,
          0,
          0,
          0.7
         ],
         "yaxis": "y"
        },
        {
         "hoverinfo": "none",
         "line": {
          "color": "rgba(177,210,231,0.5)",
          "width": 0.5
         },
         "mode": "lines",
         "type": "scatter",
         "x": [
          0,
          1,
          2,
          3
         ],
         "xaxis": "x",
         "y": [
          0,
          0,
          0,
          0
         ],
         "yaxis": "y"
        },
        {
         "hoverinfo": "none",
         "line": {
          "color": "rgba(160,202,225,0.5)",
          "width": 0.5
         },
         "mode": "lines",
         "type": "scatter",
         "x": [
          0,
          1,
          2,
          3
         ],
         "xaxis": "x",
         "y": [
          0,
          0,
          0.8,
          0
         ],
         "yaxis": "y"
        },
        {
         "hoverinfo": "none",
         "line": {
          "color": "rgba(139,192,221,0.5)",
          "width": 0.5
         },
         "mode": "lines",
         "type": "scatter",
         "x": [
          0,
          1,
          2,
          3
         ],
         "xaxis": "x",
         "y": [
          0,
          0,
          1,
          0.2
         ],
         "yaxis": "y"
        },
        {
         "hoverinfo": "none",
         "line": {
          "color": "rgba(117,179,216,0.5)",
          "width": 0.5
         },
         "mode": "lines",
         "type": "scatter",
         "x": [
          0,
          1,
          2,
          3
         ],
         "xaxis": "x",
         "y": [
          0,
          0,
          0.1,
          0.1
         ],
         "yaxis": "y"
        },
        {
         "hoverinfo": "none",
         "line": {
          "color": "rgba(98,168,210,0.5)",
          "width": 0.5
         },
         "mode": "lines",
         "type": "scatter",
         "x": [
          0,
          1,
          2,
          3
         ],
         "xaxis": "x",
         "y": [
          0,
          0,
          0,
          0
         ],
         "yaxis": "y"
        },
        {
         "hoverinfo": "none",
         "line": {
          "color": "rgba(80,155,203,0.5)",
          "width": 0.5
         },
         "mode": "lines",
         "type": "scatter",
         "x": [
          0,
          1,
          2,
          3
         ],
         "xaxis": "x",
         "y": [
          0,
          0,
          1,
          0.7
         ],
         "yaxis": "y"
        },
        {
         "hoverinfo": "none",
         "line": {
          "color": "rgba(64,144,197,0.5)",
          "width": 0.5
         },
         "mode": "lines",
         "type": "scatter",
         "x": [
          0,
          1,
          2,
          3
         ],
         "xaxis": "x",
         "y": [
          0,
          0,
          1,
          0.9
         ],
         "yaxis": "y"
        },
        {
         "hoverinfo": "none",
         "line": {
          "color": "rgba(49,129,189,0.5)",
          "width": 0.5
         },
         "mode": "lines",
         "type": "scatter",
         "x": [
          0,
          1,
          2,
          3
         ],
         "xaxis": "x",
         "y": [
          0,
          0,
          1,
          0.2
         ],
         "yaxis": "y"
        },
        {
         "hoverinfo": "none",
         "line": {
          "color": "rgba(36,116,182,0.5)",
          "width": 0.5
         },
         "mode": "lines",
         "type": "scatter",
         "x": [
          0,
          1,
          2,
          3
         ],
         "xaxis": "x",
         "y": [
          0,
          0,
          0.9,
          0.8
         ],
         "yaxis": "y"
        },
        {
         "hoverinfo": "none",
         "line": {
          "color": "rgba(193,217,237,0.5)",
          "width": 0.5
         },
         "mode": "lines",
         "type": "scatter",
         "x": [
          0,
          1,
          2,
          3
         ],
         "xaxis": "x",
         "y": [
          0,
          0,
          0,
          0
         ],
         "yaxis": "y"
        },
        {
         "hoverinfo": "none",
         "line": {
          "color": "rgba(177,210,231,0.5)",
          "width": 0.5
         },
         "mode": "lines",
         "type": "scatter",
         "x": [
          0,
          1,
          2,
          3
         ],
         "xaxis": "x",
         "y": [
          0,
          0,
          0.1,
          0
         ],
         "yaxis": "y"
        },
        {
         "hoverinfo": "none",
         "line": {
          "color": "rgba(160,202,225,0.5)",
          "width": 0.5
         },
         "mode": "lines",
         "type": "scatter",
         "x": [
          0,
          1,
          2,
          3
         ],
         "xaxis": "x",
         "y": [
          0,
          0,
          0,
          0
         ],
         "yaxis": "y"
        },
        {
         "hoverinfo": "none",
         "line": {
          "color": "rgba(139,192,221,0.5)",
          "width": 0.5
         },
         "mode": "lines",
         "type": "scatter",
         "x": [
          0,
          1,
          2,
          3
         ],
         "xaxis": "x",
         "y": [
          0,
          0,
          0.1,
          0
         ],
         "yaxis": "y"
        },
        {
         "hoverinfo": "none",
         "line": {
          "color": "rgba(117,179,216,0.5)",
          "width": 0.5
         },
         "mode": "lines",
         "type": "scatter",
         "x": [
          0,
          1,
          2,
          3
         ],
         "xaxis": "x",
         "y": [
          0,
          0,
          0,
          0
         ],
         "yaxis": "y"
        },
        {
         "hoverinfo": "none",
         "line": {
          "color": "rgba(98,168,210,0.5)",
          "width": 0.5
         },
         "mode": "lines",
         "type": "scatter",
         "x": [
          0,
          1,
          2,
          3
         ],
         "xaxis": "x",
         "y": [
          0,
          0,
          0,
          0
         ],
         "yaxis": "y"
        },
        {
         "hoverinfo": "none",
         "line": {
          "color": "rgba(80,155,203,0.5)",
          "width": 0.5
         },
         "mode": "lines",
         "type": "scatter",
         "x": [
          0,
          1,
          2,
          3
         ],
         "xaxis": "x",
         "y": [
          0,
          0,
          0.9,
          0.6
         ],
         "yaxis": "y"
        },
        {
         "hoverinfo": "none",
         "line": {
          "color": "rgba(64,144,197,0.5)",
          "width": 0.5
         },
         "mode": "lines",
         "type": "scatter",
         "x": [
          0,
          1,
          2,
          3
         ],
         "xaxis": "x",
         "y": [
          0,
          0,
          1,
          0
         ],
         "yaxis": "y"
        },
        {
         "hoverinfo": "none",
         "line": {
          "color": "rgba(49,129,189,0.5)",
          "width": 0.5
         },
         "mode": "lines",
         "type": "scatter",
         "x": [
          0,
          1,
          2,
          3
         ],
         "xaxis": "x",
         "y": [
          0,
          0,
          0,
          0
         ],
         "yaxis": "y"
        },
        {
         "hoverinfo": "none",
         "line": {
          "color": "rgba(36,116,182,0.5)",
          "width": 0.5
         },
         "mode": "lines",
         "type": "scatter",
         "x": [
          0,
          1,
          2,
          3
         ],
         "xaxis": "x",
         "y": [
          0,
          0,
          0,
          0
         ],
         "yaxis": "y"
        },
        {
         "hoverinfo": "none",
         "line": {
          "color": "rgba(193,217,237,0.5)",
          "width": 0.5
         },
         "mode": "lines",
         "type": "scatter",
         "x": [
          0,
          1,
          2,
          3
         ],
         "xaxis": "x",
         "y": [
          0,
          0,
          0,
          0
         ],
         "yaxis": "y"
        },
        {
         "hoverinfo": "none",
         "line": {
          "color": "rgba(177,210,231,0.5)",
          "width": 0.5
         },
         "mode": "lines",
         "type": "scatter",
         "x": [
          0,
          1,
          2,
          3
         ],
         "xaxis": "x",
         "y": [
          0,
          0,
          0.1,
          0
         ],
         "yaxis": "y"
        },
        {
         "hoverinfo": "none",
         "line": {
          "color": "rgba(160,202,225,0.5)",
          "width": 0.5
         },
         "mode": "lines",
         "type": "scatter",
         "x": [
          0,
          1,
          2,
          3
         ],
         "xaxis": "x",
         "y": [
          0,
          0,
          0,
          0
         ],
         "yaxis": "y"
        },
        {
         "hoverinfo": "none",
         "line": {
          "color": "rgba(139,192,221,0.5)",
          "width": 0.5
         },
         "mode": "lines",
         "type": "scatter",
         "x": [
          0,
          1,
          2,
          3
         ],
         "xaxis": "x",
         "y": [
          0,
          0,
          0.6,
          1
         ],
         "yaxis": "y"
        },
        {
         "hoverinfo": "none",
         "line": {
          "color": "rgba(117,179,216,0.5)",
          "width": 0.5
         },
         "mode": "lines",
         "type": "scatter",
         "x": [
          0,
          1,
          2,
          3
         ],
         "xaxis": "x",
         "y": [
          0,
          0,
          0,
          0.1
         ],
         "yaxis": "y"
        },
        {
         "hoverinfo": "none",
         "line": {
          "color": "rgba(98,168,210,0.5)",
          "width": 0.5
         },
         "mode": "lines",
         "type": "scatter",
         "x": [
          0,
          1,
          2,
          3
         ],
         "xaxis": "x",
         "y": [
          0,
          0,
          0,
          0
         ],
         "yaxis": "y"
        },
        {
         "hoverinfo": "none",
         "line": {
          "color": "rgba(80,155,203,0.5)",
          "width": 0.5
         },
         "mode": "lines",
         "type": "scatter",
         "x": [
          0,
          1,
          2,
          3
         ],
         "xaxis": "x",
         "y": [
          0,
          0,
          0,
          0
         ],
         "yaxis": "y"
        },
        {
         "hoverinfo": "none",
         "line": {
          "color": "rgba(64,144,197,0.5)",
          "width": 0.5
         },
         "mode": "lines",
         "type": "scatter",
         "x": [
          0,
          1,
          2,
          3
         ],
         "xaxis": "x",
         "y": [
          0,
          0,
          0.1,
          1
         ],
         "yaxis": "y"
        },
        {
         "hoverinfo": "none",
         "line": {
          "color": "rgba(49,129,189,0.5)",
          "width": 0.5
         },
         "mode": "lines",
         "type": "scatter",
         "x": [
          0,
          1,
          2,
          3
         ],
         "xaxis": "x",
         "y": [
          0,
          0,
          0,
          0
         ],
         "yaxis": "y"
        },
        {
         "hoverinfo": "none",
         "line": {
          "color": "rgba(36,116,182,0.5)",
          "width": 0.5
         },
         "mode": "lines",
         "type": "scatter",
         "x": [
          0,
          1,
          2,
          3
         ],
         "xaxis": "x",
         "y": [
          0,
          0,
          1,
          0
         ],
         "yaxis": "y"
        },
        {
         "hoverinfo": "none",
         "line": {
          "color": "#FEDC00",
          "width": 4.5
         },
         "mode": "lines",
         "type": "scatter",
         "x": [
          0,
          1,
          2,
          3
         ],
         "xaxis": "x",
         "y": [
          0,
          0,
          0.3468452895419188,
          0.30034572169403634
         ],
         "yaxis": "y"
        },
        {
         "hoverinfo": "none",
         "line": {
          "color": "#E75438",
          "dash": "dash",
          "width": 1.5
         },
         "mode": "lines",
         "type": "scatter",
         "x": [
          0,
          1,
          2,
          3
         ],
         "xaxis": "x",
         "y": [
          0,
          0,
          0,
          0
         ],
         "yaxis": "y"
        },
        {
         "hovertemplate": "%{y}",
         "line": {
          "color": "rgba(8,48,107,1.0)",
          "width": 1.5
         },
         "marker": {
          "color": "rgba(8,48,107,1.0)",
          "size": 5
         },
         "mode": "lines+markers",
         "name": "pdp",
         "type": "scatter",
         "x": [
          0,
          1,
          2,
          3
         ],
         "xaxis": "x",
         "y": [
          0,
          0,
          0.3468452895419188,
          0.30034572169403634
         ],
         "yaxis": "y"
        },
        {
         "colorscale": [
          [
           0,
           "rgb(247,251,255)"
          ],
          [
           0.125,
           "rgb(222,235,247)"
          ],
          [
           0.25,
           "rgb(198,219,239)"
          ],
          [
           0.375,
           "rgb(158,202,225)"
          ],
          [
           0.5,
           "rgb(107,174,214)"
          ],
          [
           0.625,
           "rgb(66,146,198)"
          ],
          [
           0.75,
           "rgb(33,113,181)"
          ],
          [
           0.875,
           "rgb(8,81,156)"
          ],
          [
           1,
           "rgb(8,48,107)"
          ]
         ],
         "hovertemplate": "%{text}",
         "name": "dist",
         "opacity": 0.8,
         "showscale": false,
         "text": [
          [
           0.334,
           0.666
          ]
         ],
         "texttemplate": "%{text}",
         "type": "heatmap",
         "x": [
          0,
          2
         ],
         "xaxis": "x4",
         "xgap": 2,
         "y": [
          0
         ],
         "yaxis": "y4",
         "z": [
          [
           0.33362143474503025,
           0.6663785652549697
          ]
         ],
         "zmax": 0.6663785652549697,
         "zmin": 0
        },
        {
         "hoverinfo": "none",
         "line": {
          "color": "rgba(195,231,188,0.5)",
          "width": 0.5
         },
         "mode": "lines",
         "type": "scatter",
         "x": [
          0,
          1,
          2,
          3
         ],
         "xaxis": "x2",
         "y": [
          0,
          0,
          0,
          0
         ],
         "yaxis": "y2"
        },
        {
         "hoverinfo": "none",
         "line": {
          "color": "rgba(179,224,173,0.5)",
          "width": 0.5
         },
         "mode": "lines",
         "type": "scatter",
         "x": [
          0,
          1,
          2,
          3
         ],
         "xaxis": "x2",
         "y": [
          0,
          0,
          0,
          0
         ],
         "yaxis": "y2"
        },
        {
         "hoverinfo": "none",
         "line": {
          "color": "rgba(162,217,156,0.5)",
          "width": 0.5
         },
         "mode": "lines",
         "type": "scatter",
         "x": [
          0,
          1,
          2,
          3
         ],
         "xaxis": "x2",
         "y": [
          0,
          0,
          0,
          0
         ],
         "yaxis": "y2"
        },
        {
         "hoverinfo": "none",
         "line": {
          "color": "rgba(144,209,141,0.5)",
          "width": 0.5
         },
         "mode": "lines",
         "type": "scatter",
         "x": [
          0,
          1,
          2,
          3
         ],
         "xaxis": "x2",
         "y": [
          0,
          0,
          0,
          0
         ],
         "yaxis": "y2"
        },
        {
         "hoverinfo": "none",
         "line": {
          "color": "rgba(125,200,125,0.5)",
          "width": 0.5
         },
         "mode": "lines",
         "type": "scatter",
         "x": [
          0,
          1,
          2,
          3
         ],
         "xaxis": "x2",
         "y": [
          0,
          0,
          0,
          0
         ],
         "yaxis": "y2"
        },
        {
         "hoverinfo": "none",
         "line": {
          "color": "rgba(105,190,112,0.5)",
          "width": 0.5
         },
         "mode": "lines",
         "type": "scatter",
         "x": [
          0,
          1,
          2,
          3
         ],
         "xaxis": "x2",
         "y": [
          0,
          0,
          0.1,
          0
         ],
         "yaxis": "y2"
        },
        {
         "hoverinfo": "none",
         "line": {
          "color": "rgba(83,179,101,0.5)",
          "width": 0.5
         },
         "mode": "lines",
         "type": "scatter",
         "x": [
          0,
          1,
          2,
          3
         ],
         "xaxis": "x2",
         "y": [
          0,
          0,
          0.9,
          0.1
         ],
         "yaxis": "y2"
        },
        {
         "hoverinfo": "none",
         "line": {
          "color": "rgba(63,169,91,0.5)",
          "width": 0.5
         },
         "mode": "lines",
         "type": "scatter",
         "x": [
          0,
          1,
          2,
          3
         ],
         "xaxis": "x2",
         "y": [
          0,
          0,
          0,
          0
         ],
         "yaxis": "y2"
        },
        {
         "hoverinfo": "none",
         "line": {
          "color": "rgba(50,155,81,0.5)",
          "width": 0.5
         },
         "mode": "lines",
         "type": "scatter",
         "x": [
          0,
          1,
          2,
          3
         ],
         "xaxis": "x2",
         "y": [
          0,
          0,
          0,
          0
         ],
         "yaxis": "y2"
        },
        {
         "hoverinfo": "none",
         "line": {
          "color": "rgba(38,142,71,0.5)",
          "width": 0.5
         },
         "mode": "lines",
         "type": "scatter",
         "x": [
          0,
          1,
          2,
          3
         ],
         "xaxis": "x2",
         "y": [
          0,
          0,
          0,
          0
         ],
         "yaxis": "y2"
        },
        {
         "hoverinfo": "none",
         "line": {
          "color": "rgba(195,231,188,0.5)",
          "width": 0.5
         },
         "mode": "lines",
         "type": "scatter",
         "x": [
          0,
          1,
          2,
          3
         ],
         "xaxis": "x2",
         "y": [
          0,
          0,
          0,
          0
         ],
         "yaxis": "y2"
        },
        {
         "hoverinfo": "none",
         "line": {
          "color": "rgba(179,224,173,0.5)",
          "width": 0.5
         },
         "mode": "lines",
         "type": "scatter",
         "x": [
          0,
          1,
          2,
          3
         ],
         "xaxis": "x2",
         "y": [
          0,
          0,
          0,
          0
         ],
         "yaxis": "y2"
        },
        {
         "hoverinfo": "none",
         "line": {
          "color": "rgba(162,217,156,0.5)",
          "width": 0.5
         },
         "mode": "lines",
         "type": "scatter",
         "x": [
          0,
          1,
          2,
          3
         ],
         "xaxis": "x2",
         "y": [
          0,
          0,
          0,
          0
         ],
         "yaxis": "y2"
        },
        {
         "hoverinfo": "none",
         "line": {
          "color": "rgba(144,209,141,0.5)",
          "width": 0.5
         },
         "mode": "lines",
         "type": "scatter",
         "x": [
          0,
          1,
          2,
          3
         ],
         "xaxis": "x2",
         "y": [
          0,
          0,
          0,
          0
         ],
         "yaxis": "y2"
        },
        {
         "hoverinfo": "none",
         "line": {
          "color": "rgba(125,200,125,0.5)",
          "width": 0.5
         },
         "mode": "lines",
         "type": "scatter",
         "x": [
          0,
          1,
          2,
          3
         ],
         "xaxis": "x2",
         "y": [
          0,
          0,
          0,
          0
         ],
         "yaxis": "y2"
        },
        {
         "hoverinfo": "none",
         "line": {
          "color": "rgba(105,190,112,0.5)",
          "width": 0.5
         },
         "mode": "lines",
         "type": "scatter",
         "x": [
          0,
          1,
          2,
          3
         ],
         "xaxis": "x2",
         "y": [
          0,
          0,
          0.7,
          0.8
         ],
         "yaxis": "y2"
        },
        {
         "hoverinfo": "none",
         "line": {
          "color": "rgba(83,179,101,0.5)",
          "width": 0.5
         },
         "mode": "lines",
         "type": "scatter",
         "x": [
          0,
          1,
          2,
          3
         ],
         "xaxis": "x2",
         "y": [
          0,
          0,
          0,
          0
         ],
         "yaxis": "y2"
        },
        {
         "hoverinfo": "none",
         "line": {
          "color": "rgba(63,169,91,0.5)",
          "width": 0.5
         },
         "mode": "lines",
         "type": "scatter",
         "x": [
          0,
          1,
          2,
          3
         ],
         "xaxis": "x2",
         "y": [
          0,
          0,
          0.1,
          0.8
         ],
         "yaxis": "y2"
        },
        {
         "hoverinfo": "none",
         "line": {
          "color": "rgba(50,155,81,0.5)",
          "width": 0.5
         },
         "mode": "lines",
         "type": "scatter",
         "x": [
          0,
          1,
          2,
          3
         ],
         "xaxis": "x2",
         "y": [
          0,
          0,
          1,
          0.8
         ],
         "yaxis": "y2"
        },
        {
         "hoverinfo": "none",
         "line": {
          "color": "rgba(38,142,71,0.5)",
          "width": 0.5
         },
         "mode": "lines",
         "type": "scatter",
         "x": [
          0,
          1,
          2,
          3
         ],
         "xaxis": "x2",
         "y": [
          0,
          0,
          0,
          0
         ],
         "yaxis": "y2"
        },
        {
         "hoverinfo": "none",
         "line": {
          "color": "rgba(195,231,188,0.5)",
          "width": 0.5
         },
         "mode": "lines",
         "type": "scatter",
         "x": [
          0,
          1,
          2,
          3
         ],
         "xaxis": "x2",
         "y": [
          0,
          0,
          0,
          0
         ],
         "yaxis": "y2"
        },
        {
         "hoverinfo": "none",
         "line": {
          "color": "rgba(179,224,173,0.5)",
          "width": 0.5
         },
         "mode": "lines",
         "type": "scatter",
         "x": [
          0,
          1,
          2,
          3
         ],
         "xaxis": "x2",
         "y": [
          0,
          0,
          0,
          0
         ],
         "yaxis": "y2"
        },
        {
         "hoverinfo": "none",
         "line": {
          "color": "rgba(162,217,156,0.5)",
          "width": 0.5
         },
         "mode": "lines",
         "type": "scatter",
         "x": [
          0,
          1,
          2,
          3
         ],
         "xaxis": "x2",
         "y": [
          0,
          0,
          0,
          0
         ],
         "yaxis": "y2"
        },
        {
         "hoverinfo": "none",
         "line": {
          "color": "rgba(144,209,141,0.5)",
          "width": 0.5
         },
         "mode": "lines",
         "type": "scatter",
         "x": [
          0,
          1,
          2,
          3
         ],
         "xaxis": "x2",
         "y": [
          0,
          0,
          0,
          0
         ],
         "yaxis": "y2"
        },
        {
         "hoverinfo": "none",
         "line": {
          "color": "rgba(125,200,125,0.5)",
          "width": 0.5
         },
         "mode": "lines",
         "type": "scatter",
         "x": [
          0,
          1,
          2,
          3
         ],
         "xaxis": "x2",
         "y": [
          0,
          0,
          0.9,
          0.6
         ],
         "yaxis": "y2"
        },
        {
         "hoverinfo": "none",
         "line": {
          "color": "rgba(105,190,112,0.5)",
          "width": 0.5
         },
         "mode": "lines",
         "type": "scatter",
         "x": [
          0,
          1,
          2,
          3
         ],
         "xaxis": "x2",
         "y": [
          0,
          0,
          0,
          0
         ],
         "yaxis": "y2"
        },
        {
         "hoverinfo": "none",
         "line": {
          "color": "rgba(83,179,101,0.5)",
          "width": 0.5
         },
         "mode": "lines",
         "type": "scatter",
         "x": [
          0,
          1,
          2,
          3
         ],
         "xaxis": "x2",
         "y": [
          0,
          0,
          0,
          0
         ],
         "yaxis": "y2"
        },
        {
         "hoverinfo": "none",
         "line": {
          "color": "rgba(63,169,91,0.5)",
          "width": 0.5
         },
         "mode": "lines",
         "type": "scatter",
         "x": [
          0,
          1,
          2,
          3
         ],
         "xaxis": "x2",
         "y": [
          0,
          0,
          0,
          0
         ],
         "yaxis": "y2"
        },
        {
         "hoverinfo": "none",
         "line": {
          "color": "rgba(50,155,81,0.5)",
          "width": 0.5
         },
         "mode": "lines",
         "type": "scatter",
         "x": [
          0,
          1,
          2,
          3
         ],
         "xaxis": "x2",
         "y": [
          0,
          0,
          0,
          0
         ],
         "yaxis": "y2"
        },
        {
         "hoverinfo": "none",
         "line": {
          "color": "rgba(38,142,71,0.5)",
          "width": 0.5
         },
         "mode": "lines",
         "type": "scatter",
         "x": [
          0,
          1,
          2,
          3
         ],
         "xaxis": "x2",
         "y": [
          0,
          0,
          0,
          0
         ],
         "yaxis": "y2"
        },
        {
         "hoverinfo": "none",
         "line": {
          "color": "rgba(195,231,188,0.5)",
          "width": 0.5
         },
         "mode": "lines",
         "type": "scatter",
         "x": [
          0,
          1,
          2,
          3
         ],
         "xaxis": "x2",
         "y": [
          0,
          0,
          0,
          0
         ],
         "yaxis": "y2"
        },
        {
         "hoverinfo": "none",
         "line": {
          "color": "rgba(179,224,173,0.5)",
          "width": 0.5
         },
         "mode": "lines",
         "type": "scatter",
         "x": [
          0,
          1,
          2,
          3
         ],
         "xaxis": "x2",
         "y": [
          0,
          0,
          0,
          0
         ],
         "yaxis": "y2"
        },
        {
         "hoverinfo": "none",
         "line": {
          "color": "rgba(162,217,156,0.5)",
          "width": 0.5
         },
         "mode": "lines",
         "type": "scatter",
         "x": [
          0,
          1,
          2,
          3
         ],
         "xaxis": "x2",
         "y": [
          0,
          0,
          0,
          0
         ],
         "yaxis": "y2"
        },
        {
         "hoverinfo": "none",
         "line": {
          "color": "rgba(144,209,141,0.5)",
          "width": 0.5
         },
         "mode": "lines",
         "type": "scatter",
         "x": [
          0,
          1,
          2,
          3
         ],
         "xaxis": "x2",
         "y": [
          0,
          0,
          0,
          0
         ],
         "yaxis": "y2"
        },
        {
         "hoverinfo": "none",
         "line": {
          "color": "rgba(125,200,125,0.5)",
          "width": 0.5
         },
         "mode": "lines",
         "type": "scatter",
         "x": [
          0,
          1,
          2,
          3
         ],
         "xaxis": "x2",
         "y": [
          0,
          0,
          0.8,
          0.1
         ],
         "yaxis": "y2"
        },
        {
         "hoverinfo": "none",
         "line": {
          "color": "rgba(105,190,112,0.5)",
          "width": 0.5
         },
         "mode": "lines",
         "type": "scatter",
         "x": [
          0,
          1,
          2,
          3
         ],
         "xaxis": "x2",
         "y": [
          0,
          0,
          0,
          0
         ],
         "yaxis": "y2"
        },
        {
         "hoverinfo": "none",
         "line": {
          "color": "rgba(83,179,101,0.5)",
          "width": 0.5
         },
         "mode": "lines",
         "type": "scatter",
         "x": [
          0,
          1,
          2,
          3
         ],
         "xaxis": "x2",
         "y": [
          0,
          0,
          0,
          0
         ],
         "yaxis": "y2"
        },
        {
         "hoverinfo": "none",
         "line": {
          "color": "rgba(63,169,91,0.5)",
          "width": 0.5
         },
         "mode": "lines",
         "type": "scatter",
         "x": [
          0,
          1,
          2,
          3
         ],
         "xaxis": "x2",
         "y": [
          0,
          0,
          1,
          0.1
         ],
         "yaxis": "y2"
        },
        {
         "hoverinfo": "none",
         "line": {
          "color": "rgba(50,155,81,0.5)",
          "width": 0.5
         },
         "mode": "lines",
         "type": "scatter",
         "x": [
          0,
          1,
          2,
          3
         ],
         "xaxis": "x2",
         "y": [
          0,
          0,
          0,
          0
         ],
         "yaxis": "y2"
        },
        {
         "hoverinfo": "none",
         "line": {
          "color": "rgba(38,142,71,0.5)",
          "width": 0.5
         },
         "mode": "lines",
         "type": "scatter",
         "x": [
          0,
          1,
          2,
          3
         ],
         "xaxis": "x2",
         "y": [
          0,
          0,
          0.1,
          0.9
         ],
         "yaxis": "y2"
        },
        {
         "hoverinfo": "none",
         "line": {
          "color": "rgba(195,231,188,0.5)",
          "width": 0.5
         },
         "mode": "lines",
         "type": "scatter",
         "x": [
          0,
          1,
          2,
          3
         ],
         "xaxis": "x2",
         "y": [
          0,
          0,
          1,
          0.1
         ],
         "yaxis": "y2"
        },
        {
         "hoverinfo": "none",
         "line": {
          "color": "rgba(179,224,173,0.5)",
          "width": 0.5
         },
         "mode": "lines",
         "type": "scatter",
         "x": [
          0,
          1,
          2,
          3
         ],
         "xaxis": "x2",
         "y": [
          0,
          0,
          0,
          0
         ],
         "yaxis": "y2"
        },
        {
         "hoverinfo": "none",
         "line": {
          "color": "rgba(162,217,156,0.5)",
          "width": 0.5
         },
         "mode": "lines",
         "type": "scatter",
         "x": [
          0,
          1,
          2,
          3
         ],
         "xaxis": "x2",
         "y": [
          0,
          0,
          0.3,
          0.9
         ],
         "yaxis": "y2"
        },
        {
         "hoverinfo": "none",
         "line": {
          "color": "rgba(144,209,141,0.5)",
          "width": 0.5
         },
         "mode": "lines",
         "type": "scatter",
         "x": [
          0,
          1,
          2,
          3
         ],
         "xaxis": "x2",
         "y": [
          0,
          0,
          0,
          0
         ],
         "yaxis": "y2"
        },
        {
         "hoverinfo": "none",
         "line": {
          "color": "rgba(125,200,125,0.5)",
          "width": 0.5
         },
         "mode": "lines",
         "type": "scatter",
         "x": [
          0,
          1,
          2,
          3
         ],
         "xaxis": "x2",
         "y": [
          0,
          0,
          0,
          0
         ],
         "yaxis": "y2"
        },
        {
         "hoverinfo": "none",
         "line": {
          "color": "rgba(105,190,112,0.5)",
          "width": 0.5
         },
         "mode": "lines",
         "type": "scatter",
         "x": [
          0,
          1,
          2,
          3
         ],
         "xaxis": "x2",
         "y": [
          0,
          0,
          0,
          0
         ],
         "yaxis": "y2"
        },
        {
         "hoverinfo": "none",
         "line": {
          "color": "rgba(83,179,101,0.5)",
          "width": 0.5
         },
         "mode": "lines",
         "type": "scatter",
         "x": [
          0,
          1,
          2,
          3
         ],
         "xaxis": "x2",
         "y": [
          0,
          0,
          0,
          0
         ],
         "yaxis": "y2"
        },
        {
         "hoverinfo": "none",
         "line": {
          "color": "rgba(63,169,91,0.5)",
          "width": 0.5
         },
         "mode": "lines",
         "type": "scatter",
         "x": [
          0,
          1,
          2,
          3
         ],
         "xaxis": "x2",
         "y": [
          0,
          0,
          0,
          0
         ],
         "yaxis": "y2"
        },
        {
         "hoverinfo": "none",
         "line": {
          "color": "rgba(50,155,81,0.5)",
          "width": 0.5
         },
         "mode": "lines",
         "type": "scatter",
         "x": [
          0,
          1,
          2,
          3
         ],
         "xaxis": "x2",
         "y": [
          0,
          0,
          0,
          0
         ],
         "yaxis": "y2"
        },
        {
         "hoverinfo": "none",
         "line": {
          "color": "rgba(38,142,71,0.5)",
          "width": 0.5
         },
         "mode": "lines",
         "type": "scatter",
         "x": [
          0,
          1,
          2,
          3
         ],
         "xaxis": "x2",
         "y": [
          0,
          0,
          0,
          0
         ],
         "yaxis": "y2"
        },
        {
         "hoverinfo": "none",
         "line": {
          "color": "rgba(195,231,188,0.5)",
          "width": 0.5
         },
         "mode": "lines",
         "type": "scatter",
         "x": [
          0,
          1,
          2,
          3
         ],
         "xaxis": "x2",
         "y": [
          0,
          0,
          0,
          0
         ],
         "yaxis": "y2"
        },
        {
         "hoverinfo": "none",
         "line": {
          "color": "rgba(179,224,173,0.5)",
          "width": 0.5
         },
         "mode": "lines",
         "type": "scatter",
         "x": [
          0,
          1,
          2,
          3
         ],
         "xaxis": "x2",
         "y": [
          0,
          0,
          0,
          0
         ],
         "yaxis": "y2"
        },
        {
         "hoverinfo": "none",
         "line": {
          "color": "rgba(162,217,156,0.5)",
          "width": 0.5
         },
         "mode": "lines",
         "type": "scatter",
         "x": [
          0,
          1,
          2,
          3
         ],
         "xaxis": "x2",
         "y": [
          0,
          0,
          0,
          0
         ],
         "yaxis": "y2"
        },
        {
         "hoverinfo": "none",
         "line": {
          "color": "rgba(144,209,141,0.5)",
          "width": 0.5
         },
         "mode": "lines",
         "type": "scatter",
         "x": [
          0,
          1,
          2,
          3
         ],
         "xaxis": "x2",
         "y": [
          0,
          0,
          0,
          0
         ],
         "yaxis": "y2"
        },
        {
         "hoverinfo": "none",
         "line": {
          "color": "rgba(125,200,125,0.5)",
          "width": 0.5
         },
         "mode": "lines",
         "type": "scatter",
         "x": [
          0,
          1,
          2,
          3
         ],
         "xaxis": "x2",
         "y": [
          0,
          0,
          0,
          0.4
         ],
         "yaxis": "y2"
        },
        {
         "hoverinfo": "none",
         "line": {
          "color": "rgba(105,190,112,0.5)",
          "width": 0.5
         },
         "mode": "lines",
         "type": "scatter",
         "x": [
          0,
          1,
          2,
          3
         ],
         "xaxis": "x2",
         "y": [
          0,
          0,
          0,
          0
         ],
         "yaxis": "y2"
        },
        {
         "hoverinfo": "none",
         "line": {
          "color": "rgba(83,179,101,0.5)",
          "width": 0.5
         },
         "mode": "lines",
         "type": "scatter",
         "x": [
          0,
          1,
          2,
          3
         ],
         "xaxis": "x2",
         "y": [
          0,
          0,
          0,
          0
         ],
         "yaxis": "y2"
        },
        {
         "hoverinfo": "none",
         "line": {
          "color": "rgba(63,169,91,0.5)",
          "width": 0.5
         },
         "mode": "lines",
         "type": "scatter",
         "x": [
          0,
          1,
          2,
          3
         ],
         "xaxis": "x2",
         "y": [
          0,
          0,
          0,
          0
         ],
         "yaxis": "y2"
        },
        {
         "hoverinfo": "none",
         "line": {
          "color": "rgba(50,155,81,0.5)",
          "width": 0.5
         },
         "mode": "lines",
         "type": "scatter",
         "x": [
          0,
          1,
          2,
          3
         ],
         "xaxis": "x2",
         "y": [
          0,
          0,
          0,
          0
         ],
         "yaxis": "y2"
        },
        {
         "hoverinfo": "none",
         "line": {
          "color": "rgba(38,142,71,0.5)",
          "width": 0.5
         },
         "mode": "lines",
         "type": "scatter",
         "x": [
          0,
          1,
          2,
          3
         ],
         "xaxis": "x2",
         "y": [
          0,
          0,
          0,
          0
         ],
         "yaxis": "y2"
        },
        {
         "hoverinfo": "none",
         "line": {
          "color": "rgba(195,231,188,0.5)",
          "width": 0.5
         },
         "mode": "lines",
         "type": "scatter",
         "x": [
          0,
          1,
          2,
          3
         ],
         "xaxis": "x2",
         "y": [
          0,
          0,
          0,
          0
         ],
         "yaxis": "y2"
        },
        {
         "hoverinfo": "none",
         "line": {
          "color": "rgba(179,224,173,0.5)",
          "width": 0.5
         },
         "mode": "lines",
         "type": "scatter",
         "x": [
          0,
          1,
          2,
          3
         ],
         "xaxis": "x2",
         "y": [
          0,
          0,
          0,
          0
         ],
         "yaxis": "y2"
        },
        {
         "hoverinfo": "none",
         "line": {
          "color": "rgba(162,217,156,0.5)",
          "width": 0.5
         },
         "mode": "lines",
         "type": "scatter",
         "x": [
          0,
          1,
          2,
          3
         ],
         "xaxis": "x2",
         "y": [
          0,
          0,
          0,
          0
         ],
         "yaxis": "y2"
        },
        {
         "hoverinfo": "none",
         "line": {
          "color": "rgba(144,209,141,0.5)",
          "width": 0.5
         },
         "mode": "lines",
         "type": "scatter",
         "x": [
          0,
          1,
          2,
          3
         ],
         "xaxis": "x2",
         "y": [
          0,
          0,
          0,
          0
         ],
         "yaxis": "y2"
        },
        {
         "hoverinfo": "none",
         "line": {
          "color": "rgba(125,200,125,0.5)",
          "width": 0.5
         },
         "mode": "lines",
         "type": "scatter",
         "x": [
          0,
          1,
          2,
          3
         ],
         "xaxis": "x2",
         "y": [
          0,
          0,
          0,
          0
         ],
         "yaxis": "y2"
        },
        {
         "hoverinfo": "none",
         "line": {
          "color": "rgba(105,190,112,0.5)",
          "width": 0.5
         },
         "mode": "lines",
         "type": "scatter",
         "x": [
          0,
          1,
          2,
          3
         ],
         "xaxis": "x2",
         "y": [
          0,
          0,
          0,
          0
         ],
         "yaxis": "y2"
        },
        {
         "hoverinfo": "none",
         "line": {
          "color": "rgba(83,179,101,0.5)",
          "width": 0.5
         },
         "mode": "lines",
         "type": "scatter",
         "x": [
          0,
          1,
          2,
          3
         ],
         "xaxis": "x2",
         "y": [
          0,
          0,
          0.7,
          0
         ],
         "yaxis": "y2"
        },
        {
         "hoverinfo": "none",
         "line": {
          "color": "rgba(63,169,91,0.5)",
          "width": 0.5
         },
         "mode": "lines",
         "type": "scatter",
         "x": [
          0,
          1,
          2,
          3
         ],
         "xaxis": "x2",
         "y": [
          0,
          0,
          0,
          0
         ],
         "yaxis": "y2"
        },
        {
         "hoverinfo": "none",
         "line": {
          "color": "rgba(50,155,81,0.5)",
          "width": 0.5
         },
         "mode": "lines",
         "type": "scatter",
         "x": [
          0,
          1,
          2,
          3
         ],
         "xaxis": "x2",
         "y": [
          0,
          0,
          0,
          1
         ],
         "yaxis": "y2"
        },
        {
         "hoverinfo": "none",
         "line": {
          "color": "rgba(38,142,71,0.5)",
          "width": 0.5
         },
         "mode": "lines",
         "type": "scatter",
         "x": [
          0,
          1,
          2,
          3
         ],
         "xaxis": "x2",
         "y": [
          0,
          0,
          0,
          0
         ],
         "yaxis": "y2"
        },
        {
         "hoverinfo": "none",
         "line": {
          "color": "rgba(195,231,188,0.5)",
          "width": 0.5
         },
         "mode": "lines",
         "type": "scatter",
         "x": [
          0,
          1,
          2,
          3
         ],
         "xaxis": "x2",
         "y": [
          0,
          0,
          0,
          0
         ],
         "yaxis": "y2"
        },
        {
         "hoverinfo": "none",
         "line": {
          "color": "rgba(179,224,173,0.5)",
          "width": 0.5
         },
         "mode": "lines",
         "type": "scatter",
         "x": [
          0,
          1,
          2,
          3
         ],
         "xaxis": "x2",
         "y": [
          0,
          0,
          0,
          0
         ],
         "yaxis": "y2"
        },
        {
         "hoverinfo": "none",
         "line": {
          "color": "rgba(162,217,156,0.5)",
          "width": 0.5
         },
         "mode": "lines",
         "type": "scatter",
         "x": [
          0,
          1,
          2,
          3
         ],
         "xaxis": "x2",
         "y": [
          0,
          0,
          0,
          0
         ],
         "yaxis": "y2"
        },
        {
         "hoverinfo": "none",
         "line": {
          "color": "rgba(144,209,141,0.5)",
          "width": 0.5
         },
         "mode": "lines",
         "type": "scatter",
         "x": [
          0,
          1,
          2,
          3
         ],
         "xaxis": "x2",
         "y": [
          0,
          0,
          0,
          0
         ],
         "yaxis": "y2"
        },
        {
         "hoverinfo": "none",
         "line": {
          "color": "rgba(125,200,125,0.5)",
          "width": 0.5
         },
         "mode": "lines",
         "type": "scatter",
         "x": [
          0,
          1,
          2,
          3
         ],
         "xaxis": "x2",
         "y": [
          0,
          0,
          0,
          0
         ],
         "yaxis": "y2"
        },
        {
         "hoverinfo": "none",
         "line": {
          "color": "rgba(105,190,112,0.5)",
          "width": 0.5
         },
         "mode": "lines",
         "type": "scatter",
         "x": [
          0,
          1,
          2,
          3
         ],
         "xaxis": "x2",
         "y": [
          0,
          0,
          0,
          0
         ],
         "yaxis": "y2"
        },
        {
         "hoverinfo": "none",
         "line": {
          "color": "rgba(83,179,101,0.5)",
          "width": 0.5
         },
         "mode": "lines",
         "type": "scatter",
         "x": [
          0,
          1,
          2,
          3
         ],
         "xaxis": "x2",
         "y": [
          0,
          0,
          0.1,
          0.1
         ],
         "yaxis": "y2"
        },
        {
         "hoverinfo": "none",
         "line": {
          "color": "rgba(63,169,91,0.5)",
          "width": 0.5
         },
         "mode": "lines",
         "type": "scatter",
         "x": [
          0,
          1,
          2,
          3
         ],
         "xaxis": "x2",
         "y": [
          0,
          0,
          0,
          0
         ],
         "yaxis": "y2"
        },
        {
         "hoverinfo": "none",
         "line": {
          "color": "rgba(50,155,81,0.5)",
          "width": 0.5
         },
         "mode": "lines",
         "type": "scatter",
         "x": [
          0,
          1,
          2,
          3
         ],
         "xaxis": "x2",
         "y": [
          0,
          0,
          0,
          0
         ],
         "yaxis": "y2"
        },
        {
         "hoverinfo": "none",
         "line": {
          "color": "rgba(38,142,71,0.5)",
          "width": 0.5
         },
         "mode": "lines",
         "type": "scatter",
         "x": [
          0,
          1,
          2,
          3
         ],
         "xaxis": "x2",
         "y": [
          0,
          0,
          0.1,
          1
         ],
         "yaxis": "y2"
        },
        {
         "hoverinfo": "none",
         "line": {
          "color": "rgba(195,231,188,0.5)",
          "width": 0.5
         },
         "mode": "lines",
         "type": "scatter",
         "x": [
          0,
          1,
          2,
          3
         ],
         "xaxis": "x2",
         "y": [
          0,
          0,
          0,
          0
         ],
         "yaxis": "y2"
        },
        {
         "hoverinfo": "none",
         "line": {
          "color": "rgba(179,224,173,0.5)",
          "width": 0.5
         },
         "mode": "lines",
         "type": "scatter",
         "x": [
          0,
          1,
          2,
          3
         ],
         "xaxis": "x2",
         "y": [
          0,
          0,
          0,
          0
         ],
         "yaxis": "y2"
        },
        {
         "hoverinfo": "none",
         "line": {
          "color": "rgba(162,217,156,0.5)",
          "width": 0.5
         },
         "mode": "lines",
         "type": "scatter",
         "x": [
          0,
          1,
          2,
          3
         ],
         "xaxis": "x2",
         "y": [
          0,
          0,
          0,
          0
         ],
         "yaxis": "y2"
        },
        {
         "hoverinfo": "none",
         "line": {
          "color": "rgba(144,209,141,0.5)",
          "width": 0.5
         },
         "mode": "lines",
         "type": "scatter",
         "x": [
          0,
          1,
          2,
          3
         ],
         "xaxis": "x2",
         "y": [
          0,
          0,
          0,
          0
         ],
         "yaxis": "y2"
        },
        {
         "hoverinfo": "none",
         "line": {
          "color": "rgba(125,200,125,0.5)",
          "width": 0.5
         },
         "mode": "lines",
         "type": "scatter",
         "x": [
          0,
          1,
          2,
          3
         ],
         "xaxis": "x2",
         "y": [
          0,
          0,
          0,
          0
         ],
         "yaxis": "y2"
        },
        {
         "hoverinfo": "none",
         "line": {
          "color": "rgba(105,190,112,0.5)",
          "width": 0.5
         },
         "mode": "lines",
         "type": "scatter",
         "x": [
          0,
          1,
          2,
          3
         ],
         "xaxis": "x2",
         "y": [
          0,
          0,
          0,
          0
         ],
         "yaxis": "y2"
        },
        {
         "hoverinfo": "none",
         "line": {
          "color": "rgba(83,179,101,0.5)",
          "width": 0.5
         },
         "mode": "lines",
         "type": "scatter",
         "x": [
          0,
          1,
          2,
          3
         ],
         "xaxis": "x2",
         "y": [
          0,
          0,
          0,
          0
         ],
         "yaxis": "y2"
        },
        {
         "hoverinfo": "none",
         "line": {
          "color": "rgba(63,169,91,0.5)",
          "width": 0.5
         },
         "mode": "lines",
         "type": "scatter",
         "x": [
          0,
          1,
          2,
          3
         ],
         "xaxis": "x2",
         "y": [
          0,
          0,
          0,
          0
         ],
         "yaxis": "y2"
        },
        {
         "hoverinfo": "none",
         "line": {
          "color": "rgba(50,155,81,0.5)",
          "width": 0.5
         },
         "mode": "lines",
         "type": "scatter",
         "x": [
          0,
          1,
          2,
          3
         ],
         "xaxis": "x2",
         "y": [
          0,
          0,
          0,
          0
         ],
         "yaxis": "y2"
        },
        {
         "hoverinfo": "none",
         "line": {
          "color": "rgba(38,142,71,0.5)",
          "width": 0.5
         },
         "mode": "lines",
         "type": "scatter",
         "x": [
          0,
          1,
          2,
          3
         ],
         "xaxis": "x2",
         "y": [
          0,
          0,
          0,
          0
         ],
         "yaxis": "y2"
        },
        {
         "hoverinfo": "none",
         "line": {
          "color": "rgba(195,231,188,0.5)",
          "width": 0.5
         },
         "mode": "lines",
         "type": "scatter",
         "x": [
          0,
          1,
          2,
          3
         ],
         "xaxis": "x2",
         "y": [
          0,
          0,
          0,
          0
         ],
         "yaxis": "y2"
        },
        {
         "hoverinfo": "none",
         "line": {
          "color": "rgba(179,224,173,0.5)",
          "width": 0.5
         },
         "mode": "lines",
         "type": "scatter",
         "x": [
          0,
          1,
          2,
          3
         ],
         "xaxis": "x2",
         "y": [
          0,
          0,
          0,
          0
         ],
         "yaxis": "y2"
        },
        {
         "hoverinfo": "none",
         "line": {
          "color": "rgba(162,217,156,0.5)",
          "width": 0.5
         },
         "mode": "lines",
         "type": "scatter",
         "x": [
          0,
          1,
          2,
          3
         ],
         "xaxis": "x2",
         "y": [
          0,
          0,
          0,
          0
         ],
         "yaxis": "y2"
        },
        {
         "hoverinfo": "none",
         "line": {
          "color": "rgba(144,209,141,0.5)",
          "width": 0.5
         },
         "mode": "lines",
         "type": "scatter",
         "x": [
          0,
          1,
          2,
          3
         ],
         "xaxis": "x2",
         "y": [
          0,
          0,
          0,
          0
         ],
         "yaxis": "y2"
        },
        {
         "hoverinfo": "none",
         "line": {
          "color": "rgba(125,200,125,0.5)",
          "width": 0.5
         },
         "mode": "lines",
         "type": "scatter",
         "x": [
          0,
          1,
          2,
          3
         ],
         "xaxis": "x2",
         "y": [
          0,
          0,
          0.1,
          0.8
         ],
         "yaxis": "y2"
        },
        {
         "hoverinfo": "none",
         "line": {
          "color": "rgba(105,190,112,0.5)",
          "width": 0.5
         },
         "mode": "lines",
         "type": "scatter",
         "x": [
          0,
          1,
          2,
          3
         ],
         "xaxis": "x2",
         "y": [
          0,
          0,
          0,
          0
         ],
         "yaxis": "y2"
        },
        {
         "hoverinfo": "none",
         "line": {
          "color": "rgba(83,179,101,0.5)",
          "width": 0.5
         },
         "mode": "lines",
         "type": "scatter",
         "x": [
          0,
          1,
          2,
          3
         ],
         "xaxis": "x2",
         "y": [
          0,
          0,
          0,
          0
         ],
         "yaxis": "y2"
        },
        {
         "hoverinfo": "none",
         "line": {
          "color": "rgba(63,169,91,0.5)",
          "width": 0.5
         },
         "mode": "lines",
         "type": "scatter",
         "x": [
          0,
          1,
          2,
          3
         ],
         "xaxis": "x2",
         "y": [
          0,
          0,
          0.5,
          0
         ],
         "yaxis": "y2"
        },
        {
         "hoverinfo": "none",
         "line": {
          "color": "rgba(50,155,81,0.5)",
          "width": 0.5
         },
         "mode": "lines",
         "type": "scatter",
         "x": [
          0,
          1,
          2,
          3
         ],
         "xaxis": "x2",
         "y": [
          0,
          0,
          0,
          0
         ],
         "yaxis": "y2"
        },
        {
         "hoverinfo": "none",
         "line": {
          "color": "rgba(38,142,71,0.5)",
          "width": 0.5
         },
         "mode": "lines",
         "type": "scatter",
         "x": [
          0,
          1,
          2,
          3
         ],
         "xaxis": "x2",
         "y": [
          0,
          0,
          0,
          0
         ],
         "yaxis": "y2"
        },
        {
         "hoverinfo": "none",
         "line": {
          "color": "#FEDC00",
          "width": 4.5
         },
         "mode": "lines",
         "type": "scatter",
         "x": [
          0,
          1,
          2,
          3
         ],
         "xaxis": "x2",
         "y": [
          0,
          0,
          0.0557476231633535,
          0.06888504753673293
         ],
         "yaxis": "y2"
        },
        {
         "hoverinfo": "none",
         "line": {
          "color": "#E75438",
          "dash": "dash",
          "width": 1.5
         },
         "mode": "lines",
         "type": "scatter",
         "x": [
          0,
          1,
          2,
          3
         ],
         "xaxis": "x2",
         "y": [
          0,
          0,
          0,
          0
         ],
         "yaxis": "y2"
        },
        {
         "hovertemplate": "%{y}",
         "line": {
          "color": "rgba(0,68,27,1.0)",
          "width": 1.5
         },
         "marker": {
          "color": "rgba(0,68,27,1.0)",
          "size": 5
         },
         "mode": "lines+markers",
         "name": "pdp",
         "type": "scatter",
         "x": [
          0,
          1,
          2,
          3
         ],
         "xaxis": "x2",
         "y": [
          0,
          0,
          0.0557476231633535,
          0.06888504753673293
         ],
         "yaxis": "y2"
        },
        {
         "colorscale": [
          [
           0,
           "rgb(247,252,245)"
          ],
          [
           0.125,
           "rgb(229,245,224)"
          ],
          [
           0.25,
           "rgb(199,233,192)"
          ],
          [
           0.375,
           "rgb(161,217,155)"
          ],
          [
           0.5,
           "rgb(116,196,118)"
          ],
          [
           0.625,
           "rgb(65,171,93)"
          ],
          [
           0.75,
           "rgb(35,139,69)"
          ],
          [
           0.875,
           "rgb(0,109,44)"
          ],
          [
           1,
           "rgb(0,68,27)"
          ]
         ],
         "hovertemplate": "%{text}",
         "name": "dist",
         "opacity": 0.8,
         "showscale": false,
         "text": [
          [
           0.334,
           0.666
          ]
         ],
         "texttemplate": "%{text}",
         "type": "heatmap",
         "x": [
          0,
          2
         ],
         "xaxis": "x5",
         "xgap": 2,
         "y": [
          0
         ],
         "yaxis": "y5",
         "z": [
          [
           0.33362143474503025,
           0.6663785652549697
          ]
         ],
         "zmax": 0.6663785652549697,
         "zmin": 0
        },
        {
         "hoverinfo": "none",
         "line": {
          "color": "rgba(253,204,156,0.5)",
          "width": 0.5
         },
         "mode": "lines",
         "type": "scatter",
         "x": [
          0,
          1,
          2,
          3
         ],
         "xaxis": "x3",
         "y": [
          0,
          0,
          0,
          0
         ],
         "yaxis": "y3"
        },
        {
         "hoverinfo": "none",
         "line": {
          "color": "rgba(253,190,133,0.5)",
          "width": 0.5
         },
         "mode": "lines",
         "type": "scatter",
         "x": [
          0,
          1,
          2,
          3
         ],
         "xaxis": "x3",
         "y": [
          0,
          0,
          -0.09999999999999998,
          -0.09999999999999998
         ],
         "yaxis": "y3"
        },
        {
         "hoverinfo": "none",
         "line": {
          "color": "rgba(253,175,109,0.5)",
          "width": 0.5
         },
         "mode": "lines",
         "type": "scatter",
         "x": [
          0,
          1,
          2,
          3
         ],
         "xaxis": "x3",
         "y": [
          0,
          0,
          0,
          0
         ],
         "yaxis": "y3"
        },
        {
         "hoverinfo": "none",
         "line": {
          "color": "rgba(253,162,90,0.5)",
          "width": 0.5
         },
         "mode": "lines",
         "type": "scatter",
         "x": [
          0,
          1,
          2,
          3
         ],
         "xaxis": "x3",
         "y": [
          0,
          0,
          0,
          0
         ],
         "yaxis": "y3"
        },
        {
         "hoverinfo": "none",
         "line": {
          "color": "rgba(253,147,69,0.5)",
          "width": 0.5
         },
         "mode": "lines",
         "type": "scatter",
         "x": [
          0,
          1,
          2,
          3
         ],
         "xaxis": "x3",
         "y": [
          0,
          0,
          -0.9,
          -0.8
         ],
         "yaxis": "y3"
        },
        {
         "hoverinfo": "none",
         "line": {
          "color": "rgba(250,133,51,0.5)",
          "width": 0.5
         },
         "mode": "lines",
         "type": "scatter",
         "x": [
          0,
          1,
          2,
          3
         ],
         "xaxis": "x3",
         "y": [
          0,
          0,
          -1,
          -1
         ],
         "yaxis": "y3"
        },
        {
         "hoverinfo": "none",
         "line": {
          "color": "rgba(245,117,33,0.5)",
          "width": 0.5
         },
         "mode": "lines",
         "type": "scatter",
         "x": [
          0,
          1,
          2,
          3
         ],
         "xaxis": "x3",
         "y": [
          0,
          0,
          -1,
          -0.7
         ],
         "yaxis": "y3"
        },
        {
         "hoverinfo": "none",
         "line": {
          "color": "rgba(239,103,18,0.5)",
          "width": 0.5
         },
         "mode": "lines",
         "type": "scatter",
         "x": [
          0,
          1,
          2,
          3
         ],
         "xaxis": "x3",
         "y": [
          0,
          0,
          -0.9,
          -0.9
         ],
         "yaxis": "y3"
        },
        {
         "hoverinfo": "none",
         "line": {
          "color": "rgba(229,88,10,0.5)",
          "width": 0.5
         },
         "mode": "lines",
         "type": "scatter",
         "x": [
          0,
          1,
          2,
          3
         ],
         "xaxis": "x3",
         "y": [
          0,
          0,
          -1,
          -1
         ],
         "yaxis": "y3"
        },
        {
         "hoverinfo": "none",
         "line": {
          "color": "rgba(219,75,2,0.5)",
          "width": 0.5
         },
         "mode": "lines",
         "type": "scatter",
         "x": [
          0,
          1,
          2,
          3
         ],
         "xaxis": "x3",
         "y": [
          0,
          0,
          -1,
          -0.09999999999999998
         ],
         "yaxis": "y3"
        },
        {
         "hoverinfo": "none",
         "line": {
          "color": "rgba(253,204,156,0.5)",
          "width": 0.5
         },
         "mode": "lines",
         "type": "scatter",
         "x": [
          0,
          1,
          2,
          3
         ],
         "xaxis": "x3",
         "y": [
          0,
          0,
          -0.9,
          -0.8
         ],
         "yaxis": "y3"
        },
        {
         "hoverinfo": "none",
         "line": {
          "color": "rgba(253,190,133,0.5)",
          "width": 0.5
         },
         "mode": "lines",
         "type": "scatter",
         "x": [
          0,
          1,
          2,
          3
         ],
         "xaxis": "x3",
         "y": [
          0,
          0,
          -1,
          -1
         ],
         "yaxis": "y3"
        },
        {
         "hoverinfo": "none",
         "line": {
          "color": "rgba(253,175,109,0.5)",
          "width": 0.5
         },
         "mode": "lines",
         "type": "scatter",
         "x": [
          0,
          1,
          2,
          3
         ],
         "xaxis": "x3",
         "y": [
          0,
          0,
          0,
          0
         ],
         "yaxis": "y3"
        },
        {
         "hoverinfo": "none",
         "line": {
          "color": "rgba(253,162,90,0.5)",
          "width": 0.5
         },
         "mode": "lines",
         "type": "scatter",
         "x": [
          0,
          1,
          2,
          3
         ],
         "xaxis": "x3",
         "y": [
          0,
          0,
          0,
          0
         ],
         "yaxis": "y3"
        },
        {
         "hoverinfo": "none",
         "line": {
          "color": "rgba(253,147,69,0.5)",
          "width": 0.5
         },
         "mode": "lines",
         "type": "scatter",
         "x": [
          0,
          1,
          2,
          3
         ],
         "xaxis": "x3",
         "y": [
          0,
          0,
          0,
          0
         ],
         "yaxis": "y3"
        },
        {
         "hoverinfo": "none",
         "line": {
          "color": "rgba(250,133,51,0.5)",
          "width": 0.5
         },
         "mode": "lines",
         "type": "scatter",
         "x": [
          0,
          1,
          2,
          3
         ],
         "xaxis": "x3",
         "y": [
          0,
          0,
          0,
          0
         ],
         "yaxis": "y3"
        },
        {
         "hoverinfo": "none",
         "line": {
          "color": "rgba(245,117,33,0.5)",
          "width": 0.5
         },
         "mode": "lines",
         "type": "scatter",
         "x": [
          0,
          1,
          2,
          3
         ],
         "xaxis": "x3",
         "y": [
          0,
          0,
          -1,
          -1
         ],
         "yaxis": "y3"
        },
        {
         "hoverinfo": "none",
         "line": {
          "color": "rgba(239,103,18,0.5)",
          "width": 0.5
         },
         "mode": "lines",
         "type": "scatter",
         "x": [
          0,
          1,
          2,
          3
         ],
         "xaxis": "x3",
         "y": [
          0,
          0,
          -0.8,
          -0.09999999999999998
         ],
         "yaxis": "y3"
        },
        {
         "hoverinfo": "none",
         "line": {
          "color": "rgba(229,88,10,0.5)",
          "width": 0.5
         },
         "mode": "lines",
         "type": "scatter",
         "x": [
          0,
          1,
          2,
          3
         ],
         "xaxis": "x3",
         "y": [
          0,
          0,
          -1,
          -1
         ],
         "yaxis": "y3"
        },
        {
         "hoverinfo": "none",
         "line": {
          "color": "rgba(219,75,2,0.5)",
          "width": 0.5
         },
         "mode": "lines",
         "type": "scatter",
         "x": [
          0,
          1,
          2,
          3
         ],
         "xaxis": "x3",
         "y": [
          0,
          0,
          0,
          0
         ],
         "yaxis": "y3"
        },
        {
         "hoverinfo": "none",
         "line": {
          "color": "rgba(253,204,156,0.5)",
          "width": 0.5
         },
         "mode": "lines",
         "type": "scatter",
         "x": [
          0,
          1,
          2,
          3
         ],
         "xaxis": "x3",
         "y": [
          0,
          0,
          0,
          0
         ],
         "yaxis": "y3"
        },
        {
         "hoverinfo": "none",
         "line": {
          "color": "rgba(253,190,133,0.5)",
          "width": 0.5
         },
         "mode": "lines",
         "type": "scatter",
         "x": [
          0,
          1,
          2,
          3
         ],
         "xaxis": "x3",
         "y": [
          0,
          0,
          0,
          0
         ],
         "yaxis": "y3"
        },
        {
         "hoverinfo": "none",
         "line": {
          "color": "rgba(253,175,109,0.5)",
          "width": 0.5
         },
         "mode": "lines",
         "type": "scatter",
         "x": [
          0,
          1,
          2,
          3
         ],
         "xaxis": "x3",
         "y": [
          0,
          0,
          0,
          0
         ],
         "yaxis": "y3"
        },
        {
         "hoverinfo": "none",
         "line": {
          "color": "rgba(253,162,90,0.5)",
          "width": 0.5
         },
         "mode": "lines",
         "type": "scatter",
         "x": [
          0,
          1,
          2,
          3
         ],
         "xaxis": "x3",
         "y": [
          0,
          0,
          -1,
          -0.5
         ],
         "yaxis": "y3"
        },
        {
         "hoverinfo": "none",
         "line": {
          "color": "rgba(253,147,69,0.5)",
          "width": 0.5
         },
         "mode": "lines",
         "type": "scatter",
         "x": [
          0,
          1,
          2,
          3
         ],
         "xaxis": "x3",
         "y": [
          0,
          0,
          0,
          0
         ],
         "yaxis": "y3"
        },
        {
         "hoverinfo": "none",
         "line": {
          "color": "rgba(250,133,51,0.5)",
          "width": 0.5
         },
         "mode": "lines",
         "type": "scatter",
         "x": [
          0,
          1,
          2,
          3
         ],
         "xaxis": "x3",
         "y": [
          0,
          0,
          -0.9,
          -1
         ],
         "yaxis": "y3"
        },
        {
         "hoverinfo": "none",
         "line": {
          "color": "rgba(245,117,33,0.5)",
          "width": 0.5
         },
         "mode": "lines",
         "type": "scatter",
         "x": [
          0,
          1,
          2,
          3
         ],
         "xaxis": "x3",
         "y": [
          0,
          0,
          0,
          0
         ],
         "yaxis": "y3"
        },
        {
         "hoverinfo": "none",
         "line": {
          "color": "rgba(239,103,18,0.5)",
          "width": 0.5
         },
         "mode": "lines",
         "type": "scatter",
         "x": [
          0,
          1,
          2,
          3
         ],
         "xaxis": "x3",
         "y": [
          0,
          0,
          -1,
          -1
         ],
         "yaxis": "y3"
        },
        {
         "hoverinfo": "none",
         "line": {
          "color": "rgba(229,88,10,0.5)",
          "width": 0.5
         },
         "mode": "lines",
         "type": "scatter",
         "x": [
          0,
          1,
          2,
          3
         ],
         "xaxis": "x3",
         "y": [
          0,
          0,
          -0.9,
          -0.20000000000000007
         ],
         "yaxis": "y3"
        },
        {
         "hoverinfo": "none",
         "line": {
          "color": "rgba(219,75,2,0.5)",
          "width": 0.5
         },
         "mode": "lines",
         "type": "scatter",
         "x": [
          0,
          1,
          2,
          3
         ],
         "xaxis": "x3",
         "y": [
          0,
          0,
          0,
          -0.09999999999999998
         ],
         "yaxis": "y3"
        },
        {
         "hoverinfo": "none",
         "line": {
          "color": "rgba(253,204,156,0.5)",
          "width": 0.5
         },
         "mode": "lines",
         "type": "scatter",
         "x": [
          0,
          1,
          2,
          3
         ],
         "xaxis": "x3",
         "y": [
          0,
          0,
          -1,
          -1
         ],
         "yaxis": "y3"
        },
        {
         "hoverinfo": "none",
         "line": {
          "color": "rgba(253,190,133,0.5)",
          "width": 0.5
         },
         "mode": "lines",
         "type": "scatter",
         "x": [
          0,
          1,
          2,
          3
         ],
         "xaxis": "x3",
         "y": [
          0,
          0,
          -0.19999999999999996,
          0
         ],
         "yaxis": "y3"
        },
        {
         "hoverinfo": "none",
         "line": {
          "color": "rgba(253,175,109,0.5)",
          "width": 0.5
         },
         "mode": "lines",
         "type": "scatter",
         "x": [
          0,
          1,
          2,
          3
         ],
         "xaxis": "x3",
         "y": [
          0,
          0,
          0,
          0
         ],
         "yaxis": "y3"
        },
        {
         "hoverinfo": "none",
         "line": {
          "color": "rgba(253,162,90,0.5)",
          "width": 0.5
         },
         "mode": "lines",
         "type": "scatter",
         "x": [
          0,
          1,
          2,
          3
         ],
         "xaxis": "x3",
         "y": [
          0,
          0,
          -1,
          -0.9
         ],
         "yaxis": "y3"
        },
        {
         "hoverinfo": "none",
         "line": {
          "color": "rgba(253,147,69,0.5)",
          "width": 0.5
         },
         "mode": "lines",
         "type": "scatter",
         "x": [
          0,
          1,
          2,
          3
         ],
         "xaxis": "x3",
         "y": [
          0,
          0,
          -1,
          -1
         ],
         "yaxis": "y3"
        },
        {
         "hoverinfo": "none",
         "line": {
          "color": "rgba(250,133,51,0.5)",
          "width": 0.5
         },
         "mode": "lines",
         "type": "scatter",
         "x": [
          0,
          1,
          2,
          3
         ],
         "xaxis": "x3",
         "y": [
          0,
          0,
          0,
          0
         ],
         "yaxis": "y3"
        },
        {
         "hoverinfo": "none",
         "line": {
          "color": "rgba(245,117,33,0.5)",
          "width": 0.5
         },
         "mode": "lines",
         "type": "scatter",
         "x": [
          0,
          1,
          2,
          3
         ],
         "xaxis": "x3",
         "y": [
          0,
          0,
          0,
          0
         ],
         "yaxis": "y3"
        },
        {
         "hoverinfo": "none",
         "line": {
          "color": "rgba(239,103,18,0.5)",
          "width": 0.5
         },
         "mode": "lines",
         "type": "scatter",
         "x": [
          0,
          1,
          2,
          3
         ],
         "xaxis": "x3",
         "y": [
          0,
          0,
          -0.9,
          -0.30000000000000004
         ],
         "yaxis": "y3"
        },
        {
         "hoverinfo": "none",
         "line": {
          "color": "rgba(229,88,10,0.5)",
          "width": 0.5
         },
         "mode": "lines",
         "type": "scatter",
         "x": [
          0,
          1,
          2,
          3
         ],
         "xaxis": "x3",
         "y": [
          0,
          0,
          0,
          0
         ],
         "yaxis": "y3"
        },
        {
         "hoverinfo": "none",
         "line": {
          "color": "rgba(219,75,2,0.5)",
          "width": 0.5
         },
         "mode": "lines",
         "type": "scatter",
         "x": [
          0,
          1,
          2,
          3
         ],
         "xaxis": "x3",
         "y": [
          0,
          0,
          -0.9,
          -0.8
         ],
         "yaxis": "y3"
        },
        {
         "hoverinfo": "none",
         "line": {
          "color": "rgba(253,204,156,0.5)",
          "width": 0.5
         },
         "mode": "lines",
         "type": "scatter",
         "x": [
          0,
          1,
          2,
          3
         ],
         "xaxis": "x3",
         "y": [
          0,
          0,
          -1,
          -0.8
         ],
         "yaxis": "y3"
        },
        {
         "hoverinfo": "none",
         "line": {
          "color": "rgba(253,190,133,0.5)",
          "width": 0.5
         },
         "mode": "lines",
         "type": "scatter",
         "x": [
          0,
          1,
          2,
          3
         ],
         "xaxis": "x3",
         "y": [
          0,
          0,
          -1,
          -0.19999999999999996
         ],
         "yaxis": "y3"
        },
        {
         "hoverinfo": "none",
         "line": {
          "color": "rgba(253,175,109,0.5)",
          "width": 0.5
         },
         "mode": "lines",
         "type": "scatter",
         "x": [
          0,
          1,
          2,
          3
         ],
         "xaxis": "x3",
         "y": [
          0,
          0,
          -0.09999999999999998,
          0
         ],
         "yaxis": "y3"
        },
        {
         "hoverinfo": "none",
         "line": {
          "color": "rgba(253,162,90,0.5)",
          "width": 0.5
         },
         "mode": "lines",
         "type": "scatter",
         "x": [
          0,
          1,
          2,
          3
         ],
         "xaxis": "x3",
         "y": [
          0,
          0,
          0,
          0
         ],
         "yaxis": "y3"
        },
        {
         "hoverinfo": "none",
         "line": {
          "color": "rgba(253,147,69,0.5)",
          "width": 0.5
         },
         "mode": "lines",
         "type": "scatter",
         "x": [
          0,
          1,
          2,
          3
         ],
         "xaxis": "x3",
         "y": [
          0,
          0,
          -1,
          -1
         ],
         "yaxis": "y3"
        },
        {
         "hoverinfo": "none",
         "line": {
          "color": "rgba(250,133,51,0.5)",
          "width": 0.5
         },
         "mode": "lines",
         "type": "scatter",
         "x": [
          0,
          1,
          2,
          3
         ],
         "xaxis": "x3",
         "y": [
          0,
          0,
          -1,
          -0.30000000000000004
         ],
         "yaxis": "y3"
        },
        {
         "hoverinfo": "none",
         "line": {
          "color": "rgba(245,117,33,0.5)",
          "width": 0.5
         },
         "mode": "lines",
         "type": "scatter",
         "x": [
          0,
          1,
          2,
          3
         ],
         "xaxis": "x3",
         "y": [
          0,
          0,
          -1,
          -0.19999999999999996
         ],
         "yaxis": "y3"
        },
        {
         "hoverinfo": "none",
         "line": {
          "color": "rgba(239,103,18,0.5)",
          "width": 0.5
         },
         "mode": "lines",
         "type": "scatter",
         "x": [
          0,
          1,
          2,
          3
         ],
         "xaxis": "x3",
         "y": [
          0,
          0,
          -1,
          -0.6
         ],
         "yaxis": "y3"
        },
        {
         "hoverinfo": "none",
         "line": {
          "color": "rgba(229,88,10,0.5)",
          "width": 0.5
         },
         "mode": "lines",
         "type": "scatter",
         "x": [
          0,
          1,
          2,
          3
         ],
         "xaxis": "x3",
         "y": [
          0,
          0,
          -1,
          -1
         ],
         "yaxis": "y3"
        },
        {
         "hoverinfo": "none",
         "line": {
          "color": "rgba(219,75,2,0.5)",
          "width": 0.5
         },
         "mode": "lines",
         "type": "scatter",
         "x": [
          0,
          1,
          2,
          3
         ],
         "xaxis": "x3",
         "y": [
          0,
          0,
          0,
          0
         ],
         "yaxis": "y3"
        },
        {
         "hoverinfo": "none",
         "line": {
          "color": "rgba(253,204,156,0.5)",
          "width": 0.5
         },
         "mode": "lines",
         "type": "scatter",
         "x": [
          0,
          1,
          2,
          3
         ],
         "xaxis": "x3",
         "y": [
          0,
          0,
          -1,
          0
         ],
         "yaxis": "y3"
        },
        {
         "hoverinfo": "none",
         "line": {
          "color": "rgba(253,190,133,0.5)",
          "width": 0.5
         },
         "mode": "lines",
         "type": "scatter",
         "x": [
          0,
          1,
          2,
          3
         ],
         "xaxis": "x3",
         "y": [
          0,
          0,
          0,
          0
         ],
         "yaxis": "y3"
        },
        {
         "hoverinfo": "none",
         "line": {
          "color": "rgba(253,175,109,0.5)",
          "width": 0.5
         },
         "mode": "lines",
         "type": "scatter",
         "x": [
          0,
          1,
          2,
          3
         ],
         "xaxis": "x3",
         "y": [
          0,
          0,
          -0.9,
          -0.09999999999999998
         ],
         "yaxis": "y3"
        },
        {
         "hoverinfo": "none",
         "line": {
          "color": "rgba(253,162,90,0.5)",
          "width": 0.5
         },
         "mode": "lines",
         "type": "scatter",
         "x": [
          0,
          1,
          2,
          3
         ],
         "xaxis": "x3",
         "y": [
          0,
          0,
          -0.7,
          -0.5
         ],
         "yaxis": "y3"
        },
        {
         "hoverinfo": "none",
         "line": {
          "color": "rgba(253,147,69,0.5)",
          "width": 0.5
         },
         "mode": "lines",
         "type": "scatter",
         "x": [
          0,
          1,
          2,
          3
         ],
         "xaxis": "x3",
         "y": [
          0,
          0,
          -0.09999999999999998,
          -0.19999999999999996
         ],
         "yaxis": "y3"
        },
        {
         "hoverinfo": "none",
         "line": {
          "color": "rgba(250,133,51,0.5)",
          "width": 0.5
         },
         "mode": "lines",
         "type": "scatter",
         "x": [
          0,
          1,
          2,
          3
         ],
         "xaxis": "x3",
         "y": [
          0,
          0,
          0,
          0
         ],
         "yaxis": "y3"
        },
        {
         "hoverinfo": "none",
         "line": {
          "color": "rgba(245,117,33,0.5)",
          "width": 0.5
         },
         "mode": "lines",
         "type": "scatter",
         "x": [
          0,
          1,
          2,
          3
         ],
         "xaxis": "x3",
         "y": [
          0,
          0,
          -0.09999999999999998,
          0
         ],
         "yaxis": "y3"
        },
        {
         "hoverinfo": "none",
         "line": {
          "color": "rgba(239,103,18,0.5)",
          "width": 0.5
         },
         "mode": "lines",
         "type": "scatter",
         "x": [
          0,
          1,
          2,
          3
         ],
         "xaxis": "x3",
         "y": [
          0,
          0,
          -0.09999999999999998,
          0
         ],
         "yaxis": "y3"
        },
        {
         "hoverinfo": "none",
         "line": {
          "color": "rgba(229,88,10,0.5)",
          "width": 0.5
         },
         "mode": "lines",
         "type": "scatter",
         "x": [
          0,
          1,
          2,
          3
         ],
         "xaxis": "x3",
         "y": [
          0,
          0,
          -0.09999999999999998,
          0
         ],
         "yaxis": "y3"
        },
        {
         "hoverinfo": "none",
         "line": {
          "color": "rgba(219,75,2,0.5)",
          "width": 0.5
         },
         "mode": "lines",
         "type": "scatter",
         "x": [
          0,
          1,
          2,
          3
         ],
         "xaxis": "x3",
         "y": [
          0,
          0,
          -1,
          -0.8
         ],
         "yaxis": "y3"
        },
        {
         "hoverinfo": "none",
         "line": {
          "color": "rgba(253,204,156,0.5)",
          "width": 0.5
         },
         "mode": "lines",
         "type": "scatter",
         "x": [
          0,
          1,
          2,
          3
         ],
         "xaxis": "x3",
         "y": [
          0,
          0,
          -1,
          -1
         ],
         "yaxis": "y3"
        },
        {
         "hoverinfo": "none",
         "line": {
          "color": "rgba(253,190,133,0.5)",
          "width": 0.5
         },
         "mode": "lines",
         "type": "scatter",
         "x": [
          0,
          1,
          2,
          3
         ],
         "xaxis": "x3",
         "y": [
          0,
          0,
          -0.09999999999999998,
          0
         ],
         "yaxis": "y3"
        },
        {
         "hoverinfo": "none",
         "line": {
          "color": "rgba(253,175,109,0.5)",
          "width": 0.5
         },
         "mode": "lines",
         "type": "scatter",
         "x": [
          0,
          1,
          2,
          3
         ],
         "xaxis": "x3",
         "y": [
          0,
          0,
          -1,
          0
         ],
         "yaxis": "y3"
        },
        {
         "hoverinfo": "none",
         "line": {
          "color": "rgba(253,162,90,0.5)",
          "width": 0.5
         },
         "mode": "lines",
         "type": "scatter",
         "x": [
          0,
          1,
          2,
          3
         ],
         "xaxis": "x3",
         "y": [
          0,
          0,
          -0.9,
          -0.9
         ],
         "yaxis": "y3"
        },
        {
         "hoverinfo": "none",
         "line": {
          "color": "rgba(253,147,69,0.5)",
          "width": 0.5
         },
         "mode": "lines",
         "type": "scatter",
         "x": [
          0,
          1,
          2,
          3
         ],
         "xaxis": "x3",
         "y": [
          0,
          0,
          0,
          0
         ],
         "yaxis": "y3"
        },
        {
         "hoverinfo": "none",
         "line": {
          "color": "rgba(250,133,51,0.5)",
          "width": 0.5
         },
         "mode": "lines",
         "type": "scatter",
         "x": [
          0,
          1,
          2,
          3
         ],
         "xaxis": "x3",
         "y": [
          0,
          0,
          -0.7,
          -0.8
         ],
         "yaxis": "y3"
        },
        {
         "hoverinfo": "none",
         "line": {
          "color": "rgba(245,117,33,0.5)",
          "width": 0.5
         },
         "mode": "lines",
         "type": "scatter",
         "x": [
          0,
          1,
          2,
          3
         ],
         "xaxis": "x3",
         "y": [
          0,
          0,
          -1,
          -0.8
         ],
         "yaxis": "y3"
        },
        {
         "hoverinfo": "none",
         "line": {
          "color": "rgba(239,103,18,0.5)",
          "width": 0.5
         },
         "mode": "lines",
         "type": "scatter",
         "x": [
          0,
          1,
          2,
          3
         ],
         "xaxis": "x3",
         "y": [
          0,
          0,
          -0.9,
          -1
         ],
         "yaxis": "y3"
        },
        {
         "hoverinfo": "none",
         "line": {
          "color": "rgba(229,88,10,0.5)",
          "width": 0.5
         },
         "mode": "lines",
         "type": "scatter",
         "x": [
          0,
          1,
          2,
          3
         ],
         "xaxis": "x3",
         "y": [
          0,
          0,
          -0.9,
          -0.8
         ],
         "yaxis": "y3"
        },
        {
         "hoverinfo": "none",
         "line": {
          "color": "rgba(219,75,2,0.5)",
          "width": 0.5
         },
         "mode": "lines",
         "type": "scatter",
         "x": [
          0,
          1,
          2,
          3
         ],
         "xaxis": "x3",
         "y": [
          0,
          0,
          0,
          0
         ],
         "yaxis": "y3"
        },
        {
         "hoverinfo": "none",
         "line": {
          "color": "rgba(253,204,156,0.5)",
          "width": 0.5
         },
         "mode": "lines",
         "type": "scatter",
         "x": [
          0,
          1,
          2,
          3
         ],
         "xaxis": "x3",
         "y": [
          0,
          0,
          0,
          0
         ],
         "yaxis": "y3"
        },
        {
         "hoverinfo": "none",
         "line": {
          "color": "rgba(253,190,133,0.5)",
          "width": 0.5
         },
         "mode": "lines",
         "type": "scatter",
         "x": [
          0,
          1,
          2,
          3
         ],
         "xaxis": "x3",
         "y": [
          0,
          0,
          -1,
          0
         ],
         "yaxis": "y3"
        },
        {
         "hoverinfo": "none",
         "line": {
          "color": "rgba(253,175,109,0.5)",
          "width": 0.5
         },
         "mode": "lines",
         "type": "scatter",
         "x": [
          0,
          1,
          2,
          3
         ],
         "xaxis": "x3",
         "y": [
          0,
          0,
          -0.9,
          -0.9
         ],
         "yaxis": "y3"
        },
        {
         "hoverinfo": "none",
         "line": {
          "color": "rgba(253,162,90,0.5)",
          "width": 0.5
         },
         "mode": "lines",
         "type": "scatter",
         "x": [
          0,
          1,
          2,
          3
         ],
         "xaxis": "x3",
         "y": [
          0,
          0,
          -0.9,
          -0.30000000000000004
         ],
         "yaxis": "y3"
        },
        {
         "hoverinfo": "none",
         "line": {
          "color": "rgba(253,147,69,0.5)",
          "width": 0.5
         },
         "mode": "lines",
         "type": "scatter",
         "x": [
          0,
          1,
          2,
          3
         ],
         "xaxis": "x3",
         "y": [
          0,
          0,
          -1,
          -1
         ],
         "yaxis": "y3"
        },
        {
         "hoverinfo": "none",
         "line": {
          "color": "rgba(250,133,51,0.5)",
          "width": 0.5
         },
         "mode": "lines",
         "type": "scatter",
         "x": [
          0,
          1,
          2,
          3
         ],
         "xaxis": "x3",
         "y": [
          0,
          0,
          0,
          0
         ],
         "yaxis": "y3"
        },
        {
         "hoverinfo": "none",
         "line": {
          "color": "rgba(245,117,33,0.5)",
          "width": 0.5
         },
         "mode": "lines",
         "type": "scatter",
         "x": [
          0,
          1,
          2,
          3
         ],
         "xaxis": "x3",
         "y": [
          0,
          0,
          -1,
          -1
         ],
         "yaxis": "y3"
        },
        {
         "hoverinfo": "none",
         "line": {
          "color": "rgba(239,103,18,0.5)",
          "width": 0.5
         },
         "mode": "lines",
         "type": "scatter",
         "x": [
          0,
          1,
          2,
          3
         ],
         "xaxis": "x3",
         "y": [
          0,
          0,
          0,
          0
         ],
         "yaxis": "y3"
        },
        {
         "hoverinfo": "none",
         "line": {
          "color": "rgba(229,88,10,0.5)",
          "width": 0.5
         },
         "mode": "lines",
         "type": "scatter",
         "x": [
          0,
          1,
          2,
          3
         ],
         "xaxis": "x3",
         "y": [
          0,
          0,
          -0.9,
          -0.09999999999999998
         ],
         "yaxis": "y3"
        },
        {
         "hoverinfo": "none",
         "line": {
          "color": "rgba(219,75,2,0.5)",
          "width": 0.5
         },
         "mode": "lines",
         "type": "scatter",
         "x": [
          0,
          1,
          2,
          3
         ],
         "xaxis": "x3",
         "y": [
          0,
          0,
          -0.7,
          -0.5
         ],
         "yaxis": "y3"
        },
        {
         "hoverinfo": "none",
         "line": {
          "color": "rgba(253,204,156,0.5)",
          "width": 0.5
         },
         "mode": "lines",
         "type": "scatter",
         "x": [
          0,
          1,
          2,
          3
         ],
         "xaxis": "x3",
         "y": [
          0,
          0,
          -1,
          -1
         ],
         "yaxis": "y3"
        },
        {
         "hoverinfo": "none",
         "line": {
          "color": "rgba(253,190,133,0.5)",
          "width": 0.5
         },
         "mode": "lines",
         "type": "scatter",
         "x": [
          0,
          1,
          2,
          3
         ],
         "xaxis": "x3",
         "y": [
          0,
          0,
          -1,
          -1
         ],
         "yaxis": "y3"
        },
        {
         "hoverinfo": "none",
         "line": {
          "color": "rgba(253,175,109,0.5)",
          "width": 0.5
         },
         "mode": "lines",
         "type": "scatter",
         "x": [
          0,
          1,
          2,
          3
         ],
         "xaxis": "x3",
         "y": [
          0,
          0,
          0,
          0
         ],
         "yaxis": "y3"
        },
        {
         "hoverinfo": "none",
         "line": {
          "color": "rgba(253,162,90,0.5)",
          "width": 0.5
         },
         "mode": "lines",
         "type": "scatter",
         "x": [
          0,
          1,
          2,
          3
         ],
         "xaxis": "x3",
         "y": [
          0,
          0,
          0,
          0
         ],
         "yaxis": "y3"
        },
        {
         "hoverinfo": "none",
         "line": {
          "color": "rgba(253,147,69,0.5)",
          "width": 0.5
         },
         "mode": "lines",
         "type": "scatter",
         "x": [
          0,
          1,
          2,
          3
         ],
         "xaxis": "x3",
         "y": [
          0,
          0,
          -1,
          -1
         ],
         "yaxis": "y3"
        },
        {
         "hoverinfo": "none",
         "line": {
          "color": "rgba(250,133,51,0.5)",
          "width": 0.5
         },
         "mode": "lines",
         "type": "scatter",
         "x": [
          0,
          1,
          2,
          3
         ],
         "xaxis": "x3",
         "y": [
          0,
          0,
          -0.19999999999999996,
          -0.09999999999999998
         ],
         "yaxis": "y3"
        },
        {
         "hoverinfo": "none",
         "line": {
          "color": "rgba(245,117,33,0.5)",
          "width": 0.5
         },
         "mode": "lines",
         "type": "scatter",
         "x": [
          0,
          1,
          2,
          3
         ],
         "xaxis": "x3",
         "y": [
          0,
          0,
          0,
          0
         ],
         "yaxis": "y3"
        },
        {
         "hoverinfo": "none",
         "line": {
          "color": "rgba(239,103,18,0.5)",
          "width": 0.5
         },
         "mode": "lines",
         "type": "scatter",
         "x": [
          0,
          1,
          2,
          3
         ],
         "xaxis": "x3",
         "y": [
          0,
          0,
          0,
          0
         ],
         "yaxis": "y3"
        },
        {
         "hoverinfo": "none",
         "line": {
          "color": "rgba(229,88,10,0.5)",
          "width": 0.5
         },
         "mode": "lines",
         "type": "scatter",
         "x": [
          0,
          1,
          2,
          3
         ],
         "xaxis": "x3",
         "y": [
          0,
          0,
          -1,
          -1
         ],
         "yaxis": "y3"
        },
        {
         "hoverinfo": "none",
         "line": {
          "color": "rgba(219,75,2,0.5)",
          "width": 0.5
         },
         "mode": "lines",
         "type": "scatter",
         "x": [
          0,
          1,
          2,
          3
         ],
         "xaxis": "x3",
         "y": [
          0,
          0,
          -0.9,
          -0.09999999999999998
         ],
         "yaxis": "y3"
        },
        {
         "hoverinfo": "none",
         "line": {
          "color": "rgba(253,204,156,0.5)",
          "width": 0.5
         },
         "mode": "lines",
         "type": "scatter",
         "x": [
          0,
          1,
          2,
          3
         ],
         "xaxis": "x3",
         "y": [
          0,
          0,
          0,
          0
         ],
         "yaxis": "y3"
        },
        {
         "hoverinfo": "none",
         "line": {
          "color": "rgba(253,190,133,0.5)",
          "width": 0.5
         },
         "mode": "lines",
         "type": "scatter",
         "x": [
          0,
          1,
          2,
          3
         ],
         "xaxis": "x3",
         "y": [
          0,
          0,
          0,
          -0.09999999999999998
         ],
         "yaxis": "y3"
        },
        {
         "hoverinfo": "none",
         "line": {
          "color": "rgba(253,175,109,0.5)",
          "width": 0.5
         },
         "mode": "lines",
         "type": "scatter",
         "x": [
          0,
          1,
          2,
          3
         ],
         "xaxis": "x3",
         "y": [
          0,
          0,
          -1,
          -1
         ],
         "yaxis": "y3"
        },
        {
         "hoverinfo": "none",
         "line": {
          "color": "rgba(253,162,90,0.5)",
          "width": 0.5
         },
         "mode": "lines",
         "type": "scatter",
         "x": [
          0,
          1,
          2,
          3
         ],
         "xaxis": "x3",
         "y": [
          0,
          0,
          0,
          0
         ],
         "yaxis": "y3"
        },
        {
         "hoverinfo": "none",
         "line": {
          "color": "rgba(253,147,69,0.5)",
          "width": 0.5
         },
         "mode": "lines",
         "type": "scatter",
         "x": [
          0,
          1,
          2,
          3
         ],
         "xaxis": "x3",
         "y": [
          0,
          0,
          -0.9,
          -1
         ],
         "yaxis": "y3"
        },
        {
         "hoverinfo": "none",
         "line": {
          "color": "rgba(250,133,51,0.5)",
          "width": 0.5
         },
         "mode": "lines",
         "type": "scatter",
         "x": [
          0,
          1,
          2,
          3
         ],
         "xaxis": "x3",
         "y": [
          0,
          0,
          -1,
          -0.9
         ],
         "yaxis": "y3"
        },
        {
         "hoverinfo": "none",
         "line": {
          "color": "rgba(245,117,33,0.5)",
          "width": 0.5
         },
         "mode": "lines",
         "type": "scatter",
         "x": [
          0,
          1,
          2,
          3
         ],
         "xaxis": "x3",
         "y": [
          0,
          0,
          -0.19999999999999996,
          -0.09999999999999998
         ],
         "yaxis": "y3"
        },
        {
         "hoverinfo": "none",
         "line": {
          "color": "rgba(239,103,18,0.5)",
          "width": 0.5
         },
         "mode": "lines",
         "type": "scatter",
         "x": [
          0,
          1,
          2,
          3
         ],
         "xaxis": "x3",
         "y": [
          0,
          0,
          0,
          0
         ],
         "yaxis": "y3"
        },
        {
         "hoverinfo": "none",
         "line": {
          "color": "rgba(229,88,10,0.5)",
          "width": 0.5
         },
         "mode": "lines",
         "type": "scatter",
         "x": [
          0,
          1,
          2,
          3
         ],
         "xaxis": "x3",
         "y": [
          0,
          0,
          -0.9,
          -0.9
         ],
         "yaxis": "y3"
        },
        {
         "hoverinfo": "none",
         "line": {
          "color": "rgba(219,75,2,0.5)",
          "width": 0.5
         },
         "mode": "lines",
         "type": "scatter",
         "x": [
          0,
          1,
          2,
          3
         ],
         "xaxis": "x3",
         "y": [
          0,
          0,
          0,
          0
         ],
         "yaxis": "y3"
        },
        {
         "hoverinfo": "none",
         "line": {
          "color": "#FEDC00",
          "width": 4.5
         },
         "mode": "lines",
         "type": "scatter",
         "x": [
          0,
          1,
          2,
          3
         ],
         "xaxis": "x3",
         "y": [
          0,
          0,
          -0.5082108902333622,
          -0.374589455488332
         ],
         "yaxis": "y3"
        },
        {
         "hoverinfo": "none",
         "line": {
          "color": "#E75438",
          "dash": "dash",
          "width": 1.5
         },
         "mode": "lines",
         "type": "scatter",
         "x": [
          0,
          1,
          2,
          3
         ],
         "xaxis": "x3",
         "y": [
          0,
          0,
          0,
          0
         ],
         "yaxis": "y3"
        },
        {
         "hovertemplate": "%{y}",
         "line": {
          "color": "rgba(127,39,4,1.0)",
          "width": 1.5
         },
         "marker": {
          "color": "rgba(127,39,4,1.0)",
          "size": 5
         },
         "mode": "lines+markers",
         "name": "pdp",
         "type": "scatter",
         "x": [
          0,
          1,
          2,
          3
         ],
         "xaxis": "x3",
         "y": [
          0,
          0,
          -0.5082108902333622,
          -0.374589455488332
         ],
         "yaxis": "y3"
        },
        {
         "colorscale": [
          [
           0,
           "rgb(255,245,235)"
          ],
          [
           0.125,
           "rgb(254,230,206)"
          ],
          [
           0.25,
           "rgb(253,208,162)"
          ],
          [
           0.375,
           "rgb(253,174,107)"
          ],
          [
           0.5,
           "rgb(253,141,60)"
          ],
          [
           0.625,
           "rgb(241,105,19)"
          ],
          [
           0.75,
           "rgb(217,72,1)"
          ],
          [
           0.875,
           "rgb(166,54,3)"
          ],
          [
           1,
           "rgb(127,39,4)"
          ]
         ],
         "hovertemplate": "%{text}",
         "name": "dist",
         "opacity": 0.8,
         "showscale": false,
         "text": [
          [
           0.334,
           0.666
          ]
         ],
         "texttemplate": "%{text}",
         "type": "heatmap",
         "x": [
          0,
          2
         ],
         "xaxis": "x6",
         "xgap": 2,
         "y": [
          0
         ],
         "yaxis": "y6",
         "z": [
          [
           0.33362143474503025,
           0.6663785652549697
          ]
         ],
         "zmax": 0.6663785652549697,
         "zmin": 0
        },
        {
         "hoverinfo": "none",
         "line": {
          "color": "rgba(252,182,156,0.5)",
          "width": 0.5
         },
         "mode": "lines",
         "type": "scatter",
         "x": [
          0,
          1,
          2,
          3
         ],
         "xaxis": "x7",
         "y": [
          0,
          0,
          0.1,
          0
         ],
         "yaxis": "y7"
        },
        {
         "hoverinfo": "none",
         "line": {
          "color": "rgba(252,166,137,0.5)",
          "width": 0.5
         },
         "mode": "lines",
         "type": "scatter",
         "x": [
          0,
          1,
          2,
          3
         ],
         "xaxis": "x7",
         "y": [
          0,
          0,
          0.7,
          0.1
         ],
         "yaxis": "y7"
        },
        {
         "hoverinfo": "none",
         "line": {
          "color": "rgba(252,148,116,0.5)",
          "width": 0.5
         },
         "mode": "lines",
         "type": "scatter",
         "x": [
          0,
          1,
          2,
          3
         ],
         "xaxis": "x7",
         "y": [
          0,
          0,
          0.8,
          0.2
         ],
         "yaxis": "y7"
        },
        {
         "hoverinfo": "none",
         "line": {
          "color": "rgba(251,131,99,0.5)",
          "width": 0.5
         },
         "mode": "lines",
         "type": "scatter",
         "x": [
          0,
          1,
          2,
          3
         ],
         "xaxis": "x7",
         "y": [
          0,
          0,
          0,
          0
         ],
         "yaxis": "y7"
        },
        {
         "hoverinfo": "none",
         "line": {
          "color": "rgba(251,114,82,0.5)",
          "width": 0.5
         },
         "mode": "lines",
         "type": "scatter",
         "x": [
          0,
          1,
          2,
          3
         ],
         "xaxis": "x7",
         "y": [
          0,
          0,
          0,
          0
         ],
         "yaxis": "y7"
        },
        {
         "hoverinfo": "none",
         "line": {
          "color": "rgba(248,96,67,0.5)",
          "width": 0.5
         },
         "mode": "lines",
         "type": "scatter",
         "x": [
          0,
          1,
          2,
          3
         ],
         "xaxis": "x7",
         "y": [
          0,
          0,
          1,
          0.1
         ],
         "yaxis": "y7"
        },
        {
         "hoverinfo": "none",
         "line": {
          "color": "rgba(243,75,54,0.5)",
          "width": 0.5
         },
         "mode": "lines",
         "type": "scatter",
         "x": [
          0,
          1,
          2,
          3
         ],
         "xaxis": "x7",
         "y": [
          0,
          0,
          0,
          0
         ],
         "yaxis": "y7"
        },
        {
         "hoverinfo": "none",
         "line": {
          "color": "rgba(237,57,43,0.5)",
          "width": 0.5
         },
         "mode": "lines",
         "type": "scatter",
         "x": [
          0,
          1,
          2,
          3
         ],
         "xaxis": "x7",
         "y": [
          0,
          0,
          0,
          0
         ],
         "yaxis": "y7"
        },
        {
         "hoverinfo": "none",
         "line": {
          "color": "rgba(221,41,36,0.5)",
          "width": 0.5
         },
         "mode": "lines",
         "type": "scatter",
         "x": [
          0,
          1,
          2,
          3
         ],
         "xaxis": "x7",
         "y": [
          0,
          0,
          0,
          0
         ],
         "yaxis": "y7"
        },
        {
         "hoverinfo": "none",
         "line": {
          "color": "rgba(206,27,30,0.5)",
          "width": 0.5
         },
         "mode": "lines",
         "type": "scatter",
         "x": [
          0,
          1,
          2,
          3
         ],
         "xaxis": "x7",
         "y": [
          0,
          0,
          0,
          0
         ],
         "yaxis": "y7"
        },
        {
         "hoverinfo": "none",
         "line": {
          "color": "rgba(252,182,156,0.5)",
          "width": 0.5
         },
         "mode": "lines",
         "type": "scatter",
         "x": [
          0,
          1,
          2,
          3
         ],
         "xaxis": "x7",
         "y": [
          0,
          0,
          0,
          0
         ],
         "yaxis": "y7"
        },
        {
         "hoverinfo": "none",
         "line": {
          "color": "rgba(252,166,137,0.5)",
          "width": 0.5
         },
         "mode": "lines",
         "type": "scatter",
         "x": [
          0,
          1,
          2,
          3
         ],
         "xaxis": "x7",
         "y": [
          0,
          0,
          0,
          0
         ],
         "yaxis": "y7"
        },
        {
         "hoverinfo": "none",
         "line": {
          "color": "rgba(252,148,116,0.5)",
          "width": 0.5
         },
         "mode": "lines",
         "type": "scatter",
         "x": [
          0,
          1,
          2,
          3
         ],
         "xaxis": "x7",
         "y": [
          0,
          0,
          0,
          0
         ],
         "yaxis": "y7"
        },
        {
         "hoverinfo": "none",
         "line": {
          "color": "rgba(251,131,99,0.5)",
          "width": 0.5
         },
         "mode": "lines",
         "type": "scatter",
         "x": [
          0,
          1,
          2,
          3
         ],
         "xaxis": "x7",
         "y": [
          0,
          0,
          0,
          0
         ],
         "yaxis": "y7"
        },
        {
         "hoverinfo": "none",
         "line": {
          "color": "rgba(251,114,82,0.5)",
          "width": 0.5
         },
         "mode": "lines",
         "type": "scatter",
         "x": [
          0,
          1,
          2,
          3
         ],
         "xaxis": "x7",
         "y": [
          0,
          0,
          0,
          0
         ],
         "yaxis": "y7"
        },
        {
         "hoverinfo": "none",
         "line": {
          "color": "rgba(248,96,67,0.5)",
          "width": 0.5
         },
         "mode": "lines",
         "type": "scatter",
         "x": [
          0,
          1,
          2,
          3
         ],
         "xaxis": "x7",
         "y": [
          0,
          0,
          0,
          0
         ],
         "yaxis": "y7"
        },
        {
         "hoverinfo": "none",
         "line": {
          "color": "rgba(243,75,54,0.5)",
          "width": 0.5
         },
         "mode": "lines",
         "type": "scatter",
         "x": [
          0,
          1,
          2,
          3
         ],
         "xaxis": "x7",
         "y": [
          0,
          0,
          0,
          0
         ],
         "yaxis": "y7"
        },
        {
         "hoverinfo": "none",
         "line": {
          "color": "rgba(237,57,43,0.5)",
          "width": 0.5
         },
         "mode": "lines",
         "type": "scatter",
         "x": [
          0,
          1,
          2,
          3
         ],
         "xaxis": "x7",
         "y": [
          0,
          0,
          0,
          0
         ],
         "yaxis": "y7"
        },
        {
         "hoverinfo": "none",
         "line": {
          "color": "rgba(221,41,36,0.5)",
          "width": 0.5
         },
         "mode": "lines",
         "type": "scatter",
         "x": [
          0,
          1,
          2,
          3
         ],
         "xaxis": "x7",
         "y": [
          0,
          0,
          0,
          0
         ],
         "yaxis": "y7"
        },
        {
         "hoverinfo": "none",
         "line": {
          "color": "rgba(206,27,30,0.5)",
          "width": 0.5
         },
         "mode": "lines",
         "type": "scatter",
         "x": [
          0,
          1,
          2,
          3
         ],
         "xaxis": "x7",
         "y": [
          0,
          0,
          0,
          0
         ],
         "yaxis": "y7"
        },
        {
         "hoverinfo": "none",
         "line": {
          "color": "rgba(252,182,156,0.5)",
          "width": 0.5
         },
         "mode": "lines",
         "type": "scatter",
         "x": [
          0,
          1,
          2,
          3
         ],
         "xaxis": "x7",
         "y": [
          0,
          0,
          0,
          0
         ],
         "yaxis": "y7"
        },
        {
         "hoverinfo": "none",
         "line": {
          "color": "rgba(252,166,137,0.5)",
          "width": 0.5
         },
         "mode": "lines",
         "type": "scatter",
         "x": [
          0,
          1,
          2,
          3
         ],
         "xaxis": "x7",
         "y": [
          0,
          0,
          0,
          0
         ],
         "yaxis": "y7"
        },
        {
         "hoverinfo": "none",
         "line": {
          "color": "rgba(252,148,116,0.5)",
          "width": 0.5
         },
         "mode": "lines",
         "type": "scatter",
         "x": [
          0,
          1,
          2,
          3
         ],
         "xaxis": "x7",
         "y": [
          0,
          0,
          0,
          0
         ],
         "yaxis": "y7"
        },
        {
         "hoverinfo": "none",
         "line": {
          "color": "rgba(251,131,99,0.5)",
          "width": 0.5
         },
         "mode": "lines",
         "type": "scatter",
         "x": [
          0,
          1,
          2,
          3
         ],
         "xaxis": "x7",
         "y": [
          0,
          0,
          0.9,
          0
         ],
         "yaxis": "y7"
        },
        {
         "hoverinfo": "none",
         "line": {
          "color": "rgba(251,114,82,0.5)",
          "width": 0.5
         },
         "mode": "lines",
         "type": "scatter",
         "x": [
          0,
          1,
          2,
          3
         ],
         "xaxis": "x7",
         "y": [
          0,
          0,
          0,
          0
         ],
         "yaxis": "y7"
        },
        {
         "hoverinfo": "none",
         "line": {
          "color": "rgba(248,96,67,0.5)",
          "width": 0.5
         },
         "mode": "lines",
         "type": "scatter",
         "x": [
          0,
          1,
          2,
          3
         ],
         "xaxis": "x7",
         "y": [
          0,
          0,
          0,
          0
         ],
         "yaxis": "y7"
        },
        {
         "hoverinfo": "none",
         "line": {
          "color": "rgba(243,75,54,0.5)",
          "width": 0.5
         },
         "mode": "lines",
         "type": "scatter",
         "x": [
          0,
          1,
          2,
          3
         ],
         "xaxis": "x7",
         "y": [
          0,
          0,
          0,
          0
         ],
         "yaxis": "y7"
        },
        {
         "hoverinfo": "none",
         "line": {
          "color": "rgba(237,57,43,0.5)",
          "width": 0.5
         },
         "mode": "lines",
         "type": "scatter",
         "x": [
          0,
          1,
          2,
          3
         ],
         "xaxis": "x7",
         "y": [
          0,
          0,
          1,
          0
         ],
         "yaxis": "y7"
        },
        {
         "hoverinfo": "none",
         "line": {
          "color": "rgba(221,41,36,0.5)",
          "width": 0.5
         },
         "mode": "lines",
         "type": "scatter",
         "x": [
          0,
          1,
          2,
          3
         ],
         "xaxis": "x7",
         "y": [
          0,
          0,
          0.3,
          0
         ],
         "yaxis": "y7"
        },
        {
         "hoverinfo": "none",
         "line": {
          "color": "rgba(206,27,30,0.5)",
          "width": 0.5
         },
         "mode": "lines",
         "type": "scatter",
         "x": [
          0,
          1,
          2,
          3
         ],
         "xaxis": "x7",
         "y": [
          0,
          0,
          0,
          0
         ],
         "yaxis": "y7"
        },
        {
         "hoverinfo": "none",
         "line": {
          "color": "rgba(252,182,156,0.5)",
          "width": 0.5
         },
         "mode": "lines",
         "type": "scatter",
         "x": [
          0,
          1,
          2,
          3
         ],
         "xaxis": "x7",
         "y": [
          0,
          0,
          0,
          0
         ],
         "yaxis": "y7"
        },
        {
         "hoverinfo": "none",
         "line": {
          "color": "rgba(252,166,137,0.5)",
          "width": 0.5
         },
         "mode": "lines",
         "type": "scatter",
         "x": [
          0,
          1,
          2,
          3
         ],
         "xaxis": "x7",
         "y": [
          0,
          0,
          0,
          0
         ],
         "yaxis": "y7"
        },
        {
         "hoverinfo": "none",
         "line": {
          "color": "rgba(252,148,116,0.5)",
          "width": 0.5
         },
         "mode": "lines",
         "type": "scatter",
         "x": [
          0,
          1,
          2,
          3
         ],
         "xaxis": "x7",
         "y": [
          0,
          0,
          0.8,
          0
         ],
         "yaxis": "y7"
        },
        {
         "hoverinfo": "none",
         "line": {
          "color": "rgba(251,131,99,0.5)",
          "width": 0.5
         },
         "mode": "lines",
         "type": "scatter",
         "x": [
          0,
          1,
          2,
          3
         ],
         "xaxis": "x7",
         "y": [
          0,
          0,
          0,
          0
         ],
         "yaxis": "y7"
        },
        {
         "hoverinfo": "none",
         "line": {
          "color": "rgba(251,114,82,0.5)",
          "width": 0.5
         },
         "mode": "lines",
         "type": "scatter",
         "x": [
          0,
          1,
          2,
          3
         ],
         "xaxis": "x7",
         "y": [
          0,
          0,
          0.1,
          0
         ],
         "yaxis": "y7"
        },
        {
         "hoverinfo": "none",
         "line": {
          "color": "rgba(248,96,67,0.5)",
          "width": 0.5
         },
         "mode": "lines",
         "type": "scatter",
         "x": [
          0,
          1,
          2,
          3
         ],
         "xaxis": "x7",
         "y": [
          0,
          0,
          0,
          0
         ],
         "yaxis": "y7"
        },
        {
         "hoverinfo": "none",
         "line": {
          "color": "rgba(243,75,54,0.5)",
          "width": 0.5
         },
         "mode": "lines",
         "type": "scatter",
         "x": [
          0,
          1,
          2,
          3
         ],
         "xaxis": "x7",
         "y": [
          0,
          0,
          0,
          0
         ],
         "yaxis": "y7"
        },
        {
         "hoverinfo": "none",
         "line": {
          "color": "rgba(237,57,43,0.5)",
          "width": 0.5
         },
         "mode": "lines",
         "type": "scatter",
         "x": [
          0,
          1,
          2,
          3
         ],
         "xaxis": "x7",
         "y": [
          0,
          0,
          0,
          0
         ],
         "yaxis": "y7"
        },
        {
         "hoverinfo": "none",
         "line": {
          "color": "rgba(221,41,36,0.5)",
          "width": 0.5
         },
         "mode": "lines",
         "type": "scatter",
         "x": [
          0,
          1,
          2,
          3
         ],
         "xaxis": "x7",
         "y": [
          0,
          0,
          0.9,
          0.1
         ],
         "yaxis": "y7"
        },
        {
         "hoverinfo": "none",
         "line": {
          "color": "rgba(206,27,30,0.5)",
          "width": 0.5
         },
         "mode": "lines",
         "type": "scatter",
         "x": [
          0,
          1,
          2,
          3
         ],
         "xaxis": "x7",
         "y": [
          0,
          0,
          0,
          0
         ],
         "yaxis": "y7"
        },
        {
         "hoverinfo": "none",
         "line": {
          "color": "rgba(252,182,156,0.5)",
          "width": 0.5
         },
         "mode": "lines",
         "type": "scatter",
         "x": [
          0,
          1,
          2,
          3
         ],
         "xaxis": "x7",
         "y": [
          0,
          0,
          0,
          0
         ],
         "yaxis": "y7"
        },
        {
         "hoverinfo": "none",
         "line": {
          "color": "rgba(252,166,137,0.5)",
          "width": 0.5
         },
         "mode": "lines",
         "type": "scatter",
         "x": [
          0,
          1,
          2,
          3
         ],
         "xaxis": "x7",
         "y": [
          0,
          0,
          0,
          0
         ],
         "yaxis": "y7"
        },
        {
         "hoverinfo": "none",
         "line": {
          "color": "rgba(252,148,116,0.5)",
          "width": 0.5
         },
         "mode": "lines",
         "type": "scatter",
         "x": [
          0,
          1,
          2,
          3
         ],
         "xaxis": "x7",
         "y": [
          0,
          0,
          0,
          0
         ],
         "yaxis": "y7"
        },
        {
         "hoverinfo": "none",
         "line": {
          "color": "rgba(251,131,99,0.5)",
          "width": 0.5
         },
         "mode": "lines",
         "type": "scatter",
         "x": [
          0,
          1,
          2,
          3
         ],
         "xaxis": "x7",
         "y": [
          0,
          0,
          0.1,
          0
         ],
         "yaxis": "y7"
        },
        {
         "hoverinfo": "none",
         "line": {
          "color": "rgba(251,114,82,0.5)",
          "width": 0.5
         },
         "mode": "lines",
         "type": "scatter",
         "x": [
          0,
          1,
          2,
          3
         ],
         "xaxis": "x7",
         "y": [
          0,
          0,
          0,
          0
         ],
         "yaxis": "y7"
        },
        {
         "hoverinfo": "none",
         "line": {
          "color": "rgba(248,96,67,0.5)",
          "width": 0.5
         },
         "mode": "lines",
         "type": "scatter",
         "x": [
          0,
          1,
          2,
          3
         ],
         "xaxis": "x7",
         "y": [
          0,
          0,
          0,
          0
         ],
         "yaxis": "y7"
        },
        {
         "hoverinfo": "none",
         "line": {
          "color": "rgba(243,75,54,0.5)",
          "width": 0.5
         },
         "mode": "lines",
         "type": "scatter",
         "x": [
          0,
          1,
          2,
          3
         ],
         "xaxis": "x7",
         "y": [
          0,
          0,
          0,
          0
         ],
         "yaxis": "y7"
        },
        {
         "hoverinfo": "none",
         "line": {
          "color": "rgba(237,57,43,0.5)",
          "width": 0.5
         },
         "mode": "lines",
         "type": "scatter",
         "x": [
          0,
          1,
          2,
          3
         ],
         "xaxis": "x7",
         "y": [
          0,
          0,
          0,
          0
         ],
         "yaxis": "y7"
        },
        {
         "hoverinfo": "none",
         "line": {
          "color": "rgba(221,41,36,0.5)",
          "width": 0.5
         },
         "mode": "lines",
         "type": "scatter",
         "x": [
          0,
          1,
          2,
          3
         ],
         "xaxis": "x7",
         "y": [
          0,
          0,
          0,
          0
         ],
         "yaxis": "y7"
        },
        {
         "hoverinfo": "none",
         "line": {
          "color": "rgba(206,27,30,0.5)",
          "width": 0.5
         },
         "mode": "lines",
         "type": "scatter",
         "x": [
          0,
          1,
          2,
          3
         ],
         "xaxis": "x7",
         "y": [
          0,
          0,
          0,
          0
         ],
         "yaxis": "y7"
        },
        {
         "hoverinfo": "none",
         "line": {
          "color": "rgba(252,182,156,0.5)",
          "width": 0.5
         },
         "mode": "lines",
         "type": "scatter",
         "x": [
          0,
          1,
          2,
          3
         ],
         "xaxis": "x7",
         "y": [
          0,
          0,
          0.2,
          0
         ],
         "yaxis": "y7"
        },
        {
         "hoverinfo": "none",
         "line": {
          "color": "rgba(252,166,137,0.5)",
          "width": 0.5
         },
         "mode": "lines",
         "type": "scatter",
         "x": [
          0,
          1,
          2,
          3
         ],
         "xaxis": "x7",
         "y": [
          0,
          0,
          0,
          0
         ],
         "yaxis": "y7"
        },
        {
         "hoverinfo": "none",
         "line": {
          "color": "rgba(252,148,116,0.5)",
          "width": 0.5
         },
         "mode": "lines",
         "type": "scatter",
         "x": [
          0,
          1,
          2,
          3
         ],
         "xaxis": "x7",
         "y": [
          0,
          0,
          0,
          0
         ],
         "yaxis": "y7"
        },
        {
         "hoverinfo": "none",
         "line": {
          "color": "rgba(251,131,99,0.5)",
          "width": 0.5
         },
         "mode": "lines",
         "type": "scatter",
         "x": [
          0,
          1,
          2,
          3
         ],
         "xaxis": "x7",
         "y": [
          0,
          0,
          0,
          0
         ],
         "yaxis": "y7"
        },
        {
         "hoverinfo": "none",
         "line": {
          "color": "rgba(251,114,82,0.5)",
          "width": 0.5
         },
         "mode": "lines",
         "type": "scatter",
         "x": [
          0,
          1,
          2,
          3
         ],
         "xaxis": "x7",
         "y": [
          0,
          0,
          1,
          0.3
         ],
         "yaxis": "y7"
        },
        {
         "hoverinfo": "none",
         "line": {
          "color": "rgba(248,96,67,0.5)",
          "width": 0.5
         },
         "mode": "lines",
         "type": "scatter",
         "x": [
          0,
          1,
          2,
          3
         ],
         "xaxis": "x7",
         "y": [
          0,
          0,
          0.8,
          0
         ],
         "yaxis": "y7"
        },
        {
         "hoverinfo": "none",
         "line": {
          "color": "rgba(243,75,54,0.5)",
          "width": 0.5
         },
         "mode": "lines",
         "type": "scatter",
         "x": [
          0,
          1,
          2,
          3
         ],
         "xaxis": "x7",
         "y": [
          0,
          0,
          0,
          0
         ],
         "yaxis": "y7"
        },
        {
         "hoverinfo": "none",
         "line": {
          "color": "rgba(237,57,43,0.5)",
          "width": 0.5
         },
         "mode": "lines",
         "type": "scatter",
         "x": [
          0,
          1,
          2,
          3
         ],
         "xaxis": "x7",
         "y": [
          0,
          0,
          0,
          0
         ],
         "yaxis": "y7"
        },
        {
         "hoverinfo": "none",
         "line": {
          "color": "rgba(221,41,36,0.5)",
          "width": 0.5
         },
         "mode": "lines",
         "type": "scatter",
         "x": [
          0,
          1,
          2,
          3
         ],
         "xaxis": "x7",
         "y": [
          0,
          0,
          0,
          0
         ],
         "yaxis": "y7"
        },
        {
         "hoverinfo": "none",
         "line": {
          "color": "rgba(206,27,30,0.5)",
          "width": 0.5
         },
         "mode": "lines",
         "type": "scatter",
         "x": [
          0,
          1,
          2,
          3
         ],
         "xaxis": "x7",
         "y": [
          0,
          0,
          1,
          0
         ],
         "yaxis": "y7"
        },
        {
         "hoverinfo": "none",
         "line": {
          "color": "rgba(252,182,156,0.5)",
          "width": 0.5
         },
         "mode": "lines",
         "type": "scatter",
         "x": [
          0,
          1,
          2,
          3
         ],
         "xaxis": "x7",
         "y": [
          0,
          0,
          0,
          0
         ],
         "yaxis": "y7"
        },
        {
         "hoverinfo": "none",
         "line": {
          "color": "rgba(252,166,137,0.5)",
          "width": 0.5
         },
         "mode": "lines",
         "type": "scatter",
         "x": [
          0,
          1,
          2,
          3
         ],
         "xaxis": "x7",
         "y": [
          0,
          0,
          0,
          0
         ],
         "yaxis": "y7"
        },
        {
         "hoverinfo": "none",
         "line": {
          "color": "rgba(252,148,116,0.5)",
          "width": 0.5
         },
         "mode": "lines",
         "type": "scatter",
         "x": [
          0,
          1,
          2,
          3
         ],
         "xaxis": "x7",
         "y": [
          0,
          0,
          0,
          0
         ],
         "yaxis": "y7"
        },
        {
         "hoverinfo": "none",
         "line": {
          "color": "rgba(251,131,99,0.5)",
          "width": 0.5
         },
         "mode": "lines",
         "type": "scatter",
         "x": [
          0,
          1,
          2,
          3
         ],
         "xaxis": "x7",
         "y": [
          0,
          0,
          0,
          0
         ],
         "yaxis": "y7"
        },
        {
         "hoverinfo": "none",
         "line": {
          "color": "rgba(251,114,82,0.5)",
          "width": 0.5
         },
         "mode": "lines",
         "type": "scatter",
         "x": [
          0,
          1,
          2,
          3
         ],
         "xaxis": "x7",
         "y": [
          0,
          0,
          0,
          0
         ],
         "yaxis": "y7"
        },
        {
         "hoverinfo": "none",
         "line": {
          "color": "rgba(248,96,67,0.5)",
          "width": 0.5
         },
         "mode": "lines",
         "type": "scatter",
         "x": [
          0,
          1,
          2,
          3
         ],
         "xaxis": "x7",
         "y": [
          0,
          0,
          0,
          0
         ],
         "yaxis": "y7"
        },
        {
         "hoverinfo": "none",
         "line": {
          "color": "rgba(243,75,54,0.5)",
          "width": 0.5
         },
         "mode": "lines",
         "type": "scatter",
         "x": [
          0,
          1,
          2,
          3
         ],
         "xaxis": "x7",
         "y": [
          0,
          0,
          0,
          0
         ],
         "yaxis": "y7"
        },
        {
         "hoverinfo": "none",
         "line": {
          "color": "rgba(237,57,43,0.5)",
          "width": 0.5
         },
         "mode": "lines",
         "type": "scatter",
         "x": [
          0,
          1,
          2,
          3
         ],
         "xaxis": "x7",
         "y": [
          0,
          0,
          0,
          0
         ],
         "yaxis": "y7"
        },
        {
         "hoverinfo": "none",
         "line": {
          "color": "rgba(221,41,36,0.5)",
          "width": 0.5
         },
         "mode": "lines",
         "type": "scatter",
         "x": [
          0,
          1,
          2,
          3
         ],
         "xaxis": "x7",
         "y": [
          0,
          0,
          0,
          0
         ],
         "yaxis": "y7"
        },
        {
         "hoverinfo": "none",
         "line": {
          "color": "rgba(206,27,30,0.5)",
          "width": 0.5
         },
         "mode": "lines",
         "type": "scatter",
         "x": [
          0,
          1,
          2,
          3
         ],
         "xaxis": "x7",
         "y": [
          0,
          0,
          0,
          0
         ],
         "yaxis": "y7"
        },
        {
         "hoverinfo": "none",
         "line": {
          "color": "rgba(252,182,156,0.5)",
          "width": 0.5
         },
         "mode": "lines",
         "type": "scatter",
         "x": [
          0,
          1,
          2,
          3
         ],
         "xaxis": "x7",
         "y": [
          0,
          0,
          0.7,
          0.1
         ],
         "yaxis": "y7"
        },
        {
         "hoverinfo": "none",
         "line": {
          "color": "rgba(252,166,137,0.5)",
          "width": 0.5
         },
         "mode": "lines",
         "type": "scatter",
         "x": [
          0,
          1,
          2,
          3
         ],
         "xaxis": "x7",
         "y": [
          0,
          0,
          1,
          0
         ],
         "yaxis": "y7"
        },
        {
         "hoverinfo": "none",
         "line": {
          "color": "rgba(252,148,116,0.5)",
          "width": 0.5
         },
         "mode": "lines",
         "type": "scatter",
         "x": [
          0,
          1,
          2,
          3
         ],
         "xaxis": "x7",
         "y": [
          0,
          0,
          0.1,
          0
         ],
         "yaxis": "y7"
        },
        {
         "hoverinfo": "none",
         "line": {
          "color": "rgba(251,131,99,0.5)",
          "width": 0.5
         },
         "mode": "lines",
         "type": "scatter",
         "x": [
          0,
          1,
          2,
          3
         ],
         "xaxis": "x7",
         "y": [
          0,
          0,
          0,
          0
         ],
         "yaxis": "y7"
        },
        {
         "hoverinfo": "none",
         "line": {
          "color": "rgba(251,114,82,0.5)",
          "width": 0.5
         },
         "mode": "lines",
         "type": "scatter",
         "x": [
          0,
          1,
          2,
          3
         ],
         "xaxis": "x7",
         "y": [
          0,
          0,
          0,
          0
         ],
         "yaxis": "y7"
        },
        {
         "hoverinfo": "none",
         "line": {
          "color": "rgba(248,96,67,0.5)",
          "width": 0.5
         },
         "mode": "lines",
         "type": "scatter",
         "x": [
          0,
          1,
          2,
          3
         ],
         "xaxis": "x7",
         "y": [
          0,
          0,
          0,
          0
         ],
         "yaxis": "y7"
        },
        {
         "hoverinfo": "none",
         "line": {
          "color": "rgba(243,75,54,0.5)",
          "width": 0.5
         },
         "mode": "lines",
         "type": "scatter",
         "x": [
          0,
          1,
          2,
          3
         ],
         "xaxis": "x7",
         "y": [
          0,
          0,
          0,
          0
         ],
         "yaxis": "y7"
        },
        {
         "hoverinfo": "none",
         "line": {
          "color": "rgba(237,57,43,0.5)",
          "width": 0.5
         },
         "mode": "lines",
         "type": "scatter",
         "x": [
          0,
          1,
          2,
          3
         ],
         "xaxis": "x7",
         "y": [
          0,
          0,
          0,
          0
         ],
         "yaxis": "y7"
        },
        {
         "hoverinfo": "none",
         "line": {
          "color": "rgba(221,41,36,0.5)",
          "width": 0.5
         },
         "mode": "lines",
         "type": "scatter",
         "x": [
          0,
          1,
          2,
          3
         ],
         "xaxis": "x7",
         "y": [
          0,
          0,
          0,
          0
         ],
         "yaxis": "y7"
        },
        {
         "hoverinfo": "none",
         "line": {
          "color": "rgba(206,27,30,0.5)",
          "width": 0.5
         },
         "mode": "lines",
         "type": "scatter",
         "x": [
          0,
          1,
          2,
          3
         ],
         "xaxis": "x7",
         "y": [
          0,
          0,
          0.8,
          0
         ],
         "yaxis": "y7"
        },
        {
         "hoverinfo": "none",
         "line": {
          "color": "rgba(252,182,156,0.5)",
          "width": 0.5
         },
         "mode": "lines",
         "type": "scatter",
         "x": [
          0,
          1,
          2,
          3
         ],
         "xaxis": "x7",
         "y": [
          0,
          0,
          0.2,
          0.1
         ],
         "yaxis": "y7"
        },
        {
         "hoverinfo": "none",
         "line": {
          "color": "rgba(252,166,137,0.5)",
          "width": 0.5
         },
         "mode": "lines",
         "type": "scatter",
         "x": [
          0,
          1,
          2,
          3
         ],
         "xaxis": "x7",
         "y": [
          0,
          0,
          0,
          0
         ],
         "yaxis": "y7"
        },
        {
         "hoverinfo": "none",
         "line": {
          "color": "rgba(252,148,116,0.5)",
          "width": 0.5
         },
         "mode": "lines",
         "type": "scatter",
         "x": [
          0,
          1,
          2,
          3
         ],
         "xaxis": "x7",
         "y": [
          0,
          0,
          0,
          0
         ],
         "yaxis": "y7"
        },
        {
         "hoverinfo": "none",
         "line": {
          "color": "rgba(251,131,99,0.5)",
          "width": 0.5
         },
         "mode": "lines",
         "type": "scatter",
         "x": [
          0,
          1,
          2,
          3
         ],
         "xaxis": "x7",
         "y": [
          0,
          0,
          0,
          0
         ],
         "yaxis": "y7"
        },
        {
         "hoverinfo": "none",
         "line": {
          "color": "rgba(251,114,82,0.5)",
          "width": 0.5
         },
         "mode": "lines",
         "type": "scatter",
         "x": [
          0,
          1,
          2,
          3
         ],
         "xaxis": "x7",
         "y": [
          0,
          0,
          0,
          0
         ],
         "yaxis": "y7"
        },
        {
         "hoverinfo": "none",
         "line": {
          "color": "rgba(248,96,67,0.5)",
          "width": 0.5
         },
         "mode": "lines",
         "type": "scatter",
         "x": [
          0,
          1,
          2,
          3
         ],
         "xaxis": "x7",
         "y": [
          0,
          0,
          0,
          0
         ],
         "yaxis": "y7"
        },
        {
         "hoverinfo": "none",
         "line": {
          "color": "rgba(243,75,54,0.5)",
          "width": 0.5
         },
         "mode": "lines",
         "type": "scatter",
         "x": [
          0,
          1,
          2,
          3
         ],
         "xaxis": "x7",
         "y": [
          0,
          0,
          0,
          0
         ],
         "yaxis": "y7"
        },
        {
         "hoverinfo": "none",
         "line": {
          "color": "rgba(237,57,43,0.5)",
          "width": 0.5
         },
         "mode": "lines",
         "type": "scatter",
         "x": [
          0,
          1,
          2,
          3
         ],
         "xaxis": "x7",
         "y": [
          0,
          0,
          0,
          0
         ],
         "yaxis": "y7"
        },
        {
         "hoverinfo": "none",
         "line": {
          "color": "rgba(221,41,36,0.5)",
          "width": 0.5
         },
         "mode": "lines",
         "type": "scatter",
         "x": [
          0,
          1,
          2,
          3
         ],
         "xaxis": "x7",
         "y": [
          0,
          0,
          0,
          0
         ],
         "yaxis": "y7"
        },
        {
         "hoverinfo": "none",
         "line": {
          "color": "rgba(206,27,30,0.5)",
          "width": 0.5
         },
         "mode": "lines",
         "type": "scatter",
         "x": [
          0,
          1,
          2,
          3
         ],
         "xaxis": "x7",
         "y": [
          0,
          0,
          0,
          0
         ],
         "yaxis": "y7"
        },
        {
         "hoverinfo": "none",
         "line": {
          "color": "rgba(252,182,156,0.5)",
          "width": 0.5
         },
         "mode": "lines",
         "type": "scatter",
         "x": [
          0,
          1,
          2,
          3
         ],
         "xaxis": "x7",
         "y": [
          0,
          0,
          0,
          0
         ],
         "yaxis": "y7"
        },
        {
         "hoverinfo": "none",
         "line": {
          "color": "rgba(252,166,137,0.5)",
          "width": 0.5
         },
         "mode": "lines",
         "type": "scatter",
         "x": [
          0,
          1,
          2,
          3
         ],
         "xaxis": "x7",
         "y": [
          0,
          0,
          0.1,
          0
         ],
         "yaxis": "y7"
        },
        {
         "hoverinfo": "none",
         "line": {
          "color": "rgba(252,148,116,0.5)",
          "width": 0.5
         },
         "mode": "lines",
         "type": "scatter",
         "x": [
          0,
          1,
          2,
          3
         ],
         "xaxis": "x7",
         "y": [
          0,
          0,
          0,
          0
         ],
         "yaxis": "y7"
        },
        {
         "hoverinfo": "none",
         "line": {
          "color": "rgba(251,131,99,0.5)",
          "width": 0.5
         },
         "mode": "lines",
         "type": "scatter",
         "x": [
          0,
          1,
          2,
          3
         ],
         "xaxis": "x7",
         "y": [
          0,
          0,
          0,
          0
         ],
         "yaxis": "y7"
        },
        {
         "hoverinfo": "none",
         "line": {
          "color": "rgba(251,114,82,0.5)",
          "width": 0.5
         },
         "mode": "lines",
         "type": "scatter",
         "x": [
          0,
          1,
          2,
          3
         ],
         "xaxis": "x7",
         "y": [
          0,
          0,
          0,
          0
         ],
         "yaxis": "y7"
        },
        {
         "hoverinfo": "none",
         "line": {
          "color": "rgba(248,96,67,0.5)",
          "width": 0.5
         },
         "mode": "lines",
         "type": "scatter",
         "x": [
          0,
          1,
          2,
          3
         ],
         "xaxis": "x7",
         "y": [
          0,
          0,
          0,
          0
         ],
         "yaxis": "y7"
        },
        {
         "hoverinfo": "none",
         "line": {
          "color": "rgba(243,75,54,0.5)",
          "width": 0.5
         },
         "mode": "lines",
         "type": "scatter",
         "x": [
          0,
          1,
          2,
          3
         ],
         "xaxis": "x7",
         "y": [
          0,
          0,
          0.2,
          0
         ],
         "yaxis": "y7"
        },
        {
         "hoverinfo": "none",
         "line": {
          "color": "rgba(237,57,43,0.5)",
          "width": 0.5
         },
         "mode": "lines",
         "type": "scatter",
         "x": [
          0,
          1,
          2,
          3
         ],
         "xaxis": "x7",
         "y": [
          0,
          0,
          0,
          0
         ],
         "yaxis": "y7"
        },
        {
         "hoverinfo": "none",
         "line": {
          "color": "rgba(221,41,36,0.5)",
          "width": 0.5
         },
         "mode": "lines",
         "type": "scatter",
         "x": [
          0,
          1,
          2,
          3
         ],
         "xaxis": "x7",
         "y": [
          0,
          0,
          0,
          0
         ],
         "yaxis": "y7"
        },
        {
         "hoverinfo": "none",
         "line": {
          "color": "rgba(206,27,30,0.5)",
          "width": 0.5
         },
         "mode": "lines",
         "type": "scatter",
         "x": [
          0,
          1,
          2,
          3
         ],
         "xaxis": "x7",
         "y": [
          0,
          0,
          0.8,
          0.1
         ],
         "yaxis": "y7"
        },
        {
         "hoverinfo": "none",
         "line": {
          "color": "#FEDC00",
          "width": 4.5
         },
         "mode": "lines",
         "type": "scatter",
         "x": [
          0,
          1,
          2,
          3
         ],
         "xaxis": "x7",
         "y": [
          0,
          0,
          0.10561797752808988,
          0.0053586862575626636
         ],
         "yaxis": "y7"
        },
        {
         "hoverinfo": "none",
         "line": {
          "color": "#E75438",
          "dash": "dash",
          "width": 1.5
         },
         "mode": "lines",
         "type": "scatter",
         "x": [
          0,
          1,
          2,
          3
         ],
         "xaxis": "x7",
         "y": [
          0,
          0,
          0,
          0
         ],
         "yaxis": "y7"
        },
        {
         "hovertemplate": "%{y}",
         "line": {
          "color": "rgba(103,0,12,1.0)",
          "width": 1.5
         },
         "marker": {
          "color": "rgba(103,0,12,1.0)",
          "size": 5
         },
         "mode": "lines+markers",
         "name": "pdp",
         "type": "scatter",
         "x": [
          0,
          1,
          2,
          3
         ],
         "xaxis": "x7",
         "y": [
          0,
          0,
          0.10561797752808988,
          0.0053586862575626636
         ],
         "yaxis": "y7"
        },
        {
         "colorscale": [
          [
           0,
           "rgb(255,245,240)"
          ],
          [
           0.125,
           "rgb(254,224,210)"
          ],
          [
           0.25,
           "rgb(252,187,161)"
          ],
          [
           0.375,
           "rgb(252,146,114)"
          ],
          [
           0.5,
           "rgb(251,106,74)"
          ],
          [
           0.625,
           "rgb(239,59,44)"
          ],
          [
           0.75,
           "rgb(203,24,29)"
          ],
          [
           0.875,
           "rgb(165,15,21)"
          ],
          [
           1,
           "rgb(103,0,13)"
          ]
         ],
         "hovertemplate": "%{text}",
         "name": "dist",
         "opacity": 0.8,
         "showscale": false,
         "text": [
          [
           0.334,
           0.666
          ]
         ],
         "texttemplate": "%{text}",
         "type": "heatmap",
         "x": [
          0,
          2
         ],
         "xaxis": "x10",
         "xgap": 2,
         "y": [
          0
         ],
         "yaxis": "y10",
         "z": [
          [
           0.33362143474503025,
           0.6663785652549697
          ]
         ],
         "zmax": 0.6663785652549697,
         "zmin": 0
        }
       ],
       "layout": {
        "annotations": [
         {
          "font": {
           "size": 12
          },
          "showarrow": false,
          "text": "<b>pred_0</b>",
          "x": 0.14666666666666667,
          "xanchor": "center",
          "xref": "paper",
          "y": 0.99,
          "yanchor": "bottom",
          "yref": "paper"
         },
         {
          "font": {
           "size": 12
          },
          "showarrow": false,
          "text": "<b>pred_1</b>",
          "x": 0.14666666666666667,
          "xanchor": "center",
          "xref": "paper",
          "y": 0.44499999999999995,
          "yanchor": "bottom",
          "yref": "paper"
         },
         {
          "font": {
           "size": 12
          },
          "showarrow": false,
          "text": "<b>pred_2</b>",
          "x": 0.14666666666666667,
          "xanchor": "center",
          "xref": "paper",
          "y": -0.10000000000000009,
          "yanchor": "bottom",
          "yref": "paper"
         },
         {
          "font": {
           "size": 12
          },
          "showarrow": false,
          "text": "<b>pred_3</b>",
          "x": 0.5,
          "xanchor": "center",
          "xref": "paper",
          "y": 0.99,
          "yanchor": "bottom",
          "yref": "paper"
         }
        ],
        "height": 800,
        "showlegend": false,
        "template": {
         "data": {
          "bar": [
           {
            "error_x": {
             "color": "#2a3f5f"
            },
            "error_y": {
             "color": "#2a3f5f"
            },
            "marker": {
             "line": {
              "color": "white",
              "width": 0.5
             },
             "pattern": {
              "fillmode": "overlay",
              "size": 10,
              "solidity": 0.2
             }
            },
            "type": "bar"
           }
          ],
          "barpolar": [
           {
            "marker": {
             "line": {
              "color": "white",
              "width": 0.5
             },
             "pattern": {
              "fillmode": "overlay",
              "size": 10,
              "solidity": 0.2
             }
            },
            "type": "barpolar"
           }
          ],
          "carpet": [
           {
            "aaxis": {
             "endlinecolor": "#2a3f5f",
             "gridcolor": "#C8D4E3",
             "linecolor": "#C8D4E3",
             "minorgridcolor": "#C8D4E3",
             "startlinecolor": "#2a3f5f"
            },
            "baxis": {
             "endlinecolor": "#2a3f5f",
             "gridcolor": "#C8D4E3",
             "linecolor": "#C8D4E3",
             "minorgridcolor": "#C8D4E3",
             "startlinecolor": "#2a3f5f"
            },
            "type": "carpet"
           }
          ],
          "choropleth": [
           {
            "colorbar": {
             "outlinewidth": 0,
             "ticks": ""
            },
            "type": "choropleth"
           }
          ],
          "contour": [
           {
            "colorbar": {
             "outlinewidth": 0,
             "ticks": ""
            },
            "colorscale": [
             [
              0,
              "#0d0887"
             ],
             [
              0.1111111111111111,
              "#46039f"
             ],
             [
              0.2222222222222222,
              "#7201a8"
             ],
             [
              0.3333333333333333,
              "#9c179e"
             ],
             [
              0.4444444444444444,
              "#bd3786"
             ],
             [
              0.5555555555555556,
              "#d8576b"
             ],
             [
              0.6666666666666666,
              "#ed7953"
             ],
             [
              0.7777777777777778,
              "#fb9f3a"
             ],
             [
              0.8888888888888888,
              "#fdca26"
             ],
             [
              1,
              "#f0f921"
             ]
            ],
            "type": "contour"
           }
          ],
          "contourcarpet": [
           {
            "colorbar": {
             "outlinewidth": 0,
             "ticks": ""
            },
            "type": "contourcarpet"
           }
          ],
          "heatmap": [
           {
            "colorbar": {
             "outlinewidth": 0,
             "ticks": ""
            },
            "colorscale": [
             [
              0,
              "#0d0887"
             ],
             [
              0.1111111111111111,
              "#46039f"
             ],
             [
              0.2222222222222222,
              "#7201a8"
             ],
             [
              0.3333333333333333,
              "#9c179e"
             ],
             [
              0.4444444444444444,
              "#bd3786"
             ],
             [
              0.5555555555555556,
              "#d8576b"
             ],
             [
              0.6666666666666666,
              "#ed7953"
             ],
             [
              0.7777777777777778,
              "#fb9f3a"
             ],
             [
              0.8888888888888888,
              "#fdca26"
             ],
             [
              1,
              "#f0f921"
             ]
            ],
            "type": "heatmap"
           }
          ],
          "heatmapgl": [
           {
            "colorbar": {
             "outlinewidth": 0,
             "ticks": ""
            },
            "colorscale": [
             [
              0,
              "#0d0887"
             ],
             [
              0.1111111111111111,
              "#46039f"
             ],
             [
              0.2222222222222222,
              "#7201a8"
             ],
             [
              0.3333333333333333,
              "#9c179e"
             ],
             [
              0.4444444444444444,
              "#bd3786"
             ],
             [
              0.5555555555555556,
              "#d8576b"
             ],
             [
              0.6666666666666666,
              "#ed7953"
             ],
             [
              0.7777777777777778,
              "#fb9f3a"
             ],
             [
              0.8888888888888888,
              "#fdca26"
             ],
             [
              1,
              "#f0f921"
             ]
            ],
            "type": "heatmapgl"
           }
          ],
          "histogram": [
           {
            "marker": {
             "pattern": {
              "fillmode": "overlay",
              "size": 10,
              "solidity": 0.2
             }
            },
            "type": "histogram"
           }
          ],
          "histogram2d": [
           {
            "colorbar": {
             "outlinewidth": 0,
             "ticks": ""
            },
            "colorscale": [
             [
              0,
              "#0d0887"
             ],
             [
              0.1111111111111111,
              "#46039f"
             ],
             [
              0.2222222222222222,
              "#7201a8"
             ],
             [
              0.3333333333333333,
              "#9c179e"
             ],
             [
              0.4444444444444444,
              "#bd3786"
             ],
             [
              0.5555555555555556,
              "#d8576b"
             ],
             [
              0.6666666666666666,
              "#ed7953"
             ],
             [
              0.7777777777777778,
              "#fb9f3a"
             ],
             [
              0.8888888888888888,
              "#fdca26"
             ],
             [
              1,
              "#f0f921"
             ]
            ],
            "type": "histogram2d"
           }
          ],
          "histogram2dcontour": [
           {
            "colorbar": {
             "outlinewidth": 0,
             "ticks": ""
            },
            "colorscale": [
             [
              0,
              "#0d0887"
             ],
             [
              0.1111111111111111,
              "#46039f"
             ],
             [
              0.2222222222222222,
              "#7201a8"
             ],
             [
              0.3333333333333333,
              "#9c179e"
             ],
             [
              0.4444444444444444,
              "#bd3786"
             ],
             [
              0.5555555555555556,
              "#d8576b"
             ],
             [
              0.6666666666666666,
              "#ed7953"
             ],
             [
              0.7777777777777778,
              "#fb9f3a"
             ],
             [
              0.8888888888888888,
              "#fdca26"
             ],
             [
              1,
              "#f0f921"
             ]
            ],
            "type": "histogram2dcontour"
           }
          ],
          "mesh3d": [
           {
            "colorbar": {
             "outlinewidth": 0,
             "ticks": ""
            },
            "type": "mesh3d"
           }
          ],
          "parcoords": [
           {
            "line": {
             "colorbar": {
              "outlinewidth": 0,
              "ticks": ""
             }
            },
            "type": "parcoords"
           }
          ],
          "pie": [
           {
            "automargin": true,
            "type": "pie"
           }
          ],
          "scatter": [
           {
            "fillpattern": {
             "fillmode": "overlay",
             "size": 10,
             "solidity": 0.2
            },
            "type": "scatter"
           }
          ],
          "scatter3d": [
           {
            "line": {
             "colorbar": {
              "outlinewidth": 0,
              "ticks": ""
             }
            },
            "marker": {
             "colorbar": {
              "outlinewidth": 0,
              "ticks": ""
             }
            },
            "type": "scatter3d"
           }
          ],
          "scattercarpet": [
           {
            "marker": {
             "colorbar": {
              "outlinewidth": 0,
              "ticks": ""
             }
            },
            "type": "scattercarpet"
           }
          ],
          "scattergeo": [
           {
            "marker": {
             "colorbar": {
              "outlinewidth": 0,
              "ticks": ""
             }
            },
            "type": "scattergeo"
           }
          ],
          "scattergl": [
           {
            "marker": {
             "colorbar": {
              "outlinewidth": 0,
              "ticks": ""
             }
            },
            "type": "scattergl"
           }
          ],
          "scattermapbox": [
           {
            "marker": {
             "colorbar": {
              "outlinewidth": 0,
              "ticks": ""
             }
            },
            "type": "scattermapbox"
           }
          ],
          "scatterpolar": [
           {
            "marker": {
             "colorbar": {
              "outlinewidth": 0,
              "ticks": ""
             }
            },
            "type": "scatterpolar"
           }
          ],
          "scatterpolargl": [
           {
            "marker": {
             "colorbar": {
              "outlinewidth": 0,
              "ticks": ""
             }
            },
            "type": "scatterpolargl"
           }
          ],
          "scatterternary": [
           {
            "marker": {
             "colorbar": {
              "outlinewidth": 0,
              "ticks": ""
             }
            },
            "type": "scatterternary"
           }
          ],
          "surface": [
           {
            "colorbar": {
             "outlinewidth": 0,
             "ticks": ""
            },
            "colorscale": [
             [
              0,
              "#0d0887"
             ],
             [
              0.1111111111111111,
              "#46039f"
             ],
             [
              0.2222222222222222,
              "#7201a8"
             ],
             [
              0.3333333333333333,
              "#9c179e"
             ],
             [
              0.4444444444444444,
              "#bd3786"
             ],
             [
              0.5555555555555556,
              "#d8576b"
             ],
             [
              0.6666666666666666,
              "#ed7953"
             ],
             [
              0.7777777777777778,
              "#fb9f3a"
             ],
             [
              0.8888888888888888,
              "#fdca26"
             ],
             [
              1,
              "#f0f921"
             ]
            ],
            "type": "surface"
           }
          ],
          "table": [
           {
            "cells": {
             "fill": {
              "color": "#EBF0F8"
             },
             "line": {
              "color": "white"
             }
            },
            "header": {
             "fill": {
              "color": "#C8D4E3"
             },
             "line": {
              "color": "white"
             }
            },
            "type": "table"
           }
          ]
         },
         "layout": {
          "annotationdefaults": {
           "arrowcolor": "#2a3f5f",
           "arrowhead": 0,
           "arrowwidth": 1
          },
          "autotypenumbers": "strict",
          "coloraxis": {
           "colorbar": {
            "outlinewidth": 0,
            "ticks": ""
           }
          },
          "colorscale": {
           "diverging": [
            [
             0,
             "#8e0152"
            ],
            [
             0.1,
             "#c51b7d"
            ],
            [
             0.2,
             "#de77ae"
            ],
            [
             0.3,
             "#f1b6da"
            ],
            [
             0.4,
             "#fde0ef"
            ],
            [
             0.5,
             "#f7f7f7"
            ],
            [
             0.6,
             "#e6f5d0"
            ],
            [
             0.7,
             "#b8e186"
            ],
            [
             0.8,
             "#7fbc41"
            ],
            [
             0.9,
             "#4d9221"
            ],
            [
             1,
             "#276419"
            ]
           ],
           "sequential": [
            [
             0,
             "#0d0887"
            ],
            [
             0.1111111111111111,
             "#46039f"
            ],
            [
             0.2222222222222222,
             "#7201a8"
            ],
            [
             0.3333333333333333,
             "#9c179e"
            ],
            [
             0.4444444444444444,
             "#bd3786"
            ],
            [
             0.5555555555555556,
             "#d8576b"
            ],
            [
             0.6666666666666666,
             "#ed7953"
            ],
            [
             0.7777777777777778,
             "#fb9f3a"
            ],
            [
             0.8888888888888888,
             "#fdca26"
            ],
            [
             1,
             "#f0f921"
            ]
           ],
           "sequentialminus": [
            [
             0,
             "#0d0887"
            ],
            [
             0.1111111111111111,
             "#46039f"
            ],
            [
             0.2222222222222222,
             "#7201a8"
            ],
            [
             0.3333333333333333,
             "#9c179e"
            ],
            [
             0.4444444444444444,
             "#bd3786"
            ],
            [
             0.5555555555555556,
             "#d8576b"
            ],
            [
             0.6666666666666666,
             "#ed7953"
            ],
            [
             0.7777777777777778,
             "#fb9f3a"
            ],
            [
             0.8888888888888888,
             "#fdca26"
            ],
            [
             1,
             "#f0f921"
            ]
           ]
          },
          "colorway": [
           "#636efa",
           "#EF553B",
           "#00cc96",
           "#ab63fa",
           "#FFA15A",
           "#19d3f3",
           "#FF6692",
           "#B6E880",
           "#FF97FF",
           "#FECB52"
          ],
          "font": {
           "color": "#2a3f5f"
          },
          "geo": {
           "bgcolor": "white",
           "lakecolor": "white",
           "landcolor": "white",
           "showlakes": true,
           "showland": true,
           "subunitcolor": "#C8D4E3"
          },
          "hoverlabel": {
           "align": "left"
          },
          "hovermode": "closest",
          "mapbox": {
           "style": "light"
          },
          "paper_bgcolor": "white",
          "plot_bgcolor": "white",
          "polar": {
           "angularaxis": {
            "gridcolor": "#EBF0F8",
            "linecolor": "#EBF0F8",
            "ticks": ""
           },
           "bgcolor": "white",
           "radialaxis": {
            "gridcolor": "#EBF0F8",
            "linecolor": "#EBF0F8",
            "ticks": ""
           }
          },
          "scene": {
           "xaxis": {
            "backgroundcolor": "white",
            "gridcolor": "#DFE8F3",
            "gridwidth": 2,
            "linecolor": "#EBF0F8",
            "showbackground": true,
            "ticks": "",
            "zerolinecolor": "#EBF0F8"
           },
           "yaxis": {
            "backgroundcolor": "white",
            "gridcolor": "#DFE8F3",
            "gridwidth": 2,
            "linecolor": "#EBF0F8",
            "showbackground": true,
            "ticks": "",
            "zerolinecolor": "#EBF0F8"
           },
           "zaxis": {
            "backgroundcolor": "white",
            "gridcolor": "#DFE8F3",
            "gridwidth": 2,
            "linecolor": "#EBF0F8",
            "showbackground": true,
            "ticks": "",
            "zerolinecolor": "#EBF0F8"
           }
          },
          "shapedefaults": {
           "line": {
            "color": "#2a3f5f"
           }
          },
          "ternary": {
           "aaxis": {
            "gridcolor": "#DFE8F3",
            "linecolor": "#A2B1C6",
            "ticks": ""
           },
           "baxis": {
            "gridcolor": "#DFE8F3",
            "linecolor": "#A2B1C6",
            "ticks": ""
           },
           "bgcolor": "white",
           "caxis": {
            "gridcolor": "#DFE8F3",
            "linecolor": "#A2B1C6",
            "ticks": ""
           }
          },
          "title": {
           "x": 0.05
          },
          "xaxis": {
           "automargin": true,
           "gridcolor": "#EBF0F8",
           "linecolor": "#EBF0F8",
           "ticks": "",
           "title": {
            "standoff": 15
           },
           "zerolinecolor": "#EBF0F8",
           "zerolinewidth": 2
          },
          "yaxis": {
           "automargin": true,
           "gridcolor": "#EBF0F8",
           "linecolor": "#EBF0F8",
           "ticks": "",
           "title": {
            "standoff": 15
           },
           "zerolinecolor": "#EBF0F8",
           "zerolinewidth": 2
          }
         }
        },
        "title": {
         "text": "PDP for feature <b>safety</b> <br><sup>Number of unique grid points: 4</sup>",
         "x": 0,
         "xref": "paper"
        },
        "width": 1200,
        "xaxis": {
         "anchor": "y",
         "domain": [
          0,
          0.29333333333333333
         ],
         "range": [
          0,
          3
         ],
         "ticktext": [
          "",
          "",
          "",
          ""
         ],
         "tickvals": [
          0,
          1,
          2,
          3
         ]
        },
        "xaxis10": {
         "anchor": "y10",
         "domain": [
          0.35333333333333333,
          0.6466666666666667
         ],
         "range": [
          -0.5,
          2.5
         ],
         "ticktext": [
          "[1.0, 1.33)",
          "[1.33, 2.0)",
          "[2.0, 3.0]"
         ],
         "tickvals": [
          0,
          1,
          2
         ],
         "title": {
          "text": "<b>safety</b> (value)"
         }
        },
        "xaxis11": {
         "anchor": "y11",
         "domain": [
          0.3333333333333333,
          0.6666666666666666
         ]
        },
        "xaxis12": {
         "anchor": "y12",
         "domain": [
          0.6666666666666666,
          1
         ]
        },
        "xaxis2": {
         "anchor": "y2",
         "domain": [
          0,
          0.29333333333333333
         ],
         "range": [
          0,
          3
         ],
         "ticktext": [
          "",
          "",
          "",
          ""
         ],
         "tickvals": [
          0,
          1,
          2,
          3
         ]
        },
        "xaxis3": {
         "anchor": "y3",
         "domain": [
          0,
          0.29333333333333333
         ],
         "range": [
          0,
          3
         ],
         "ticktext": [
          "",
          "",
          "",
          ""
         ],
         "tickvals": [
          0,
          1,
          2,
          3
         ]
        },
        "xaxis4": {
         "anchor": "y4",
         "domain": [
          0,
          0.29333333333333333
         ],
         "range": [
          -0.5,
          2.5
         ],
         "ticktext": [
          "[1.0, 1.33)",
          "[1.33, 2.0)",
          "[2.0, 3.0]"
         ],
         "tickvals": [
          0,
          1,
          2
         ],
         "title": {
          "text": "<b>safety</b> (value)"
         }
        },
        "xaxis5": {
         "anchor": "y5",
         "domain": [
          0,
          0.29333333333333333
         ],
         "range": [
          -0.5,
          2.5
         ],
         "ticktext": [
          "[1.0, 1.33)",
          "[1.33, 2.0)",
          "[2.0, 3.0]"
         ],
         "tickvals": [
          0,
          1,
          2
         ],
         "title": {
          "text": "<b>safety</b> (value)"
         }
        },
        "xaxis6": {
         "anchor": "y6",
         "domain": [
          0,
          0.29333333333333333
         ],
         "range": [
          -0.5,
          2.5
         ],
         "ticktext": [
          "[1.0, 1.33)",
          "[1.33, 2.0)",
          "[2.0, 3.0]"
         ],
         "tickvals": [
          0,
          1,
          2
         ],
         "title": {
          "text": "<b>safety</b> (value)"
         }
        },
        "xaxis7": {
         "anchor": "y7",
         "domain": [
          0.35333333333333333,
          0.6466666666666667
         ],
         "range": [
          0,
          3
         ],
         "ticktext": [
          "",
          "",
          "",
          ""
         ],
         "tickvals": [
          0,
          1,
          2,
          3
         ]
        },
        "xaxis8": {
         "anchor": "y8",
         "domain": [
          0.3333333333333333,
          0.6666666666666666
         ]
        },
        "xaxis9": {
         "anchor": "y9",
         "domain": [
          0.6666666666666666,
          1
         ]
        },
        "yaxis": {
         "anchor": "x",
         "domain": [
          0.5933333333333333,
          0.99
         ],
         "title": {
          "text": "centered"
         }
        },
        "yaxis10": {
         "anchor": "x10",
         "domain": [
          0.5449999999999999,
          0.5733333333333333
         ],
         "showticklabels": false
        },
        "yaxis11": {
         "anchor": "x11",
         "domain": [
          0,
          0.25
         ]
        },
        "yaxis12": {
         "anchor": "x12",
         "domain": [
          0,
          0.25
         ]
        },
        "yaxis2": {
         "anchor": "x2",
         "domain": [
          0.04833333333333334,
          0.44499999999999995
         ],
         "title": {
          "text": "centered"
         }
        },
        "yaxis3": {
         "anchor": "x3",
         "domain": [
          0,
          0
         ],
         "title": {
          "text": "centered"
         }
        },
        "yaxis4": {
         "anchor": "x4",
         "domain": [
          0.5449999999999999,
          0.5733333333333333
         ],
         "showticklabels": false
        },
        "yaxis5": {
         "anchor": "x5",
         "domain": [
          0,
          0.02833333333333332
         ],
         "showticklabels": false
        },
        "yaxis6": {
         "anchor": "x6",
         "domain": [
          0,
          0
         ],
         "showticklabels": false
        },
        "yaxis7": {
         "anchor": "x7",
         "domain": [
          0.5933333333333333,
          0.99
         ],
         "title": {
          "text": "centered"
         }
        },
        "yaxis8": {
         "anchor": "x8",
         "domain": [
          0.25,
          0.5
         ]
        },
        "yaxis9": {
         "anchor": "x9",
         "domain": [
          0.25,
          0.5
         ]
        }
       }
      }
     },
     "metadata": {},
     "output_type": "display_data"
    }
   ],
   "source": [
    "# instantiate the classifier\n",
    "rfc = RandomForestClassifier(n_estimators=10, random_state=0)\n",
    "\n",
    "\n",
    "# fit the model\n",
    "rfc.fit(X_train, y_train)\n",
    "\n",
    "# Predict the Test set results\n",
    "y_pred = rfc.predict(X_test)\n",
    "\n",
    "# Check accuracy score\n",
    "print('Model accuracy score with 10 decision-trees : {0:0.4f}'. format(\n",
    "    accuracy_score(y_test, y_pred)))\n",
    "result = permutation_importance(\n",
    "    rfc, X_test, y_test, n_repeats=10, random_state=42, n_jobs=2\n",
    ")\n",
    "\n",
    "sorted_importances_idx = result.importances_mean.argsort()\n",
    "importances = pd.DataFrame(\n",
    "    result.importances[sorted_importances_idx].T,\n",
    "    columns=X_train.columns[sorted_importances_idx],\n",
    ")\n",
    "ax = importances.plot.box(vert=False, whis=10)\n",
    "ax.set_title(\"Permutation Importances (test set)\")\n",
    "ax.axvline(x=0, color=\"k\", linestyle=\"--\")\n",
    "ax.set_xlabel(\"Decrease in accuracy score\")\n",
    "ax.figure.tight_layout()"
   ]
  }
 ],
 "metadata": {
  "kernelspec": {
   "display_name": "Python 3",
   "language": "python",
   "name": "python3"
  },
  "language_info": {
   "codemirror_mode": {
    "name": "ipython",
    "version": 3
   },
   "file_extension": ".py",
   "mimetype": "text/x-python",
   "name": "python",
   "nbconvert_exporter": "python",
   "pygments_lexer": "ipython3",
   "version": "3.11.6"
  }
 },
 "nbformat": 4,
 "nbformat_minor": 2
}
