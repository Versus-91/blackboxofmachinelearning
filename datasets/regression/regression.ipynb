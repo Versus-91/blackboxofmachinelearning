{
 "cells": [
  {
   "cell_type": "code",
   "execution_count": 2,
   "metadata": {},
   "outputs": [
    {
     "name": "stdout",
     "output_type": "stream",
     "text": [
      "                            OLS Regression Results                            \n",
      "==============================================================================\n",
      "Dep. Variable:                charges   R-squared:                       0.755\n",
      "Model:                            OLS   Adj. R-squared:                  0.753\n",
      "Method:                 Least Squares   F-statistic:                     356.6\n",
      "Date:                Thu, 02 Nov 2023   Prob (F-statistic):          8.89e-277\n",
      "Time:                        15:55:20   Log-Likelihood:                -9476.7\n",
      "No. Observations:                 936   AIC:                         1.897e+04\n",
      "Df Residuals:                     927   BIC:                         1.901e+04\n",
      "Df Model:                           8                                         \n",
      "Covariance Type:            nonrobust                                         \n",
      "====================================================================================\n",
      "                       coef    std err          t      P>|t|      [0.025      0.975]\n",
      "------------------------------------------------------------------------------------\n",
      "const              210.6141    507.982      0.415      0.679    -786.314    1207.543\n",
      "age                251.6162     14.264     17.640      0.000     223.622     279.610\n",
      "bmi                322.7619     34.140      9.454      0.000     255.761     389.762\n",
      "children           348.4582    162.750      2.141      0.033      29.057     667.859\n",
      "sex_female         247.8701    317.486      0.781      0.435    -375.204     870.944\n",
      "sex_male           -37.2560    327.999     -0.114      0.910    -680.962     606.450\n",
      "smoker_no        -1.193e+04    331.672    -35.968      0.000   -1.26e+04   -1.13e+04\n",
      "smoker_yes        1.214e+04    374.111     32.451      0.000    1.14e+04    1.29e+04\n",
      "region_northeast   580.6337    357.929      1.622      0.105    -121.812    1283.079\n",
      "region_northwest   290.5847    365.309      0.795      0.427    -426.343    1007.512\n",
      "region_southeast  -367.1333    395.586     -0.928      0.354   -1143.482     409.215\n",
      "region_southwest  -293.4710    366.405     -0.801      0.423   -1012.550     425.608\n",
      "==============================================================================\n",
      "Omnibus:                      207.442   Durbin-Watson:                   1.954\n",
      "Prob(Omnibus):                  0.000   Jarque-Bera (JB):              491.613\n",
      "Skew:                           1.182   Prob(JB):                    1.77e-107\n",
      "Kurtosis:                       5.649   Cond. No.                     6.04e+17\n",
      "==============================================================================\n",
      "\n",
      "Notes:\n",
      "[1] Standard Errors assume that the covariance matrix of the errors is correctly specified.\n",
      "[2] The smallest eigenvalue is 6.59e-30. This might indicate that there are\n",
      "strong multicollinearity problems or that the design matrix is singular.\n"
     ]
    }
   ],
   "source": [
    "import os\n",
    "import pandas as pd\n",
    "import numpy as np\n",
    "\n",
    "import plotly.express as px\n",
    "import matplotlib\n",
    "import matplotlib.pyplot as plt\n",
    "import seaborn as sns\n",
    "import statsmodels.api as sm\n",
    "\n",
    "%matplotlib inline\n",
    "\n",
    "import warnings\n",
    "warnings.filterwarnings('ignore')\n",
    "\n",
    "from sklearn import metrics\n",
    "from sklearn.linear_model import LinearRegression\n",
    "from sklearn.model_selection import train_test_split\n",
    "from sklearn.metrics import mean_absolute_error, mean_squared_error, r2_score\n",
    "from joblib import dump, load\n",
    "df = pd.read_csv(os.path.join(os.getcwd(),\n",
    "                   \"insurance.csv\"))\n",
    "insurance_one_hot = pd.get_dummies(df).astype(int)\n",
    "features = insurance_one_hot.drop('charges', axis = 1)\n",
    "targets = insurance_one_hot['charges']\n",
    "\n",
    "x_train,x_test,y_train,y_test = train_test_split(features,targets,test_size= 0.3,random_state=1)\n",
    "x_train = sm.add_constant(x_train)\n",
    "\n",
    "result = sm.OLS(y_train, x_train).fit()\n",
    "results_as_html = result.summary().tables[1].as_html()\n",
    "print(result.summary())\n",
    "with open(\"summary_table.tex\", \"w\") as f:\n",
    "    f.write(result.summary().as_latex())\n",
    "\n"
   ]
  },
  {
   "cell_type": "code",
   "execution_count": 1,
   "metadata": {},
   "outputs": [
    {
     "ename": "NameError",
     "evalue": "name 'result' is not defined",
     "output_type": "error",
     "traceback": [
      "\u001b[1;31m---------------------------------------------------------------------------\u001b[0m",
      "\u001b[1;31mNameError\u001b[0m                                 Traceback (most recent call last)",
      "\u001b[1;32mc:\\Users\\versu\\Desktop\\research\\eai\\datasets\\regression\\regression.ipynb Cell 2\u001b[0m line \u001b[0;36m1\n\u001b[1;32m----> <a href='vscode-notebook-cell:/c%3A/Users/versu/Desktop/research/eai/datasets/regression/regression.ipynb#W1sZmlsZQ%3D%3D?line=0'>1</a>\u001b[0m y_pred \u001b[39m=\u001b[39m result\u001b[39m.\u001b[39mpredict(x)\n\u001b[0;32m      <a href='vscode-notebook-cell:/c%3A/Users/versu/Desktop/research/eai/datasets/regression/regression.ipynb#W1sZmlsZQ%3D%3D?line=1'>2</a>\u001b[0m \u001b[39mprint\u001b[39m(\u001b[39m\"\u001b[39m\u001b[39mMAE: \u001b[39m\u001b[39m\"\u001b[39m,     \u001b[39mround\u001b[39m(metrics\u001b[39m.\u001b[39mmean_absolute_error(y, y_pred),\u001b[39m2\u001b[39m))\n\u001b[0;32m      <a href='vscode-notebook-cell:/c%3A/Users/versu/Desktop/research/eai/datasets/regression/regression.ipynb#W1sZmlsZQ%3D%3D?line=2'>3</a>\u001b[0m \u001b[39mprint\u001b[39m(\u001b[39m\"\u001b[39m\u001b[39mMSE: \u001b[39m\u001b[39m\"\u001b[39m,     \u001b[39mround\u001b[39m(metrics\u001b[39m.\u001b[39mmean_squared_error(y, y_pred),\u001b[39m2\u001b[39m))\n",
      "\u001b[1;31mNameError\u001b[0m: name 'result' is not defined"
     ]
    }
   ],
   "source": [
    "y_pred = result.predict(x)\n",
    "print(\"MAE: \",     round(metrics.mean_absolute_error(y, y_pred),2))\n",
    "print(\"MSE: \",     round(metrics.mean_squared_error(y, y_pred),2))\n",
    "print(\"RMSE:     \",round(np.sqrt(mean_squared_error(y,y_pred)),2))"
   ]
  }
 ],
 "metadata": {
  "kernelspec": {
   "display_name": "tf",
   "language": "python",
   "name": "python3"
  },
  "language_info": {
   "codemirror_mode": {
    "name": "ipython",
    "version": 3
   },
   "file_extension": ".py",
   "mimetype": "text/x-python",
   "name": "python",
   "nbconvert_exporter": "python",
   "pygments_lexer": "ipython3",
   "version": "3.9.18"
  }
 },
 "nbformat": 4,
 "nbformat_minor": 2
}
