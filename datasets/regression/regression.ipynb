{
 "cells": [
  {
   "cell_type": "code",
   "execution_count": 5,
   "metadata": {},
   "outputs": [],
   "source": [
    "import os\n",
    "import pandas as pd\n",
    "import numpy as np\n",
    "\n",
    "import plotly.express as px\n",
    "import matplotlib\n",
    "import matplotlib.pyplot as plt\n",
    "import seaborn as sns\n",
    "import statsmodels.api as sm\n",
    "\n",
    "%matplotlib inline\n",
    "\n",
    "import warnings\n",
    "warnings.filterwarnings('ignore')\n",
    "\n",
    "from sklearn import metrics\n",
    "from sklearn.linear_model import LinearRegression\n",
    "from sklearn.model_selection import train_test_split\n",
    "from sklearn.metrics import mean_absolute_error, mean_squared_error, r2_score\n",
    "from joblib import dump, load\n",
    "df = pd.read_csv(os.path.join(os.getcwd(),\n",
    "                   \"insurance.csv\"))\n",
    "insurance_one_hot = pd.get_dummies(df).astype(int)\n",
    "X = insurance_one_hot.drop('charges', axis = 1)\n",
    "y = insurance_one_hot['charges']\n",
    "insurance_one_hot.head()\n",
    "x = sm.add_constant(X)\n",
    "\n",
    "result = sm.OLS(y, x).fit()\n",
    "results_as_html = result.summary().tables[1].as_html()\n",
    "result.summary()\n",
    "with open(\"summary_table.tex\", \"w\") as f:\n",
    "    f.write(result.summary().as_latex())\n",
    "\n"
   ]
  },
  {
   "cell_type": "code",
   "execution_count": 2,
   "metadata": {},
   "outputs": [
    {
     "ename": "NameError",
     "evalue": "name 'model' is not defined",
     "output_type": "error",
     "traceback": [
      "\u001b[1;31m---------------------------------------------------------------------------\u001b[0m",
      "\u001b[1;31mNameError\u001b[0m                                 Traceback (most recent call last)",
      "\u001b[1;32mc:\\Users\\versu\\Desktop\\research\\eai\\datasets\\regression\\regression.ipynb Cell 2\u001b[0m line \u001b[0;36m1\n\u001b[1;32m----> <a href='vscode-notebook-cell:/c%3A/Users/versu/Desktop/research/eai/datasets/regression/regression.ipynb#W1sZmlsZQ%3D%3D?line=0'>1</a>\u001b[0m y_pred \u001b[39m=\u001b[39m model\u001b[39m.\u001b[39mpredict(X_test)\n\u001b[0;32m      <a href='vscode-notebook-cell:/c%3A/Users/versu/Desktop/research/eai/datasets/regression/regression.ipynb#W1sZmlsZQ%3D%3D?line=1'>2</a>\u001b[0m \u001b[39mprint\u001b[39m(\u001b[39m\"\u001b[39m\u001b[39mMAE: \u001b[39m\u001b[39m\"\u001b[39m,     \u001b[39mround\u001b[39m(metrics\u001b[39m.\u001b[39mmean_absolute_error(y_test, y_pred),\u001b[39m2\u001b[39m))\n\u001b[0;32m      <a href='vscode-notebook-cell:/c%3A/Users/versu/Desktop/research/eai/datasets/regression/regression.ipynb#W1sZmlsZQ%3D%3D?line=2'>3</a>\u001b[0m \u001b[39mprint\u001b[39m(\u001b[39m\"\u001b[39m\u001b[39mMSE: \u001b[39m\u001b[39m\"\u001b[39m,     \u001b[39mround\u001b[39m(metrics\u001b[39m.\u001b[39mmean_squared_error(y_test, y_pred),\u001b[39m2\u001b[39m))\n",
      "\u001b[1;31mNameError\u001b[0m: name 'model' is not defined"
     ]
    }
   ],
   "source": [
    "y_pred = model.predict(X_test)\n",
    "print(\"MAE: \",     round(metrics.mean_absolute_error(y_test, y_pred),2))\n",
    "print(\"MSE: \",     round(metrics.mean_squared_error(y_test, y_pred),2))\n",
    "print(\"RMSE:     \",round(np.sqrt(mean_squared_error(y_test,y_pred)),2))"
   ]
  }
 ],
 "metadata": {
  "kernelspec": {
   "display_name": "tf",
   "language": "python",
   "name": "python3"
  },
  "language_info": {
   "codemirror_mode": {
    "name": "ipython",
    "version": 3
   },
   "file_extension": ".py",
   "mimetype": "text/x-python",
   "name": "python",
   "nbconvert_exporter": "python",
   "pygments_lexer": "ipython3",
   "version": "3.9.18"
  }
 },
 "nbformat": 4,
 "nbformat_minor": 2
}
