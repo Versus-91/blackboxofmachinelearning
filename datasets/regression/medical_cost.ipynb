{
 "cells": [
  {
   "cell_type": "code",
   "execution_count": 1,
   "metadata": {},
   "outputs": [
    {
     "name": "stderr",
     "output_type": "stream",
     "text": [
      "C:\\Users\\versu\\AppData\\Local\\Temp\\ipykernel_27352\\1339537613.py:25: DeprecationWarning: Importing display from IPython.core.display is deprecated since IPython 7.14, please import from IPython display\n",
      "  from IPython.core.display import display, HTML\n"
     ]
    }
   ],
   "source": [
    "# data science\n",
    "import numpy as np\n",
    "import pandas as pd\n",
    "import matplotlib.pyplot as plt\n",
    "import seaborn as sns\n",
    "# regression models\n",
    "from sklearn.preprocessing import StandardScaler # for feature scaling\n",
    "from sklearn.pipeline import Pipeline # for using pipeline\n",
    "from sklearn.linear_model import LinearRegression # for linear regression\n",
    "from sklearn.preprocessing import PolynomialFeatures # for adding polynomial features\n",
    "from sklearn.linear_model import Ridge # for ridge regression\n",
    "from sklearn.linear_model import Lasso # for lasso regression\n",
    "from sklearn.svm import SVR # for support vector regression\n",
    "from sklearn.tree import DecisionTreeRegressor # for decisiton tree regression\n",
    "from sklearn.ensemble import RandomForestRegressor # for random forest regression\n",
    "# hyptertuning\n",
    "from sklearn.model_selection import GridSearchCV\n",
    "from sklearn.model_selection import RandomizedSearchCV\n",
    "from scipy.stats import randint as sp_randint\n",
    "# extra\n",
    "from sklearn.metrics import r2_score\n",
    "from sklearn.metrics import mean_squared_error\n",
    "from sklearn.model_selection import cross_val_score\n",
    "from collections import Counter\n",
    "from IPython.core.display import display, HTML\n",
    "sns.set_style('darkgrid')\n",
    "data = pd.read_csv(\"insurance.csv\")  # Load your dataset\n"
   ]
  }
 ],
 "metadata": {
  "kernelspec": {
   "display_name": "Python 3",
   "language": "python",
   "name": "python3"
  },
  "language_info": {
   "codemirror_mode": {
    "name": "ipython",
    "version": 3
   },
   "file_extension": ".py",
   "mimetype": "text/x-python",
   "name": "python",
   "nbconvert_exporter": "python",
   "pygments_lexer": "ipython3",
   "version": "3.11.6"
  }
 },
 "nbformat": 4,
 "nbformat_minor": 2
}
